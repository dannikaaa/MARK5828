{
  "nbformat": 4,
  "nbformat_minor": 0,
  "metadata": {
    "colab": {
      "name": "Python FUN-damentals.ipynb",
      "version": "0.3.2",
      "provenance": [],
      "collapsed_sections": [],
      "toc_visible": true
    },
    "kernelspec": {
      "name": "python3",
      "display_name": "Python 3"
    }
  },
  "cells": [
    {
      "metadata": {
        "id": "hR0wMNB57DOx",
        "colab_type": "text"
      },
      "cell_type": "markdown",
      "source": [
        "![alt text](https://www.business.unsw.edu.au/style%20library/asb/assets/images/logo-unsw.png)"
      ]
    },
    {
      "metadata": {
        "id": "YoAk7h9R7QPf",
        "colab_type": "text"
      },
      "cell_type": "markdown",
      "source": [
        "# MARK5828 Advertising Analytics\n",
        "# Introduction to Python\n",
        "\n",
        "Contributors: James Lin, Namsu Kim, Osamah Al-Qershi\n",
        "\n",
        "Presenter: James Lin"
      ]
    },
    {
      "metadata": {
        "id": "7IffxkJdxx_3",
        "colab_type": "text"
      },
      "cell_type": "markdown",
      "source": [
        "![alt text](http://blog.opentechschool.org/assets/content/python.png)\n"
      ]
    },
    {
      "metadata": {
        "id": "1f7fAK_vzcYo",
        "colab_type": "text"
      },
      "cell_type": "markdown",
      "source": [
        "# 1. Overview"
      ]
    },
    {
      "metadata": {
        "id": "iXjTCh-WMlUS",
        "colab_type": "text"
      },
      "cell_type": "markdown",
      "source": [
        "## What is it?"
      ]
    },
    {
      "metadata": {
        "id": "mkHLeXNx1Zxx",
        "colab_type": "text"
      },
      "cell_type": "markdown",
      "source": [
        "Python is a programming language. Just as we have languages like English, Chinese and French to talk amongst people, a programming language is a way of talking to the computer to perform specific tasks.\n",
        "\n",
        "For example, when you use a software such as Microsoft Excel, you would perform tasks such as sorting, filtering columns or drawing a bar graph. In a way, you can see Python as a different tool that can perform these same functions as Excel."
      ]
    },
    {
      "metadata": {
        "id": "fX0r-JJ89HFJ",
        "colab_type": "text"
      },
      "cell_type": "markdown",
      "source": [
        "## Why are we using Python?\n",
        "![alt text](https://cdn-images-1.medium.com/max/1600/1*_R4CyVH0DSXkJsoRk-Px_Q.png)"
      ]
    },
    {
      "metadata": {
        "id": "onPZXWKCVpEB",
        "colab_type": "text"
      },
      "cell_type": "markdown",
      "source": [
        "## Companies using Python\n",
        "![alt text](https://4.bp.blogspot.com/-fFvckdzL0IM/WoaG0NiM0II/AAAAAAAAXOA/VwbfmSEI7XAQuoqnkpF3ev2ZhHExhorPwCLcBGAs/s640/Companies-Using-Python-Python-Programming-Language-Edureka.png)"
      ]
    },
    {
      "metadata": {
        "id": "0i2cUregMt1l",
        "colab_type": "text"
      },
      "cell_type": "markdown",
      "source": [
        "## What can I gain from learning Python in MARK5828?"
      ]
    },
    {
      "metadata": {
        "id": "beJDfr7Y9mRc",
        "colab_type": "text"
      },
      "cell_type": "markdown",
      "source": [
        "In MARK5828, we will be teaching Python geared towards **Data Analysis**. Here are some use cases of Python compared to Excel.\n",
        "\n",
        "1. **Handling Big Data:** Python can handle several millions of rows of data, depending on your computer hardware; Excel starts to lag and crash at +750, 000 rows. Also Python performs much more quickly.\n",
        "\n",
        "2. **Automation/Consistency/Reproducibility:** In Python, you can write a script (a document containing all the instructions you've written) containing all the sorting, filtering, cleaning, and run it over a dataset with one command; Excel (if you do not use VBA) would require you to manually filter/clean, which takes time.\n",
        "\n",
        "3. **Extremely Versatile:** Python can perform any task you can think of prom processing various data such as table, text, image, video to creating any graph to performing machine-learning models such as Linear Regression, Random Forests or Neural Networks (don't worry if you don't know these) \n",
        "\n",
        "![alt image](http://chris35wills.github.io/courses/pydata_stack.png)\n",
        "\n",
        "That being said, Excel is still an extremely useful tool and it is strongly encouraged to use them both."
      ]
    },
    {
      "metadata": {
        "id": "_YCjtmMW4eux",
        "colab_type": "text"
      },
      "cell_type": "markdown",
      "source": [
        "<font color='Purple'>**`Upon completion of this course, you will be able to analyse different types of marketing campaigns and become a bridge between marketing specialists and data scientists!`**</font> \n",
        "\n",
        "\n"
      ]
    },
    {
      "metadata": {
        "id": "6GzB3GrsM1sv",
        "colab_type": "text"
      },
      "cell_type": "markdown",
      "source": [
        "## Python using Google Colaboratory"
      ]
    },
    {
      "metadata": {
        "id": "MCP58nqOHuCr",
        "colab_type": "text"
      },
      "cell_type": "markdown",
      "source": [
        "Google Colaboratory is a **FREE** environment that allows us to run Python Code using Google's servers.\n",
        "\n",
        "If you have worked with Jupyter Notebooks or Kaggle Kernels, then Google Colaboratory is very similar to those tools.\n",
        "\n",
        "If you want to read more of what Google Colaboratory is capable of, click [here](https://colab.research.google.com/notebooks/welcome.ipynb)\n",
        "\n",
        "**IMPORTANT:** Please work with Python 3 Notebooks, which use Python version 3.6.7. (as of 2019 Term 1).\n",
        "\n",
        "You can check what version you are using from *Edit -> Notebook Settings* or running the code below.\n"
      ]
    },
    {
      "metadata": {
        "id": "H0W-3TSp8e1x",
        "colab_type": "code",
        "outputId": "495dc185-5d07-4006-c189-18328a3add49",
        "colab": {
          "base_uri": "https://localhost:8080/",
          "height": 51
        }
      },
      "cell_type": "code",
      "source": [
        "# Print the Python version (you do not need to know this for the course)\n",
        "import sys\n",
        "print(sys.version)"
      ],
      "execution_count": 0,
      "outputs": [
        {
          "output_type": "stream",
          "text": [
            "3.6.7 (default, Oct 22 2018, 11:32:17) \n",
            "[GCC 8.2.0]\n"
          ],
          "name": "stdout"
        }
      ]
    },
    {
      "metadata": {
        "id": "uSlA1OAYBMyN",
        "colab_type": "text"
      },
      "cell_type": "markdown",
      "source": [
        "# Lesson 1: Python Fundamentals\n",
        "\n",
        "The aim of this notebook is to introduce the Python programming language. Only the bare minimum necessary for getting started with Python and Pandas package. If you want to learn more about Python, consider going through the excellent tutorial http://docs.python.org/tutorial. Dedicated books are also available, such as http://diveintopython.org/.\n",
        "\n",
        "![alt image](https://s3.amazonaws.com/assets.datacamp.com/blog_assets/Cheat+Sheets/content_pythonfordatascience.png)"
      ]
    },
    {
      "metadata": {
        "id": "Q68L95J0XFo5",
        "colab_type": "text"
      },
      "cell_type": "markdown",
      "source": [
        "## Font Colour Definitions"
      ]
    },
    {
      "metadata": {
        "id": "NLW3Vt1uXHeC",
        "colab_type": "text"
      },
      "cell_type": "markdown",
      "source": [
        "-<font color='green'> **Green: Important Key Concepts** </font>\n",
        "\n",
        "\n",
        "-<font color='blue'> **Blue: Variable Names and Variable Values** </font>"
      ]
    },
    {
      "metadata": {
        "id": "BWB1g8_uD65R",
        "colab_type": "text"
      },
      "cell_type": "markdown",
      "source": [
        "## Printing\n",
        "\n",
        "In Python, <font color='green'> **print** </font>  displays text on screen. Here is an example.\n"
      ]
    },
    {
      "metadata": {
        "id": "yBoHk67CEFs-",
        "colab_type": "code",
        "outputId": "5d6f3005-b27d-40ef-9272-0b7054b6b542",
        "colab": {
          "base_uri": "https://localhost:8080/",
          "height": 34
        }
      },
      "cell_type": "code",
      "source": [
        "print('Hello, World!')"
      ],
      "execution_count": 0,
      "outputs": [
        {
          "output_type": "stream",
          "text": [
            "Hello, World!\n"
          ],
          "name": "stdout"
        }
      ]
    },
    {
      "metadata": {
        "id": "_n8dngguKnc2",
        "colab_type": "text"
      },
      "cell_type": "markdown",
      "source": [
        "The message “Hello, World!” is then displayed.\n",
        "\n",
        "**Congratulations!** You just executed your first Python code!\n",
        "\n",
        "The <font color='green'> **print** </font> function prints whatever is between the parentheses ( )."
      ]
    },
    {
      "metadata": {
        "id": "ookI7hENp-VZ",
        "colab_type": "code",
        "outputId": "c44ba4ac-c28d-460e-e93b-41fd98352217",
        "colab": {
          "base_uri": "https://localhost:8080/",
          "height": 34
        }
      },
      "cell_type": "code",
      "source": [
        "print(2)"
      ],
      "execution_count": 0,
      "outputs": [
        {
          "output_type": "stream",
          "text": [
            "2\n"
          ],
          "name": "stdout"
        }
      ]
    },
    {
      "metadata": {
        "id": "sZiLxopZH7Yx",
        "colab_type": "code",
        "outputId": "b6ab8f69-2fa2-45ca-f44a-64fbf961ade6",
        "colab": {
          "base_uri": "https://localhost:8080/",
          "height": 34
        }
      },
      "cell_type": "code",
      "source": [
        "\"Hello World\""
      ],
      "execution_count": 0,
      "outputs": [
        {
          "output_type": "execute_result",
          "data": {
            "text/plain": [
              "'Hello World'"
            ]
          },
          "metadata": {
            "tags": []
          },
          "execution_count": 4
        }
      ]
    },
    {
      "metadata": {
        "id": "vuJ0_VfLKCi6",
        "colab_type": "code",
        "outputId": "3a59c20f-ba7e-4fda-da5c-c136308f0121",
        "colab": {
          "base_uri": "https://localhost:8080/",
          "height": 51
        }
      },
      "cell_type": "code",
      "source": [
        "print(\"Hello World\")\n",
        "print(\"Bye World\")"
      ],
      "execution_count": 0,
      "outputs": [
        {
          "output_type": "stream",
          "text": [
            "Hello World\n",
            "Bye World\n"
          ],
          "name": "stdout"
        }
      ]
    },
    {
      "metadata": {
        "id": "OK93C5FnM20o",
        "colab_type": "text"
      },
      "cell_type": "markdown",
      "source": [
        "## Variables and Types\n",
        "\n",
        "<font color='green'> **Variables** </font> are used to store information (numbers, texts, tables, etc) to be referenced and manipulated in a Python program.\n",
        "\n",
        "This tutorial will go over a few basic types of variables:"
      ]
    },
    {
      "metadata": {
        "id": "F9dLkIddOHHP",
        "colab_type": "text"
      },
      "cell_type": "markdown",
      "source": [
        "### Numbers"
      ]
    },
    {
      "metadata": {
        "id": "VKZRzhkXKMMx",
        "colab_type": "text"
      },
      "cell_type": "markdown",
      "source": [
        "#### Definition"
      ]
    },
    {
      "metadata": {
        "id": "Rhe5pBzgKQ-P",
        "colab_type": "text"
      },
      "cell_type": "markdown",
      "source": [
        "In programming, you can define numbers and apply mathematical operations to them.\n",
        "\n",
        "Python supports different types of numbers. However, in this class we will just focus on <font color='green'> **integers** </font> and <font color='green'> **floats** </font> as they are the most common types we will encounter."
      ]
    },
    {
      "metadata": {
        "id": "gGcqKNiCO_yM",
        "colab_type": "text"
      },
      "cell_type": "markdown",
      "source": [
        "##### Integers"
      ]
    },
    {
      "metadata": {
        "id": "vhNBnpWDOzRt",
        "colab_type": "text"
      },
      "cell_type": "markdown",
      "source": [
        "<font color='green'>**Integers**</font> represent whole numbers.\n",
        "\n",
        "To define an <font color='green'> **integer variable** </font>, use the following syntax:"
      ]
    },
    {
      "metadata": {
        "id": "r2PpqeoeOPSF",
        "colab_type": "code",
        "colab": {}
      },
      "cell_type": "code",
      "source": [
        "a = 10"
      ],
      "execution_count": 0,
      "outputs": []
    },
    {
      "metadata": {
        "id": "KBWdx9SdPNkN",
        "colab_type": "text"
      },
      "cell_type": "markdown",
      "source": [
        "This stores the value  <font color='blue'> ** 10** </font> in the <font color='green'> ** variable** </font>  <font color='blue'> ** a** </font>. Note that it did not print or display anything."
      ]
    },
    {
      "metadata": {
        "id": "Ad9MFxBWPMOF",
        "colab_type": "text"
      },
      "cell_type": "markdown",
      "source": [
        "##### Floating-Point Number"
      ]
    },
    {
      "metadata": {
        "id": "GgsRkD8HPT7K",
        "colab_type": "text"
      },
      "cell_type": "markdown",
      "source": [
        "<font color='green'>**Floating-Point (float)**</font> represents a decimal number.\n",
        "\n",
        "In the same manner as <font color='green'>**integers**</font>, we can define a <font color='green'> **float variable** </font>"
      ]
    },
    {
      "metadata": {
        "id": "7gU2d4mgPo1H",
        "colab_type": "code",
        "colab": {}
      },
      "cell_type": "code",
      "source": [
        "b = 2.5"
      ],
      "execution_count": 0,
      "outputs": []
    },
    {
      "metadata": {
        "id": "DZukDP3OQ2HH",
        "colab_type": "text"
      },
      "cell_type": "markdown",
      "source": [
        "Data is now stored in the <font color='green'>**variables**</font> <font color='blue'> ** a** </font> and <font color='blue'> ** b** </font>.\n",
        "\n",
        "We can use these two variables in any part of our program, like this:"
      ]
    },
    {
      "metadata": {
        "id": "Ue-KQrzjK9j1",
        "colab_type": "code",
        "outputId": "fc48bdae-de11-4595-fe25-85f5f668b29e",
        "colab": {
          "base_uri": "https://localhost:8080/",
          "height": 51
        }
      },
      "cell_type": "code",
      "source": [
        "print(a)\n",
        "print(type(a))"
      ],
      "execution_count": 0,
      "outputs": [
        {
          "output_type": "stream",
          "text": [
            "10\n",
            "<class 'int'>\n"
          ],
          "name": "stdout"
        }
      ]
    },
    {
      "metadata": {
        "id": "Cpu4iwnNf3jg",
        "colab_type": "code",
        "outputId": "91ef9b2f-804f-4a0e-c851-df0fe5e35643",
        "colab": {
          "base_uri": "https://localhost:8080/",
          "height": 51
        }
      },
      "cell_type": "code",
      "source": [
        "print(b)\n",
        "print(type(b))"
      ],
      "execution_count": 0,
      "outputs": [
        {
          "output_type": "stream",
          "text": [
            "2.5\n",
            "<class 'float'>\n"
          ],
          "name": "stdout"
        }
      ]
    },
    {
      "metadata": {
        "id": "tFL3a2JYKO1K",
        "colab_type": "text"
      },
      "cell_type": "markdown",
      "source": [
        "#### Operations"
      ]
    },
    {
      "metadata": {
        "id": "xIX6G4kZLN5z",
        "colab_type": "text"
      },
      "cell_type": "markdown",
      "source": [
        "Python provides many mathematical operations for you to use. \n",
        "\n",
        "Here are some basic operations.\n",
        "\n",
        "**NOTE: In Python, you can write <font color='green'> comments </font> to describe something that could be difficult to understand. Comments don't do anything. You can use the hashtag \"#\" for a single-line comment or triple quotes \"\"\" \"\"\" for a multi-line comment.**"
      ]
    },
    {
      "metadata": {
        "id": "NQtImGUqRDlB",
        "colab_type": "code",
        "colab": {}
      },
      "cell_type": "code",
      "source": [
        "x = 11\n",
        "y = 2.5\n",
        "print(x + y) # Addition\n",
        "print(x - y) # Subtraction\n",
        "print(x * y) # Multiplication\n",
        "print(x / y) # Division"
      ],
      "execution_count": 0,
      "outputs": []
    },
    {
      "metadata": {
        "id": "7rNXLSo4RTjj",
        "colab_type": "text"
      },
      "cell_type": "markdown",
      "source": [
        "Here are a few more Python operations."
      ]
    },
    {
      "metadata": {
        "id": "px9TtYRORdZW",
        "colab_type": "code",
        "outputId": "fc4fa980-19ba-481f-ad50-000fb876d615",
        "colab": {
          "base_uri": "https://localhost:8080/",
          "height": 68
        }
      },
      "cell_type": "code",
      "source": [
        "\"\"\"You do not need to learn/memorise this. Just be aware that they exist.\"\"\"\n",
        "x = 5\n",
        "y = 2\n",
        "print(x ** y) # Exponent (x to the power of y | x^y)\n",
        "print(x // y) # Quotient (division without the use of remainders)\n",
        "print(x % y)  # Modulus (remainder from division)"
      ],
      "execution_count": 0,
      "outputs": [
        {
          "output_type": "stream",
          "text": [
            "25\n",
            "2\n",
            "1\n"
          ],
          "name": "stdout"
        }
      ]
    },
    {
      "metadata": {
        "id": "7FaACRDWohDz",
        "colab_type": "text"
      },
      "cell_type": "markdown",
      "source": [
        "More information about the different types of operators in Python can be found in https://www.programiz.com/python-programming/operators\n"
      ]
    },
    {
      "metadata": {
        "id": "mPGijWEXQmj8",
        "colab_type": "text"
      },
      "cell_type": "markdown",
      "source": [
        "### Strings"
      ]
    },
    {
      "metadata": {
        "id": "QHE85j6JQnd2",
        "colab_type": "text"
      },
      "cell_type": "markdown",
      "source": [
        "#### Definition"
      ]
    },
    {
      "metadata": {
        "id": "MwOznMZpR9QJ",
        "colab_type": "text"
      },
      "cell_type": "markdown",
      "source": [
        "A <font color='green'> ** string** </font> represents text. A string comprises of characters, similar to how a word or sentence contains letters.\n",
        "\n",
        "Here are some examples:"
      ]
    },
    {
      "metadata": {
        "id": "IPA7ArxeR_vF",
        "colab_type": "code",
        "colab": {}
      },
      "cell_type": "code",
      "source": [
        "word = 'Melena'\n",
        "sentence = \"Iwillpasshiscourse\"\n",
        "letter = 'a'"
      ],
      "execution_count": 0,
      "outputs": []
    },
    {
      "metadata": {
        "id": "_YtAXUqRUKCr",
        "colab_type": "text"
      },
      "cell_type": "markdown",
      "source": [
        "Notice that:\n",
        "**To define a  <font color='green'>string</font>, use  the single quotation marks <font color='green'> **' '** </font> or double quotation marks <font color='green'> ** \" \"** </font>**\n",
        "\n",
        "To you, <font color='blue'> **'Melena'** </font> is a word, <font color='blue'> **\"I will pass this course!!!\"** </font> is a sentence, and <font color='blue'> **'a'** </font> is a letter. \n",
        "\n",
        "However, whatever is inside <font color='green'> **' '** </font>  or <font color='green'> ** \" \"** </font> will appear as a <font color='green'> ** string** </font> to Python.\n",
        "\n",
        "Again, the above lines do not print anything. They just define the <font color='green'> **variables** </font>. We can print the contents of these <font color='green'> **variables** </font> using the function <font color='green'> **print** </font>:"
      ]
    },
    {
      "metadata": {
        "id": "aMbsP2WlUDgl",
        "colab_type": "code",
        "outputId": "9e32fadb-cb1e-46d4-917b-425cd0fce20c",
        "colab": {
          "base_uri": "https://localhost:8080/",
          "height": 204
        }
      },
      "cell_type": "code",
      "source": [
        "print(word)\n",
        "print(type(word))\n",
        "print(len(word))  # len = Length of the string\n",
        "\n",
        "print(\"\")\n",
        "\n",
        "print(sentence)\n",
        "print(type(sentence))\n",
        "print(len(sentence))\n",
        "\n",
        "print(\"\")\n",
        "\n",
        "print(letter)\n",
        "print(type(letter))\n",
        "print(len(letter))"
      ],
      "execution_count": 0,
      "outputs": [
        {
          "output_type": "stream",
          "text": [
            "Melena\n",
            "<class 'str'>\n",
            "6\n",
            "\n",
            "Iwillpasshiscourse\n",
            "<class 'str'>\n",
            "18\n",
            "\n",
            "a\n",
            "<class 'str'>\n",
            "1\n"
          ],
          "name": "stdout"
        }
      ]
    },
    {
      "metadata": {
        "id": "E2vY-iA3Qo4L",
        "colab_type": "text"
      },
      "cell_type": "markdown",
      "source": [
        "#### Operations"
      ]
    },
    {
      "metadata": {
        "id": "fmgy3G2bTw1T",
        "colab_type": "text"
      },
      "cell_type": "markdown",
      "source": [
        "##### Indexing"
      ]
    },
    {
      "metadata": {
        "id": "ithAji56T_2m",
        "colab_type": "text"
      },
      "cell_type": "markdown",
      "source": [
        "To <font color='green'>**index**</font> something means to keep track of data so that it can be accessed quickly.\n",
        "\n",
        "Similar to how a non-fiction book would have an index at the back, a string can also be indexed.\n",
        "\n",
        "If we have a string \"Obama,\" it's elements and indexes would be\n",
        "\n",
        "Value | O | b | a | m | a\n",
        "--- | ---\n",
        "Index (Left to Right)| 0 | 1 | 2 | 3 | 4\n",
        "Index (Right to Left)| -5 | -4 | -3 | -2 | -1\n",
        "\n",
        "The notation to perform string indexing is to use square brackets with the index inside.\n",
        "\n",
        "**Note:** This is an important concept. Later in the course, you will extract a specific part of a list or databases to check, delete unnecessary data and etc."
      ]
    },
    {
      "metadata": {
        "id": "uQrkeoprVTDU",
        "colab_type": "code",
        "colab": {}
      },
      "cell_type": "code",
      "source": [
        "us_President = \"Obama\""
      ],
      "execution_count": 0,
      "outputs": []
    },
    {
      "metadata": {
        "id": "VSffbJMPgMEu",
        "colab_type": "code",
        "outputId": "dfdf6b85-6493-46fc-a8f3-14110561a0f5",
        "colab": {
          "base_uri": "https://localhost:8080/",
          "height": 34
        }
      },
      "cell_type": "code",
      "source": [
        "print(us_President[0])  # Get the 1st element (0th index) of the string"
      ],
      "execution_count": 0,
      "outputs": [
        {
          "output_type": "stream",
          "text": [
            "O\n"
          ],
          "name": "stdout"
        }
      ]
    },
    {
      "metadata": {
        "id": "5cYCcx5HgPyx",
        "colab_type": "code",
        "outputId": "65343b93-854a-4ba9-e749-d78f558d62af",
        "colab": {
          "base_uri": "https://localhost:8080/",
          "height": 34
        }
      },
      "cell_type": "code",
      "source": [
        "print(us_President[1])  # Get the 2nd element (1st index) of the string"
      ],
      "execution_count": 0,
      "outputs": [
        {
          "output_type": "stream",
          "text": [
            "b\n"
          ],
          "name": "stdout"
        }
      ]
    },
    {
      "metadata": {
        "id": "0afdeYADgZS5",
        "colab_type": "code",
        "outputId": "425412ce-0360-43fd-ff78-018716a8895d",
        "colab": {
          "base_uri": "https://localhost:8080/",
          "height": 34
        }
      },
      "cell_type": "code",
      "source": [
        "print(us_President[-1]) # Get the last element of the string"
      ],
      "execution_count": 0,
      "outputs": [
        {
          "output_type": "stream",
          "text": [
            "a\n"
          ],
          "name": "stdout"
        }
      ]
    },
    {
      "metadata": {
        "id": "t8faqCZxgcjR",
        "colab_type": "code",
        "outputId": "8be07360-ff80-445b-f7ee-ed590384a2df",
        "colab": {
          "base_uri": "https://localhost:8080/",
          "height": 34
        }
      },
      "cell_type": "code",
      "source": [
        "print(us_President[-2]) # Get the 2nd last element of the string"
      ],
      "execution_count": 0,
      "outputs": [
        {
          "output_type": "stream",
          "text": [
            "m\n"
          ],
          "name": "stdout"
        }
      ]
    },
    {
      "metadata": {
        "id": "rE5Cr3ojaQy7",
        "colab_type": "text"
      },
      "cell_type": "markdown",
      "source": [
        "##### Slicing"
      ]
    },
    {
      "metadata": {
        "id": "gf9ferI5718Q",
        "colab_type": "text"
      },
      "cell_type": "markdown",
      "source": [
        "![alt text](https://i.stack.imgur.com/IVkET.jpg)"
      ]
    },
    {
      "metadata": {
        "id": "QZnY3CW9aTOQ",
        "colab_type": "text"
      },
      "cell_type": "markdown",
      "source": [
        "To <font color='green'>**slice**</font> a <font color='green'>**string**</font> means to extract a subset.\n",
        "\n",
        "The notation to perform slicing is **[start:stop:step]**."
      ]
    },
    {
      "metadata": {
        "id": "R6kg7p16aSxF",
        "colab_type": "code",
        "colab": {}
      },
      "cell_type": "code",
      "source": [
        "sentence = \"Welcome to MARK5828!\""
      ],
      "execution_count": 0,
      "outputs": []
    },
    {
      "metadata": {
        "id": "SrwyLkPrgl-9",
        "colab_type": "code",
        "outputId": "7518ec30-8c72-4cd9-d19b-63606068e04f",
        "colab": {
          "base_uri": "https://localhost:8080/",
          "height": 34
        }
      },
      "cell_type": "code",
      "source": [
        "print(sentence[1:3])               # Start from 1st index (inclusive); Stop at 3rd index (exclusive)"
      ],
      "execution_count": 0,
      "outputs": [
        {
          "output_type": "stream",
          "text": [
            "el\n"
          ],
          "name": "stdout"
        }
      ]
    },
    {
      "metadata": {
        "id": "8ZgdaMS8gq2a",
        "colab_type": "code",
        "outputId": "99b254ff-9f71-4d1d-870f-5cfa1d6d2dad",
        "colab": {
          "base_uri": "https://localhost:8080/",
          "height": 34
        }
      },
      "cell_type": "code",
      "source": [
        "print(sentence[:3])                # Same as sentence[0:3]"
      ],
      "execution_count": 0,
      "outputs": [
        {
          "output_type": "stream",
          "text": [
            "Wel\n"
          ],
          "name": "stdout"
        }
      ]
    },
    {
      "metadata": {
        "id": "vLCIA4BngsZZ",
        "colab_type": "code",
        "outputId": "d941af63-7260-4781-bc96-83576a06b744",
        "colab": {
          "base_uri": "https://localhost:8080/",
          "height": 34
        }
      },
      "cell_type": "code",
      "source": [
        "print(sentence[3:])                # Same as sentence[3:len(sentence)]"
      ],
      "execution_count": 0,
      "outputs": [
        {
          "output_type": "stream",
          "text": [
            "come to MARK5828!\n"
          ],
          "name": "stdout"
        }
      ]
    },
    {
      "metadata": {
        "id": "BQh3WWh9gvH5",
        "colab_type": "code",
        "outputId": "cfec1156-11b4-4e4d-fcb5-6015bfa8508c",
        "colab": {
          "base_uri": "https://localhost:8080/",
          "height": 34
        }
      },
      "cell_type": "code",
      "source": [
        "print(sentence[0:len(sentence):2]) # Print whole string, two steps at a time."
      ],
      "execution_count": 0,
      "outputs": [
        {
          "output_type": "stream",
          "text": [
            "Wloet AK88\n"
          ],
          "name": "stdout"
        }
      ]
    },
    {
      "metadata": {
        "id": "YyGoKgtLg0Dv",
        "colab_type": "code",
        "outputId": "a52f297c-0740-4b67-f45f-0776ab0734a0",
        "colab": {
          "base_uri": "https://localhost:8080/",
          "height": 34
        }
      },
      "cell_type": "code",
      "source": [
        "print(sentence[::-1])              # Reverse String"
      ],
      "execution_count": 0,
      "outputs": [
        {
          "output_type": "stream",
          "text": [
            "!8285KRAM ot emocleW\n"
          ],
          "name": "stdout"
        }
      ]
    },
    {
      "metadata": {
        "id": "WQTeXkemTs8B",
        "colab_type": "text"
      },
      "cell_type": "markdown",
      "source": [
        "##### Concatenation"
      ]
    },
    {
      "metadata": {
        "id": "jIs_PKMfDA6r",
        "colab_type": "text"
      },
      "cell_type": "markdown",
      "source": [
        "In programming, <font color='green'>**concatenation**</font> just means joining. \n",
        "\n",
        "Below are some examples of <font color='green'>**string concatenation**</font>"
      ]
    },
    {
      "metadata": {
        "id": "X_uo9TriRGiI",
        "colab_type": "code",
        "colab": {}
      },
      "cell_type": "code",
      "source": [
        "laugh = \"ha\"\n",
        "help_me = \"...help me...\""
      ],
      "execution_count": 0,
      "outputs": []
    },
    {
      "metadata": {
        "id": "_ZUtw4oehi2J",
        "colab_type": "code",
        "outputId": "b1f4b54d-f11d-4488-83e3-2361e70f6a28",
        "colab": {
          "base_uri": "https://localhost:8080/",
          "height": 34
        }
      },
      "cell_type": "code",
      "source": [
        "print(laugh + \"haa\")     # Join 2 strings"
      ],
      "execution_count": 0,
      "outputs": [
        {
          "output_type": "stream",
          "text": [
            "hahaa\n"
          ],
          "name": "stdout"
        }
      ]
    },
    {
      "metadata": {
        "id": "rHx2ZcovhqbQ",
        "colab_type": "code",
        "outputId": "3ea9911c-5f86-41b7-e7b3-25335f51ec13",
        "colab": {
          "base_uri": "https://localhost:8080/",
          "height": 34
        }
      },
      "cell_type": "code",
      "source": [
        "print(laugh * 5)         # Repeat String 5 times"
      ],
      "execution_count": 0,
      "outputs": [
        {
          "output_type": "stream",
          "text": [
            "hahahahaha\n"
          ],
          "name": "stdout"
        }
      ]
    },
    {
      "metadata": {
        "id": "WIZGsgshhroU",
        "colab_type": "code",
        "outputId": "fc43fb6c-3c3e-406e-e53d-ed2214d71da9",
        "colab": {
          "base_uri": "https://localhost:8080/",
          "height": 34
        }
      },
      "cell_type": "code",
      "source": [
        "haha_help_me = laugh * 5 + help_me\n",
        "print(haha_help_me)"
      ],
      "execution_count": 0,
      "outputs": [
        {
          "output_type": "stream",
          "text": [
            "hahahahaha...help me...\n"
          ],
          "name": "stdout"
        }
      ]
    },
    {
      "metadata": {
        "id": "5POuytDlqnD5",
        "colab_type": "text"
      },
      "cell_type": "markdown",
      "source": [
        "### Boolean"
      ]
    },
    {
      "metadata": {
        "id": "IEX6Dj1uqfwr",
        "colab_type": "text"
      },
      "cell_type": "markdown",
      "source": [
        "#### Definition"
      ]
    },
    {
      "metadata": {
        "id": "MLYzR_0dAwtp",
        "colab_type": "text"
      },
      "cell_type": "markdown",
      "source": [
        "Python provides the <font color='green'> ** Boolean** </font> type that can be either set to <font color='green'> ** True** </font> or <font color='green'> ** False** </font>. Boolean variables are very important when dealing with <font color='green'> ** filtering** </font> (covered later) marketing data you are interested in. For example, when analysing the difference in marketing ad effectivness for different age group, we might have a group where thisPersonIsAdult = <font color='green'> ** True** </font> or <font color='green'> ** False** </font>.\n",
        "\n",
        "To define a <font color='green'> **variable** </font> of type <font color='green'> ** boolean** </font>:\n"
      ]
    },
    {
      "metadata": {
        "id": "amSLfpbEBwo-",
        "colab_type": "code",
        "colab": {}
      },
      "cell_type": "code",
      "source": [
        "state_1 = True\n",
        "state_2 = False"
      ],
      "execution_count": 0,
      "outputs": []
    },
    {
      "metadata": {
        "id": "FuInqTX7hzPA",
        "colab_type": "code",
        "outputId": "c67aec39-8bd4-48fb-b9bb-f6f036164551",
        "colab": {
          "base_uri": "https://localhost:8080/",
          "height": 85
        }
      },
      "cell_type": "code",
      "source": [
        "print(state_1)\n",
        "print(type(state_1))\n",
        "print(state_2)\n",
        "print(type(state_2))"
      ],
      "execution_count": 0,
      "outputs": [
        {
          "output_type": "stream",
          "text": [
            "True\n",
            "<class 'bool'>\n",
            "False\n",
            "<class 'bool'>\n"
          ],
          "name": "stdout"
        }
      ]
    },
    {
      "metadata": {
        "id": "fufC4ZvAqc8N",
        "colab_type": "text"
      },
      "cell_type": "markdown",
      "source": [
        "#### Comparison Operators"
      ]
    },
    {
      "metadata": {
        "id": "TPfb3L6A9UWF",
        "colab_type": "text"
      },
      "cell_type": "markdown",
      "source": [
        "In Python, there are Comparison operators.\n",
        "\n",
        "![alt text](https://i.pinimg.com/originals/bd/61/9b/bd619b4111791850194f266b2e43822f.jpg)"
      ]
    },
    {
      "metadata": {
        "id": "HNfgc9BaqvMW",
        "colab_type": "code",
        "colab": {}
      },
      "cell_type": "code",
      "source": [
        "x = 5\n",
        "y = 10\n",
        "z = 2"
      ],
      "execution_count": 0,
      "outputs": []
    },
    {
      "metadata": {
        "id": "JbmmWhaVh_P8",
        "colab_type": "code",
        "outputId": "712dd0f9-2f9c-425b-d713-d90e62dff924",
        "colab": {
          "base_uri": "https://localhost:8080/",
          "height": 34
        }
      },
      "cell_type": "code",
      "source": [
        "print(x == y)"
      ],
      "execution_count": 0,
      "outputs": [
        {
          "output_type": "stream",
          "text": [
            "False\n"
          ],
          "name": "stdout"
        }
      ]
    },
    {
      "metadata": {
        "id": "wpWu-yrEiBd3",
        "colab_type": "code",
        "outputId": "a57ae771-c4be-4bea-fb6f-b9ae9974ca68",
        "colab": {
          "base_uri": "https://localhost:8080/",
          "height": 34
        }
      },
      "cell_type": "code",
      "source": [
        "print(x != x)"
      ],
      "execution_count": 0,
      "outputs": [
        {
          "output_type": "stream",
          "text": [
            "False\n"
          ],
          "name": "stdout"
        }
      ]
    },
    {
      "metadata": {
        "id": "y3wXhBGqiCZU",
        "colab_type": "code",
        "outputId": "33c24cfb-7693-4691-b933-a21f3741aa55",
        "colab": {
          "base_uri": "https://localhost:8080/",
          "height": 34
        }
      },
      "cell_type": "code",
      "source": [
        "print(x > z)"
      ],
      "execution_count": 0,
      "outputs": [
        {
          "output_type": "stream",
          "text": [
            "True\n"
          ],
          "name": "stdout"
        }
      ]
    },
    {
      "metadata": {
        "id": "ysjmL2huiF4t",
        "colab_type": "code",
        "outputId": "1a1fa051-8d2b-4eca-cf52-b77dcc757ea7",
        "colab": {
          "base_uri": "https://localhost:8080/",
          "height": 34
        }
      },
      "cell_type": "code",
      "source": [
        "print(z < y)"
      ],
      "execution_count": 0,
      "outputs": [
        {
          "output_type": "stream",
          "text": [
            "True\n"
          ],
          "name": "stdout"
        }
      ]
    },
    {
      "metadata": {
        "id": "qTU7V6D0iHrn",
        "colab_type": "code",
        "colab": {}
      },
      "cell_type": "code",
      "source": [
        "print(x >= x)"
      ],
      "execution_count": 0,
      "outputs": []
    },
    {
      "metadata": {
        "id": "P9N-a0QBA4Vx",
        "colab_type": "text"
      },
      "cell_type": "markdown",
      "source": [
        "#### Boolean Operators\n",
        "\n",
        "Python also contains special keywords <font color='green'>**AND, OR, NOT**</font>\n",
        "\n",
        "![alt text](https://sites.google.com/a/onalaskaschools.com/tech/boolean-search-tools/booleanOperators.png?attredirects=0)\n",
        "\n",
        "![alt text](https://upload.wikimedia.org/wikipedia/commons/4/4a/Truth_table_for_AND%2C_OR%2C_and_NOT.png)\n",
        "\n",
        "**Note:** This is an important concept. If we have a large amount of  Apple ad  marketing data from youtube.com, we will analyse a specific set of dataset we are interested in. For example, we could select area = Australia **AND** time = 6pm - 8pm in order to find out how effective ad was during that time in that area."
      ]
    },
    {
      "metadata": {
        "id": "6zxVJfMIi6Uz",
        "colab_type": "code",
        "colab": {}
      },
      "cell_type": "code",
      "source": [
        "x = 5\n",
        "y = 10\n",
        "z = 2"
      ],
      "execution_count": 0,
      "outputs": []
    },
    {
      "metadata": {
        "id": "1T3qecehy6IO",
        "colab_type": "code",
        "outputId": "24e61355-32ce-40e1-8f06-64b8e9b04470",
        "colab": {
          "base_uri": "https://localhost:8080/",
          "height": 34
        }
      },
      "cell_type": "code",
      "source": [
        "print(not (z < y))"
      ],
      "execution_count": 0,
      "outputs": [
        {
          "output_type": "stream",
          "text": [
            "False\n"
          ],
          "name": "stdout"
        }
      ]
    },
    {
      "metadata": {
        "id": "0ylcVH9ai0dM",
        "colab_type": "code",
        "outputId": "690ec792-e388-4da1-c80e-0dce45ea1ffa",
        "colab": {
          "base_uri": "https://localhost:8080/",
          "height": 34
        }
      },
      "cell_type": "code",
      "source": [
        "print(x == x and z < y)"
      ],
      "execution_count": 0,
      "outputs": [
        {
          "output_type": "stream",
          "text": [
            "True\n"
          ],
          "name": "stdout"
        }
      ]
    },
    {
      "metadata": {
        "id": "K6-xWr2Ii14x",
        "colab_type": "code",
        "outputId": "6e8cc661-feee-4898-9698-5ccce5f3be3e",
        "colab": {
          "base_uri": "https://localhost:8080/",
          "height": 34
        }
      },
      "cell_type": "code",
      "source": [
        "print(x > z or y != z)"
      ],
      "execution_count": 0,
      "outputs": [
        {
          "output_type": "stream",
          "text": [
            "True\n"
          ],
          "name": "stdout"
        }
      ]
    },
    {
      "metadata": {
        "id": "F02KFT6B6bSB",
        "colab_type": "text"
      },
      "cell_type": "markdown",
      "source": [
        "### Lists"
      ]
    },
    {
      "metadata": {
        "id": "f63vAWt86cR8",
        "colab_type": "text"
      },
      "cell_type": "markdown",
      "source": [
        "#### Definition"
      ]
    },
    {
      "metadata": {
        "id": "9ghm3tf4YHOV",
        "colab_type": "text"
      },
      "cell_type": "markdown",
      "source": [
        "In a Python list we can store data like a shopping list.\n",
        "\n",
        "A <font color='green'> ** list** </font> is created from using square brackets <font color='green'> **[ ]** </font> and using a comma <font color='green'> ** ,** </font> to separate each item.\n",
        "\n",
        "Here are a few examples."
      ]
    },
    {
      "metadata": {
        "id": "CGMK-5SsZcfY",
        "colab_type": "code",
        "colab": {}
      },
      "cell_type": "code",
      "source": [
        "empty_list = []\n",
        "string_list = ['Mon','Tue','Wed','Thu','Fri']\n",
        "integer_list = [0,2,4,6,8,10]\n",
        "mixed_list = [2019,'Feb',10.4]"
      ],
      "execution_count": 0,
      "outputs": []
    },
    {
      "metadata": {
        "id": "3eJjqCGwmk1I",
        "colab_type": "code",
        "outputId": "e28b6886-8a61-4c17-fca7-904e6eec3bcd",
        "colab": {
          "base_uri": "https://localhost:8080/",
          "height": 272
        }
      },
      "cell_type": "code",
      "source": [
        "print(empty_list)\n",
        "print(type(empty_list))\n",
        "print(len(empty_list))\n",
        "\n",
        "print(\"\")\n",
        "\n",
        "print(string_list)\n",
        "print(type(string_list))\n",
        "print(len(string_list))\n",
        "\n",
        "print(\"\")\n",
        "\n",
        "print(integer_list)\n",
        "print(type(integer_list))\n",
        "print(len(integer_list))\n",
        "\n",
        "print(\"\")\n",
        "\n",
        "print(mixed_list)\n",
        "print(type(mixed_list))\n",
        "print(len(mixed_list))"
      ],
      "execution_count": 0,
      "outputs": [
        {
          "output_type": "stream",
          "text": [
            "[]\n",
            "<class 'list'>\n",
            "0\n",
            "\n",
            "['Mon', 'Tue', 'Wed', 'Thu', 'Fri']\n",
            "<class 'list'>\n",
            "5\n",
            "\n",
            "[0, 2, 4, 6, 8, 10]\n",
            "<class 'list'>\n",
            "6\n",
            "\n",
            "[2019, 'Feb', 10.4]\n",
            "<class 'list'>\n",
            "3\n"
          ],
          "name": "stdout"
        }
      ]
    },
    {
      "metadata": {
        "id": "Ce7lXNKg6f_u",
        "colab_type": "text"
      },
      "cell_type": "markdown",
      "source": [
        "#### Operations"
      ]
    },
    {
      "metadata": {
        "id": "JmI4k4uI6usZ",
        "colab_type": "text"
      },
      "cell_type": "markdown",
      "source": [
        "##### Indexing"
      ]
    },
    {
      "metadata": {
        "id": "I6PxHRdplc0i",
        "colab_type": "text"
      },
      "cell_type": "markdown",
      "source": [
        "A list contains elements just as a string contains characters.\n",
        "\n",
        "Thus, you can index lists in the same way you can index strings.\n",
        "\n",
        "Here are some examples."
      ]
    },
    {
      "metadata": {
        "id": "pntxfvcslqIz",
        "colab_type": "code",
        "outputId": "52110b66-dd4a-4b58-e57c-8fa5f46ddfa6",
        "colab": {
          "base_uri": "https://localhost:8080/",
          "height": 34
        }
      },
      "cell_type": "code",
      "source": [
        "numbers = list(range(1, 10)) # Generates a list of numbers from 1 (start) to 10 (stop)\n",
        "print(numbers)"
      ],
      "execution_count": 0,
      "outputs": [
        {
          "output_type": "stream",
          "text": [
            "[1, 2, 3, 4, 5, 6, 7, 8, 9]\n"
          ],
          "name": "stdout"
        }
      ]
    },
    {
      "metadata": {
        "id": "aW5pyKf41wsJ",
        "colab_type": "code",
        "outputId": "f72da058-3db6-4426-bdc2-c54dbdbd8674",
        "colab": {
          "base_uri": "https://localhost:8080/",
          "height": 34
        }
      },
      "cell_type": "code",
      "source": [
        "temp_numbers = [1, 2, 3, 4, 5, 6, 7, 8, 9]\n",
        "print(temp_numbers == numbers) # This will print if temp_numbers is equal to numbers"
      ],
      "execution_count": 0,
      "outputs": [
        {
          "output_type": "stream",
          "text": [
            "True\n"
          ],
          "name": "stdout"
        }
      ]
    },
    {
      "metadata": {
        "id": "Yt248tvyjrfU",
        "colab_type": "code",
        "outputId": "4f5cb6e6-8bc6-432e-e2f2-887c453f4be1",
        "colab": {
          "base_uri": "https://localhost:8080/",
          "height": 34
        }
      },
      "cell_type": "code",
      "source": [
        "print(numbers[3])"
      ],
      "execution_count": 0,
      "outputs": [
        {
          "output_type": "stream",
          "text": [
            "4\n"
          ],
          "name": "stdout"
        }
      ]
    },
    {
      "metadata": {
        "id": "Q6zbS-pSjsxv",
        "colab_type": "code",
        "outputId": "d515d1ee-925a-40f1-ae7d-e41ef7ffeaa5",
        "colab": {
          "base_uri": "https://localhost:8080/",
          "height": 34
        }
      },
      "cell_type": "code",
      "source": [
        "print(numbers[1])"
      ],
      "execution_count": 0,
      "outputs": [
        {
          "output_type": "stream",
          "text": [
            "2\n"
          ],
          "name": "stdout"
        }
      ]
    },
    {
      "metadata": {
        "id": "4_Ax0ut-jtz6",
        "colab_type": "code",
        "outputId": "0c6c6640-e6d8-46ff-ba96-04f6c04cbd83",
        "colab": {
          "base_uri": "https://localhost:8080/",
          "height": 34
        }
      },
      "cell_type": "code",
      "source": [
        "print(numbers[-2])"
      ],
      "execution_count": 0,
      "outputs": [
        {
          "output_type": "stream",
          "text": [
            "8\n"
          ],
          "name": "stdout"
        }
      ]
    },
    {
      "metadata": {
        "id": "equhV2HWlWfZ",
        "colab_type": "code",
        "outputId": "17f5c411-3bb6-4122-c892-d2fe0649bfe0",
        "colab": {
          "base_uri": "https://localhost:8080/",
          "height": 34
        }
      },
      "cell_type": "code",
      "source": [
        "print(numbers.index(5))"
      ],
      "execution_count": 0,
      "outputs": [
        {
          "output_type": "stream",
          "text": [
            "4\n"
          ],
          "name": "stdout"
        }
      ]
    },
    {
      "metadata": {
        "id": "6deffs6ZlSNv",
        "colab_type": "text"
      },
      "cell_type": "markdown",
      "source": [
        "##### Slicing"
      ]
    },
    {
      "metadata": {
        "id": "RMxwRhrKm9Te",
        "colab_type": "text"
      },
      "cell_type": "markdown",
      "source": [
        "You can also slice lists in the same way you can perform slicing in strings."
      ]
    },
    {
      "metadata": {
        "id": "v63BH-fGm3XT",
        "colab_type": "code",
        "outputId": "6aa3ce83-c316-4842-aed0-e05c6dbf493a",
        "colab": {
          "base_uri": "https://localhost:8080/",
          "height": 34
        }
      },
      "cell_type": "code",
      "source": [
        "numbers = list(range(1,50,4)) # Generates a list of numbers from 1 (start) to 50 (stop) with step=2\n",
        "print(numbers)"
      ],
      "execution_count": 0,
      "outputs": [
        {
          "output_type": "stream",
          "text": [
            "[1, 5, 9, 13, 17, 21, 25, 29, 33, 37, 41, 45, 49]\n"
          ],
          "name": "stdout"
        }
      ]
    },
    {
      "metadata": {
        "id": "aqzlbmVZj46L",
        "colab_type": "code",
        "outputId": "1aba89e8-8723-4e95-9979-a218408be7af",
        "colab": {
          "base_uri": "https://localhost:8080/",
          "height": 34
        }
      },
      "cell_type": "code",
      "source": [
        "print(numbers[3:5])"
      ],
      "execution_count": 0,
      "outputs": [
        {
          "output_type": "stream",
          "text": [
            "[13, 17]\n"
          ],
          "name": "stdout"
        }
      ]
    },
    {
      "metadata": {
        "id": "dICPJ4qpj7CY",
        "colab_type": "code",
        "outputId": "6214200f-4d9b-4110-8eae-4dac2c3a6b7e",
        "colab": {
          "base_uri": "https://localhost:8080/",
          "height": 34
        }
      },
      "cell_type": "code",
      "source": [
        "print(numbers[1:len(numbers):2])"
      ],
      "execution_count": 0,
      "outputs": [
        {
          "output_type": "stream",
          "text": [
            "[5, 13, 21, 29, 37, 45]\n"
          ],
          "name": "stdout"
        }
      ]
    },
    {
      "metadata": {
        "id": "8qMQmERJj8AW",
        "colab_type": "code",
        "outputId": "e8d9e778-8e15-4f14-c19d-dae96991fc16",
        "colab": {
          "base_uri": "https://localhost:8080/",
          "height": 34
        }
      },
      "cell_type": "code",
      "source": [
        "print(numbers[::-1])"
      ],
      "execution_count": 0,
      "outputs": [
        {
          "output_type": "stream",
          "text": [
            "[49, 45, 41, 37, 33, 29, 25, 21, 17, 13, 9, 5, 1]\n"
          ],
          "name": "stdout"
        }
      ]
    },
    {
      "metadata": {
        "id": "wJgZ5qC-6zk4",
        "colab_type": "text"
      },
      "cell_type": "markdown",
      "source": [
        "##### Concatenation"
      ]
    },
    {
      "metadata": {
        "id": "EdzwWVrQdktB",
        "colab_type": "text"
      },
      "cell_type": "markdown",
      "source": [
        "Joining lists is also very similar to joining strings."
      ]
    },
    {
      "metadata": {
        "id": "0OMimKkLncRE",
        "colab_type": "code",
        "colab": {}
      },
      "cell_type": "code",
      "source": [
        "numbers = [1, 2, 3]"
      ],
      "execution_count": 0,
      "outputs": []
    },
    {
      "metadata": {
        "id": "n1nxpFrMlBuu",
        "colab_type": "code",
        "outputId": "34cbc3f9-283c-4011-cd79-c263b65add19",
        "colab": {
          "base_uri": "https://localhost:8080/",
          "height": 34
        }
      },
      "cell_type": "code",
      "source": [
        "print(numbers + numbers)"
      ],
      "execution_count": 0,
      "outputs": [
        {
          "output_type": "stream",
          "text": [
            "[1, 2, 3, 1, 2, 3]\n"
          ],
          "name": "stdout"
        }
      ]
    },
    {
      "metadata": {
        "id": "zL4gvqzElC9L",
        "colab_type": "code",
        "outputId": "ed08980a-f48f-4e3a-de76-0eb317dd4f05",
        "colab": {
          "base_uri": "https://localhost:8080/",
          "height": 34
        }
      },
      "cell_type": "code",
      "source": [
        "print(numbers * 4)"
      ],
      "execution_count": 0,
      "outputs": [
        {
          "output_type": "stream",
          "text": [
            "[1, 2, 3, 1, 2, 3, 1, 2, 3, 1, 2, 3]\n"
          ],
          "name": "stdout"
        }
      ]
    },
    {
      "metadata": {
        "id": "NGGbVjOIlExz",
        "colab_type": "code",
        "outputId": "d8126020-2de5-4516-bf49-4dc9c9e53ac9",
        "colab": {
          "base_uri": "https://localhost:8080/",
          "height": 34
        }
      },
      "cell_type": "code",
      "source": [
        "numbers.append(4)\n",
        "print(numbers)"
      ],
      "execution_count": 0,
      "outputs": [
        {
          "output_type": "stream",
          "text": [
            "[1, 2, 3, 4]\n"
          ],
          "name": "stdout"
        }
      ]
    },
    {
      "metadata": {
        "id": "ApR9H3gwpI62",
        "colab_type": "text"
      },
      "cell_type": "markdown",
      "source": [
        "### Dictionaries"
      ]
    },
    {
      "metadata": {
        "id": "b_uX5alto2MS",
        "colab_type": "text"
      },
      "cell_type": "markdown",
      "source": [
        "#### Definition"
      ]
    },
    {
      "metadata": {
        "id": "_CJSW56IyfAi",
        "colab_type": "text"
      },
      "cell_type": "markdown",
      "source": [
        "Python dictionaries are like language dictionaries. They have 'keys' and 'values' and just like a normal dictionary, we use a <font color='green'>**key**</font> (a word) to get a <font color='green'>**value**</font> (definition of the word).\n",
        "\n",
        "Here are some examples:"
      ]
    },
    {
      "metadata": {
        "id": "7XpTIWhQy17h",
        "colab_type": "code",
        "colab": {}
      },
      "cell_type": "code",
      "source": [
        "student = {'Name': 'Zara', 'Age': 7, 'Class': 'MARK5828'}"
      ],
      "execution_count": 0,
      "outputs": []
    },
    {
      "metadata": {
        "id": "JrsFTD5uzZ0n",
        "colab_type": "text"
      },
      "cell_type": "markdown",
      "source": [
        "In the above example, we defined a <font color='green'> ** dictionary** </font> of the name <font color='blue'> ** student** </font>. It has three <font color='green'> ** keys** </font>: ' <font color='blue'> ** Name** </font>', ' <font color='blue'> ** Age** </font>', and ' <font color='blue'> ** Class** </font>'. \n",
        "\n",
        "The  <font color='green'> ** key** </font> ' <font color='blue'> ** Name** </font>' has the value <font color='blue'> ** 'Zara'** </font>, and so on."
      ]
    },
    {
      "metadata": {
        "id": "rWBMDSX3oql3",
        "colab_type": "code",
        "outputId": "38d5023f-df5e-40b4-bd18-42f9f2c6ff69",
        "colab": {
          "base_uri": "https://localhost:8080/",
          "height": 85
        }
      },
      "cell_type": "code",
      "source": [
        "print(student)\n",
        "print(student[\"Name\"])\n",
        "print(len(student))\n",
        "print(type(student))"
      ],
      "execution_count": 0,
      "outputs": [
        {
          "output_type": "stream",
          "text": [
            "{'Name': 'Zack', 'Age': 7, 'Class': 'MARK5828', 'Hobby': 'Basketball'}\n",
            "Zack\n",
            "4\n",
            "<class 'dict'>\n"
          ],
          "name": "stdout"
        }
      ]
    },
    {
      "metadata": {
        "id": "iOxYuyOzpIpT",
        "colab_type": "code",
        "colab": {}
      },
      "cell_type": "code",
      "source": [
        "empty_dict = {}\n",
        "released = {\n",
        "  \"iphone\" : 2007,\n",
        "  \"iphone 3G\" : 2008,\n",
        "  \"iphone 3GS\" : 2009,\n",
        "  \"iphone 4\" : 2010,\n",
        "  \"iphone 4S\" : 2011,\n",
        "  \"iphone 5\" : 2012\n",
        "}"
      ],
      "execution_count": 0,
      "outputs": []
    },
    {
      "metadata": {
        "id": "rWomJ8qJoxWc",
        "colab_type": "code",
        "outputId": "43836117-9782-4044-a296-81483387cc40",
        "colab": {
          "base_uri": "https://localhost:8080/",
          "height": 173
        }
      },
      "cell_type": "code",
      "source": [
        "print(empty_dict)\n",
        "print(len(empty_dict))\n",
        "print(type(empty_dict))\n",
        "\n",
        "print(\"\")\n",
        "\n",
        "print(released)\n",
        "print(released[\"iphone 5\"])\n",
        "print(len(released))\n",
        "print(type(released))"
      ],
      "execution_count": 0,
      "outputs": [
        {
          "output_type": "stream",
          "text": [
            "{}\n",
            "0\n",
            "<class 'dict'>\n",
            "\n",
            "{'iphone': 2007, 'iphone 3G': 2008, 'iphone 3GS': 2009, 'iphone 4': 2010, 'iphone 4S': 2011, 'iphone 5': 2012}\n",
            "2012\n",
            "6\n",
            "<class 'dict'>\n"
          ],
          "name": "stdout"
        }
      ]
    },
    {
      "metadata": {
        "id": "PlT_9rSMpA5v",
        "colab_type": "text"
      },
      "cell_type": "markdown",
      "source": [
        "#### Operations"
      ]
    },
    {
      "metadata": {
        "id": "A9y1bce-H2Wy",
        "colab_type": "code",
        "colab": {}
      },
      "cell_type": "code",
      "source": [
        "student = {'Name': 'Zara', 'Age': 7, 'Class': 'MARK5828'}"
      ],
      "execution_count": 0,
      "outputs": []
    },
    {
      "metadata": {
        "id": "mtc_MnK3HyPE",
        "colab_type": "text"
      },
      "cell_type": "markdown",
      "source": [
        "Changing the value of an existing key."
      ]
    },
    {
      "metadata": {
        "id": "w5tuM_kYpStY",
        "colab_type": "code",
        "outputId": "491a0d06-df1e-4c9a-ba9a-1f483f6d9b7d",
        "colab": {
          "base_uri": "https://localhost:8080/",
          "height": 34
        }
      },
      "cell_type": "code",
      "source": [
        "student[\"Name\"] = \"Zack\"\n",
        "print(student[\"Name\"])"
      ],
      "execution_count": 0,
      "outputs": [
        {
          "output_type": "stream",
          "text": [
            "Zack\n"
          ],
          "name": "stdout"
        }
      ]
    },
    {
      "metadata": {
        "id": "nrlZ_gW5H8ex",
        "colab_type": "text"
      },
      "cell_type": "markdown",
      "source": [
        "Creating a new key, value pair"
      ]
    },
    {
      "metadata": {
        "id": "AudEGKDollEW",
        "colab_type": "code",
        "outputId": "5cca9363-bdf0-4194-87cc-198d072cc80c",
        "colab": {
          "base_uri": "https://localhost:8080/",
          "height": 34
        }
      },
      "cell_type": "code",
      "source": [
        "student[\"Hobby\"] = \"Basketball\"\n",
        "print(student)"
      ],
      "execution_count": 0,
      "outputs": [
        {
          "output_type": "stream",
          "text": [
            "{'Name': 'Zack', 'Age': 7, 'Class': 'MARK5828', 'Hobby': 'Basketball'}\n"
          ],
          "name": "stdout"
        }
      ]
    },
    {
      "metadata": {
        "id": "VXXNnHzWH_wx",
        "colab_type": "text"
      },
      "cell_type": "markdown",
      "source": [
        "Getting all of the keys in a dictionary."
      ]
    },
    {
      "metadata": {
        "id": "4M8tyhVclogD",
        "colab_type": "code",
        "outputId": "9d2ece13-1e3a-4a44-96e9-f376b47112cb",
        "colab": {
          "base_uri": "https://localhost:8080/",
          "height": 34
        }
      },
      "cell_type": "code",
      "source": [
        "print(student.keys())"
      ],
      "execution_count": 0,
      "outputs": [
        {
          "output_type": "stream",
          "text": [
            "dict_keys(['Name', 'Age', 'Class', 'Hobby'])\n"
          ],
          "name": "stdout"
        }
      ]
    },
    {
      "metadata": {
        "id": "QTg4yJCaIDKB",
        "colab_type": "text"
      },
      "cell_type": "markdown",
      "source": [
        "Getting all of the values in a dictionary."
      ]
    },
    {
      "metadata": {
        "id": "YsoXAsCIlpCx",
        "colab_type": "code",
        "outputId": "cea2ce9e-8c8c-4bf0-b46d-47025b71b725",
        "colab": {
          "base_uri": "https://localhost:8080/",
          "height": 34
        }
      },
      "cell_type": "code",
      "source": [
        "print(student.values())"
      ],
      "execution_count": 0,
      "outputs": [
        {
          "output_type": "stream",
          "text": [
            "dict_values(['Zack', 7, 'MARK5828', 'Basketball'])\n"
          ],
          "name": "stdout"
        }
      ]
    },
    {
      "metadata": {
        "id": "FyUHFR4F1f8f",
        "colab_type": "text"
      },
      "cell_type": "markdown",
      "source": [
        "### Python Variable Name Rules\n",
        "\n",
        "\n",
        "- **Must begin with a letter (a - z, A - B) or underscore (_)**\n",
        "- **Other characters can be letters, numbers or _ (no space is allowed)**\n",
        "- **Case Sensitive.(Example: test dose not equal Test)**\n",
        "- **Can be any (reasonable) length**.\n",
        "- **There are some reserved words which you cannot use as a variable name because Python uses them for other things.(Example : <font color='green'> ** print** </font>)**\n",
        "\n",
        " \n",
        "### <font color='green'> Acceptable variable names </font> : <font color='blue'> A1 , count ,   number_of_samples ,   _test </font>\n",
        "\n",
        "### <font color='red'> Unacceptable variable names </font> : <font color='blue'> 1A , count@,   number of samples ,   b-1 , print </font>\n",
        "\n",
        "___________________________________________________________________________________________________________________________________________________________________________________________________________________________"
      ]
    },
    {
      "metadata": {
        "id": "sFnPR2jd5kiL",
        "colab_type": "text"
      },
      "cell_type": "markdown",
      "source": [
        "## Conditional Statements\n"
      ]
    },
    {
      "metadata": {
        "id": "5NFBsXrqIQ-5",
        "colab_type": "text"
      },
      "cell_type": "markdown",
      "source": [
        "Using conditional statements allow the computer to decide what actions to take based on the condition you set. To do this, you will need to define 2 things:\n",
        "  - **A condition**\n",
        "  - **A task**\n",
        "\n",
        "In Python, we can achieve this through **IF**, **ELIF**, and/or **ELSE** statements."
      ]
    },
    {
      "metadata": {
        "id": "QecyPlNhMG1P",
        "colab_type": "text"
      },
      "cell_type": "markdown",
      "source": [
        "\n",
        "\n",
        "```\n",
        "if traffic_light == red:\n",
        "    drive_car()\n",
        "else:\n",
        "    stop()\n",
        "```\n",
        "here\n",
        "- Condition: is traffic light red?\n",
        "- Task: drive car or stop\n"
      ]
    },
    {
      "metadata": {
        "id": "thdY4IfLOEGp",
        "colab_type": "text"
      },
      "cell_type": "markdown",
      "source": [
        "**A few important things to note about syntax.**\n",
        "\n",
        "- Remember to include a **colon** (:) after the condition.\n",
        "- The line after the colon must be **indented**.\n",
        "- All lines indented the same amount after the colon will be executed whenever the condition is true."
      ]
    },
    {
      "metadata": {
        "id": "s33HPnm86MdN",
        "colab_type": "code",
        "outputId": "a541b97d-3e92-4fbb-afa9-9078e1fce6de",
        "colab": {
          "base_uri": "https://localhost:8080/",
          "height": 68
        }
      },
      "cell_type": "code",
      "source": [
        "mark = 76\n",
        "if mark < 50:         # Condition 1 (remember to use a colon)\n",
        "  print(\"Fail\")       # Task 1 (note that this line is indented)\n",
        "  print(\":(\")\n",
        "else:                 # If Condition 1 Fails\n",
        "  print(\"Success\")    # Task 2\n",
        "  print(\":D\")\n",
        "print(\"._.\")          # Non-indented line"
      ],
      "execution_count": 0,
      "outputs": [
        {
          "output_type": "stream",
          "text": [
            "Success\n",
            ":D\n",
            "._.\n"
          ],
          "name": "stdout"
        }
      ]
    },
    {
      "metadata": {
        "id": "IBaY-8SGRKVD",
        "colab_type": "code",
        "outputId": "3436ba48-d3b6-4c94-9734-b2c17441d297",
        "colab": {
          "base_uri": "https://localhost:8080/",
          "height": 34
        }
      },
      "cell_type": "code",
      "source": [
        "mark = 100\n",
        "if mark < 50:\n",
        "  print(\"FL\")\n",
        "elif mark < 65:\n",
        "  print(\"PS\")\n",
        "elif mark < 75:\n",
        "  print(\"CR\")\n",
        "elif mark < 85:\n",
        "  print(\"DN\")\n",
        "else:\n",
        "  print(\"HD\")"
      ],
      "execution_count": 0,
      "outputs": [
        {
          "output_type": "stream",
          "text": [
            "DN\n"
          ],
          "name": "stdout"
        }
      ]
    },
    {
      "metadata": {
        "id": "Oga9SuI76Oax",
        "colab_type": "code",
        "outputId": "c808ea16-3c6d-48f4-d70a-39d82c56a9ea",
        "colab": {
          "base_uri": "https://localhost:8080/",
          "height": 34
        }
      },
      "cell_type": "code",
      "source": [
        "hobbies = [\"Basketball\", \"Swimming\", \"Tennis\", \"Snooker\"]\n",
        "if \"Snooker\" in hobbies:\n",
        "  print(\"You rock!\")"
      ],
      "execution_count": 0,
      "outputs": [
        {
          "output_type": "stream",
          "text": [
            "You rock!\n"
          ],
          "name": "stdout"
        }
      ]
    },
    {
      "metadata": {
        "id": "Rb69RS-tqFMI",
        "colab_type": "code",
        "outputId": "0dc4d7b9-b476-48c7-ea7a-ada1cea9a420",
        "colab": {
          "base_uri": "https://localhost:8080/",
          "height": 34
        }
      },
      "cell_type": "code",
      "source": [
        "student = {'Name': 'Zara', 'Age': 7, 'Class': 'MARK5828'}\n",
        "if 'Name' in student.keys():\n",
        "  print(\"Yay\")\n",
        "else:\n",
        "  print(\"Nay\")"
      ],
      "execution_count": 0,
      "outputs": [
        {
          "output_type": "stream",
          "text": [
            "Yay\n"
          ],
          "name": "stdout"
        }
      ]
    },
    {
      "metadata": {
        "id": "4314uDdXqYCL",
        "colab_type": "code",
        "outputId": "f1a226d4-a02b-46e0-f02b-a45280b421e6",
        "colab": {
          "base_uri": "https://localhost:8080/",
          "height": 34
        }
      },
      "cell_type": "code",
      "source": [
        "if 'Zara' in student.values():\n",
        "  print(\"Yay\")\n",
        "else:\n",
        "  print(\"Nay\")"
      ],
      "execution_count": 0,
      "outputs": [
        {
          "output_type": "stream",
          "text": [
            "Yay\n"
          ],
          "name": "stdout"
        }
      ]
    },
    {
      "metadata": {
        "id": "WxZGTIMr6Q0X",
        "colab_type": "text"
      },
      "cell_type": "markdown",
      "source": [
        "## Loops\n"
      ]
    },
    {
      "metadata": {
        "id": "nkKC7DYFOWk6",
        "colab_type": "text"
      },
      "cell_type": "markdown",
      "source": [
        "One way computers transcend human ability is its ability to do repetitive tasks consistently. Loops allow computers to repeat the same task over a list of elements, or until a condition is satisfied.\n",
        "\n",
        "Python has two ways to perform loops:\n",
        "- <font color='green'> **For Loop** </font> \n",
        "- <font color='green'> **While Loop** </font> "
      ]
    },
    {
      "metadata": {
        "id": "Nj7Wh_xPq_h_",
        "colab_type": "text"
      },
      "cell_type": "markdown",
      "source": [
        "### For Loop"
      ]
    },
    {
      "metadata": {
        "id": "LLVbE6SlQJN0",
        "colab_type": "text"
      },
      "cell_type": "markdown",
      "source": [
        "For loop is designed to iterate over a list of elements, until the end of the list has been reached."
      ]
    },
    {
      "metadata": {
        "id": "Ef12IwG9qiwI",
        "colab_type": "code",
        "outputId": "a2eacf9e-67e9-4fae-8b94-868a4d70c4b4",
        "colab": {
          "base_uri": "https://localhost:8080/",
          "height": 85
        }
      },
      "cell_type": "code",
      "source": [
        "shopping_items = [\"Bread\", \"Milk\", \"Salmon\", \"Chicken\"]\n",
        "for item in shopping_items:\n",
        "  print(item)"
      ],
      "execution_count": 0,
      "outputs": [
        {
          "output_type": "stream",
          "text": [
            "Bread\n",
            "Milk\n",
            "Salmon\n",
            "Chicken\n"
          ],
          "name": "stdout"
        }
      ]
    },
    {
      "metadata": {
        "id": "ogNtYXvAqzK-",
        "colab_type": "code",
        "outputId": "8856fe44-85f5-44d7-c4d7-5cb1fbfc5a84",
        "colab": {
          "base_uri": "https://localhost:8080/",
          "height": 187
        }
      },
      "cell_type": "code",
      "source": [
        "for i in range(0,10):\n",
        "  print(i)"
      ],
      "execution_count": 0,
      "outputs": [
        {
          "output_type": "stream",
          "text": [
            "0\n",
            "1\n",
            "2\n",
            "3\n",
            "4\n",
            "5\n",
            "6\n",
            "7\n",
            "8\n",
            "9\n"
          ],
          "name": "stdout"
        }
      ]
    },
    {
      "metadata": {
        "id": "pxqWrEQyq7pP",
        "colab_type": "code",
        "outputId": "8385b868-dcd3-4317-8b7b-c9fc4e60d467",
        "colab": {
          "base_uri": "https://localhost:8080/",
          "height": 85
        }
      },
      "cell_type": "code",
      "source": [
        "for i, item in enumerate(shopping_items):\n",
        "  print(\"Purchasing item \" + str(i) + \": \" + item) # str() converts i (integer) into a string"
      ],
      "execution_count": 0,
      "outputs": [
        {
          "output_type": "stream",
          "text": [
            "Purchasing item 0: Bread\n",
            "Purchasing item 1: Milk\n",
            "Purchasing item 2: Salmon\n",
            "Purchasing item 3: Chicken\n"
          ],
          "name": "stdout"
        }
      ]
    },
    {
      "metadata": {
        "id": "ja34jy0hrF11",
        "colab_type": "code",
        "outputId": "a781353a-e70c-4137-d9d4-599ce4b1d478",
        "colab": {
          "base_uri": "https://localhost:8080/",
          "height": 102
        }
      },
      "cell_type": "code",
      "source": [
        "basketball_team = {\n",
        "  \"Center (C)\": \"DeMarcus Cousins\",\n",
        "  \"Power Forward (PF)\": \"Draymond Green\",\n",
        "  \"Small Forward (SF)\": \"Kevin Durant\",\n",
        "  \"Shooting Guard (SG)\": \"Klay Thompson\",\n",
        "  \"Point Guard (PG)\": \"Stephen Curry\"\n",
        "}\n",
        "\n",
        "for key, value in basketball_team.items():\n",
        "  print(key, value)"
      ],
      "execution_count": 0,
      "outputs": [
        {
          "output_type": "stream",
          "text": [
            "Center (C) DeMarcus Cousins\n",
            "Power Forward (PF) Draymond Green\n",
            "Small Forward (SF) Kevin Durant\n",
            "Shooting Guard (SG) Klay Thompson\n",
            "Point Guard (PG) Stephen Curry\n"
          ],
          "name": "stdout"
        }
      ]
    },
    {
      "metadata": {
        "id": "RxpEyPD8rOsC",
        "colab_type": "text"
      },
      "cell_type": "markdown",
      "source": [
        "### While Loop"
      ]
    },
    {
      "metadata": {
        "id": "BFa0YOkxQXv7",
        "colab_type": "text"
      },
      "cell_type": "markdown",
      "source": [
        "A while loop is designed to run until a user defined condition is no longer satisfied."
      ]
    },
    {
      "metadata": {
        "id": "fiRLH-MTrNkQ",
        "colab_type": "code",
        "outputId": "0c9d9f44-30d9-4780-de1e-74d0679c80cf",
        "colab": {
          "base_uri": "https://localhost:8080/",
          "height": 187
        }
      },
      "cell_type": "code",
      "source": [
        "i = 0\n",
        "while i < 10:\n",
        "  print(i)\n",
        "  i = i + 1"
      ],
      "execution_count": 0,
      "outputs": [
        {
          "output_type": "stream",
          "text": [
            "0\n",
            "1\n",
            "2\n",
            "3\n",
            "4\n",
            "5\n",
            "6\n",
            "7\n",
            "8\n",
            "9\n"
          ],
          "name": "stdout"
        }
      ]
    },
    {
      "metadata": {
        "id": "WSaGoG9JrjyZ",
        "colab_type": "code",
        "outputId": "be5f3b81-380a-4c53-9ad8-fb8a95dfd98a",
        "colab": {
          "base_uri": "https://localhost:8080/",
          "height": 85
        }
      },
      "cell_type": "code",
      "source": [
        "shopping_items = [\"Bread\", \"Milk\", \"Salmon\", \"Chicken\"]\n",
        "index = 0\n",
        "while index < len(shopping_items):\n",
        "  print(shopping_items[index])\n",
        "  index += 1"
      ],
      "execution_count": 0,
      "outputs": [
        {
          "output_type": "stream",
          "text": [
            "Bread\n",
            "Milk\n",
            "Salmon\n",
            "Chicken\n"
          ],
          "name": "stdout"
        }
      ]
    },
    {
      "metadata": {
        "id": "UgF-l9QkSAyR",
        "colab_type": "text"
      },
      "cell_type": "markdown",
      "source": [
        "One unique property of the While loop is that condition can always be satisfied but a program can exit the loop when a condition inside the loop is satisfied using a **break** function."
      ]
    },
    {
      "metadata": {
        "id": "FA9q66HlRtO3",
        "colab_type": "code",
        "outputId": "a3ddf261-7a48-435e-8d6c-f91970277aa3",
        "colab": {
          "base_uri": "https://localhost:8080/",
          "height": 187
        }
      },
      "cell_type": "code",
      "source": [
        "i = 0\n",
        "while(True):\n",
        "  i = i + 1\n",
        "  if (i == 10):\n",
        "    break\n",
        "  print (i)\n",
        "print(\"Bye Bye\")\n",
        "  "
      ],
      "execution_count": 0,
      "outputs": [
        {
          "output_type": "stream",
          "text": [
            "1\n",
            "2\n",
            "3\n",
            "4\n",
            "5\n",
            "6\n",
            "7\n",
            "8\n",
            "9\n",
            "Bye Bye\n"
          ],
          "name": "stdout"
        }
      ]
    },
    {
      "metadata": {
        "id": "7tzlm2ca6V-J",
        "colab_type": "text"
      },
      "cell_type": "markdown",
      "source": [
        "## Functions\n"
      ]
    },
    {
      "metadata": {
        "id": "ERx42Vd3uobc",
        "colab_type": "text"
      },
      "cell_type": "markdown",
      "source": [
        "Functions are a convenient way to divide your code into useful blocks, allowing us to structure our code, make it more readable, **reuse** it and save some time. \n",
        "\n",
        "The syntax to define a function would be\n",
        "\n",
        "\n",
        "\n",
        "```\n",
        "def my_function(input1, input2 ..., inputn):\n",
        "    # Write your code here\n",
        "    return output\n",
        "```\n",
        "\n",
        "**Note:** It is not always essential to understand how a function works. However, you must understand what the correct type of inputs and outputs are.\n",
        "\n"
      ]
    },
    {
      "metadata": {
        "id": "udLyV_ns6nh6",
        "colab_type": "code",
        "colab": {}
      },
      "cell_type": "code",
      "source": [
        "def sum(num1, num2):\n",
        "  \"\"\"Performs num1 + num2\"\"\"\n",
        "  \"\"\"\n",
        "  Input:\n",
        "    num1 (Number)\n",
        "    num2 (Number)\n",
        "  Output:\n",
        "    Sum of the 2 numbers\n",
        "  \"\"\"\n",
        "  return num1 + num2"
      ],
      "execution_count": 0,
      "outputs": []
    },
    {
      "metadata": {
        "id": "7GGSMiBDvqsX",
        "colab_type": "code",
        "outputId": "4b2a6be7-29b2-4ba5-c171-0ee24f5e790e",
        "colab": {
          "base_uri": "https://localhost:8080/",
          "height": 118
        }
      },
      "cell_type": "code",
      "source": [
        "help(sum)\n",
        "sum(2, 4)"
      ],
      "execution_count": 0,
      "outputs": [
        {
          "output_type": "stream",
          "text": [
            "Help on function sum in module __main__:\n",
            "\n",
            "sum(num1, num2)\n",
            "    Performs num1 + num2\n",
            "\n"
          ],
          "name": "stdout"
        },
        {
          "output_type": "execute_result",
          "data": {
            "text/plain": [
              "6"
            ]
          },
          "metadata": {
            "tags": []
          },
          "execution_count": 3
        }
      ]
    },
    {
      "metadata": {
        "id": "ilV4OT7jvQhY",
        "colab_type": "code",
        "outputId": "a653aeb1-09da-464b-b48f-76c33eb60092",
        "colab": {
          "base_uri": "https://localhost:8080/",
          "height": 68
        }
      },
      "cell_type": "code",
      "source": [
        "\"\"\"This cell demonstrates what code would look like without a function.\"\"\"\n",
        "course_marks = {\n",
        "  \"Angela\": 90,\n",
        "  \"Peter\": 45,\n",
        "  \"Jimmy\": 66\n",
        "}\n",
        "\n",
        "mark = course_marks[\"Angela\"]\n",
        "if mark < 50:\n",
        "  print(\"FL\")\n",
        "elif mark < 65:\n",
        "  print(\"PS\")\n",
        "elif mark < 75:\n",
        "  print(\"CR\")\n",
        "elif mark < 85:\n",
        "  print(\"DN\")\n",
        "else:\n",
        "  print(\"HD\")\n",
        "\n",
        "mark = course_marks[\"Peter\"]\n",
        "if mark < 50:\n",
        "  print(\"FL\")\n",
        "elif mark < 65:\n",
        "  print(\"PS\")\n",
        "elif mark < 75:\n",
        "  print(\"CR\")\n",
        "elif mark < 85:\n",
        "  print(\"DN\")\n",
        "else:\n",
        "  print(\"HD\")\n",
        "  \n",
        "mark = course_marks[\"Jimmy\"]\n",
        "if mark < 50:\n",
        "  print(\"FL\")\n",
        "elif mark < 65:\n",
        "  print(\"PS\")\n",
        "elif mark < 75:\n",
        "  print(\"CR\")\n",
        "elif mark < 85:\n",
        "  print(\"DN\")\n",
        "else:\n",
        "  print(\"HD\")"
      ],
      "execution_count": 0,
      "outputs": [
        {
          "output_type": "stream",
          "text": [
            "HD\n",
            "FL\n",
            "CR\n"
          ],
          "name": "stdout"
        }
      ]
    },
    {
      "metadata": {
        "id": "QfmFWYYFxPEc",
        "colab_type": "code",
        "outputId": "39056c09-23ba-44b1-d85c-3f90714ff7d4",
        "colab": {
          "base_uri": "https://localhost:8080/",
          "height": 68
        }
      },
      "cell_type": "code",
      "source": [
        "\"\"\"This cell makes use of the function 'get_grade' \"\"\"\n",
        "def get_grade(mark):\n",
        "  \"\"\"\n",
        "  Input : mark (number)\n",
        "  Output: What grade has been achieved with that mark.\n",
        "  \n",
        "  \"\"\"\n",
        "  if mark < 50:\n",
        "    print(\"FL\")\n",
        "  elif mark < 65:\n",
        "    print(\"PS\")\n",
        "  elif mark < 75:\n",
        "    print(\"CR\")\n",
        "  elif mark < 85:\n",
        "    print(\"DN\")\n",
        "  else:\n",
        "    print(\"HD\")\n",
        "  return\n",
        "\n",
        "course_marks = {\n",
        "  \"Angela\": 90,\n",
        "  \"Peter\": 45,\n",
        "  \"Jimmy\":66\n",
        "}\n",
        "\n",
        "get_grade(course_marks[\"Angela\"])\n",
        "get_grade(course_marks[\"Peter\"])\n",
        "get_grade(course_marks[\"Jimmy\"])"
      ],
      "execution_count": 0,
      "outputs": [
        {
          "output_type": "stream",
          "text": [
            "HD\n",
            "FL\n",
            "CR\n"
          ],
          "name": "stdout"
        }
      ]
    },
    {
      "metadata": {
        "id": "JctDOVrFWrWM",
        "colab_type": "text"
      },
      "cell_type": "markdown",
      "source": [
        "Python has several built-in functions. You can find them in the [documentation](https://docs.python.org/3.6/library/functions.html).\n",
        "\n",
        "We have used some of them already.\n",
        "- print\n",
        "- type\n",
        "- range\n",
        "- enumerate\n",
        "- str\n",
        "- len\n",
        "\n",
        "**help** is a special Python function that prints out the **docstring** (function description) for a function. "
      ]
    },
    {
      "metadata": {
        "id": "6jrTLdt0XRcl",
        "colab_type": "code",
        "outputId": "6edbc8e9-b6bf-44bb-9bf0-a31261010f5a",
        "colab": {
          "base_uri": "https://localhost:8080/",
          "height": 102
        }
      },
      "cell_type": "code",
      "source": [
        "help(len)"
      ],
      "execution_count": 0,
      "outputs": [
        {
          "output_type": "stream",
          "text": [
            "Help on built-in function len in module builtins:\n",
            "\n",
            "len(obj, /)\n",
            "    Return the number of items in a container.\n",
            "\n"
          ],
          "name": "stdout"
        }
      ]
    },
    {
      "metadata": {
        "id": "JTBcd__3yIqN",
        "colab_type": "code",
        "outputId": "8b149c5c-1efe-44e1-a86a-f1fe9cdd8fa7",
        "colab": {
          "base_uri": "https://localhost:8080/",
          "height": 493
        }
      },
      "cell_type": "code",
      "source": [
        "help(help)"
      ],
      "execution_count": 0,
      "outputs": [
        {
          "output_type": "stream",
          "text": [
            "Help on _Helper in module _sitebuiltins object:\n",
            "\n",
            "class _Helper(builtins.object)\n",
            " |  Define the builtin 'help'.\n",
            " |  \n",
            " |  This is a wrapper around pydoc.help that provides a helpful message\n",
            " |  when 'help' is typed at the Python interactive prompt.\n",
            " |  \n",
            " |  Calling help() at the Python prompt starts an interactive help session.\n",
            " |  Calling help(thing) prints help for the python object 'thing'.\n",
            " |  \n",
            " |  Methods defined here:\n",
            " |  \n",
            " |  __call__(self, *args, **kwds)\n",
            " |      Call self as a function.\n",
            " |  \n",
            " |  __repr__(self)\n",
            " |      Return repr(self).\n",
            " |  \n",
            " |  ----------------------------------------------------------------------\n",
            " |  Data descriptors defined here:\n",
            " |  \n",
            " |  __dict__\n",
            " |      dictionary for instance variables (if defined)\n",
            " |  \n",
            " |  __weakref__\n",
            " |      list of weak references to the object (if defined)\n",
            "\n"
          ],
          "name": "stdout"
        }
      ]
    },
    {
      "metadata": {
        "id": "04CaZBaMyb0O",
        "colab_type": "text"
      },
      "cell_type": "markdown",
      "source": [
        "## List Comprehensions"
      ]
    },
    {
      "metadata": {
        "id": "HyvNAUrXZHey",
        "colab_type": "text"
      },
      "cell_type": "markdown",
      "source": [
        "List comprehensions provide a concise way to create lists. "
      ]
    },
    {
      "metadata": {
        "id": "EnyQObDEpzNC",
        "colab_type": "code",
        "outputId": "e67e3686-1b20-4a37-c336-c83fe0b93d6c",
        "colab": {
          "base_uri": "https://localhost:8080/",
          "height": 34
        }
      },
      "cell_type": "code",
      "source": [
        "\"\"\"(1) List Comprehension\"\"\"\n",
        "[i for i in range(10)]"
      ],
      "execution_count": 0,
      "outputs": [
        {
          "output_type": "execute_result",
          "data": {
            "text/plain": [
              "[0, 1, 2, 3, 4, 5, 6, 7, 8, 9]"
            ]
          },
          "metadata": {
            "tags": []
          },
          "execution_count": 155
        }
      ]
    },
    {
      "metadata": {
        "id": "ajvY-2Sgtm55",
        "colab_type": "code",
        "outputId": "08e5e2f1-28e9-4990-b377-85aa78b4e836",
        "colab": {
          "base_uri": "https://localhost:8080/",
          "height": 34
        }
      },
      "cell_type": "code",
      "source": [
        "\"\"\"(1) For Loop that does the same thing\"\"\"\n",
        "l = []\n",
        "for i in range(10):\n",
        "  l.append(i) # append will add a varialbe to the END of the list\n",
        "print(l)"
      ],
      "execution_count": 0,
      "outputs": [
        {
          "output_type": "stream",
          "text": [
            "[0, 1, 2, 3, 4, 5, 6, 7, 8, 9]\n"
          ],
          "name": "stdout"
        }
      ]
    },
    {
      "metadata": {
        "id": "IpyIaYkDp6tP",
        "colab_type": "code",
        "outputId": "5807e1bd-3ff9-405a-c955-d50d82ddfe37",
        "colab": {
          "base_uri": "https://localhost:8080/",
          "height": 34
        }
      },
      "cell_type": "code",
      "source": [
        "\"\"\"(2) List Comprehension\"\"\"\n",
        "[i for i in range(10) if i % 2 == 0]"
      ],
      "execution_count": 0,
      "outputs": [
        {
          "output_type": "execute_result",
          "data": {
            "text/plain": [
              "[0, 2, 4, 6, 8]"
            ]
          },
          "metadata": {
            "tags": []
          },
          "execution_count": 156
        }
      ]
    },
    {
      "metadata": {
        "id": "6l8O0V9FtueV",
        "colab_type": "code",
        "outputId": "f9b94b9d-157a-4cba-97c8-d7456c4ba3a4",
        "colab": {
          "base_uri": "https://localhost:8080/",
          "height": 34
        }
      },
      "cell_type": "code",
      "source": [
        "\"\"\"(2) For Loop that does the same thing\"\"\"\n",
        "l = []\n",
        "for i in range(10):\n",
        "  if i % 2 == 0:\n",
        "    l.append(i)\n",
        "print(l)"
      ],
      "execution_count": 0,
      "outputs": [
        {
          "output_type": "stream",
          "text": [
            "[0, 2, 4, 6, 8]\n"
          ],
          "name": "stdout"
        }
      ]
    },
    {
      "metadata": {
        "id": "GWs0GMVcrdp4",
        "colab_type": "code",
        "outputId": "1aa24827-dcf1-4081-9b84-9422096100d8",
        "colab": {
          "base_uri": "https://localhost:8080/",
          "height": 34
        }
      },
      "cell_type": "code",
      "source": [
        "\"\"\"(3) List Comprehension\"\"\"\n",
        "shopping = {\n",
        "    \"2L Full Cream Milk\": 2.00,\n",
        "    \"100g Smoked Salmon\": 16.99,\n",
        "    \"5 Pack Mi Goreng\": 2.75,\n",
        "    \"1kg Chicken\": 20.99,\n",
        "    \"Starbucks Coffee\": 7.99\n",
        "    \n",
        "}\n",
        "print([item for item, price in shopping.items() if price < 5.00])"
      ],
      "execution_count": 0,
      "outputs": [
        {
          "output_type": "stream",
          "text": [
            "['2L Full Cream Milk', '5 Pack Mi Goreng']\n"
          ],
          "name": "stdout"
        }
      ]
    },
    {
      "metadata": {
        "id": "P7Yrh7JeuGvM",
        "colab_type": "code",
        "outputId": "c427c5d5-dbbd-4f50-c73c-5e5e954a8b24",
        "colab": {
          "base_uri": "https://localhost:8080/",
          "height": 34
        }
      },
      "cell_type": "code",
      "source": [
        "\"\"\"(3) For Loop that does the same thing\"\"\"\n",
        "l = []\n",
        "for item, price in shopping.items():\n",
        "  if price < 5.00:\n",
        "    l.append(item)\n",
        "print(l)"
      ],
      "execution_count": 0,
      "outputs": [
        {
          "output_type": "stream",
          "text": [
            "['2L Full Cream Milk', '5 Pack Mi Goreng']\n"
          ],
          "name": "stdout"
        }
      ]
    },
    {
      "metadata": {
        "id": "KMOX0o6byqC1",
        "colab_type": "text"
      },
      "cell_type": "markdown",
      "source": [
        "## Map/Filter/Reduce"
      ]
    },
    {
      "metadata": {
        "id": "sMUzo3ksb1v9",
        "colab_type": "text"
      },
      "cell_type": "markdown",
      "source": [
        "Below are some useful utility functions that you can use on a list of values."
      ]
    },
    {
      "metadata": {
        "id": "d3S7JI3pu1nV",
        "colab_type": "code",
        "outputId": "3741c089-8fbc-4616-f5ef-3975e920ffc3",
        "colab": {
          "base_uri": "https://localhost:8080/",
          "height": 34
        }
      },
      "cell_type": "code",
      "source": [
        "numbers = list(range(1, 10))\n",
        "numbers"
      ],
      "execution_count": 0,
      "outputs": [
        {
          "output_type": "execute_result",
          "data": {
            "text/plain": [
              "[1, 2, 3, 4, 5, 6, 7, 8, 9]"
            ]
          },
          "metadata": {
            "tags": []
          },
          "execution_count": 184
        }
      ]
    },
    {
      "metadata": {
        "id": "5ND7If-6a0jB",
        "colab_type": "text"
      },
      "cell_type": "markdown",
      "source": [
        "##### Map"
      ]
    },
    {
      "metadata": {
        "id": "mR4u0xbUa4LG",
        "colab_type": "text"
      },
      "cell_type": "markdown",
      "source": [
        "Map applies a function to all the items in a list."
      ]
    },
    {
      "metadata": {
        "id": "NSBpETyru_pB",
        "colab_type": "code",
        "outputId": "4eff7959-0136-4cb6-a842-34e7862d3506",
        "colab": {
          "base_uri": "https://localhost:8080/",
          "height": 34
        }
      },
      "cell_type": "code",
      "source": [
        "def add_10(x):\n",
        "  return x+10\n",
        "\n",
        "list(map(add_10, numbers))"
      ],
      "execution_count": 0,
      "outputs": [
        {
          "output_type": "execute_result",
          "data": {
            "text/plain": [
              "[11, 12, 13, 14, 15, 16, 17, 18, 19]"
            ]
          },
          "metadata": {
            "tags": []
          },
          "execution_count": 212
        }
      ]
    },
    {
      "metadata": {
        "id": "GDvocQibbDwA",
        "colab_type": "text"
      },
      "cell_type": "markdown",
      "source": [
        "##### Reduce"
      ]
    },
    {
      "metadata": {
        "id": "EAWqYAgebG3-",
        "colab_type": "text"
      },
      "cell_type": "markdown",
      "source": [
        "Reduce applies a rolling computation to sequential pairs of values in a list. For example, if you wanted to compute the product of a list of integers."
      ]
    },
    {
      "metadata": {
        "id": "HbfVmMBSvbXv",
        "colab_type": "code",
        "outputId": "3992e300-1962-4cf7-b39d-d8780860e992",
        "colab": {
          "base_uri": "https://localhost:8080/",
          "height": 34
        }
      },
      "cell_type": "code",
      "source": [
        "from functools import reduce\n",
        "\n",
        "def multiply(x, y):\n",
        "  return x * y\n",
        "\n",
        "reduce(multiply, numbers)"
      ],
      "execution_count": 0,
      "outputs": [
        {
          "output_type": "execute_result",
          "data": {
            "text/plain": [
              "362880"
            ]
          },
          "metadata": {
            "tags": []
          },
          "execution_count": 215
        }
      ]
    },
    {
      "metadata": {
        "id": "4xztIvvAbe8T",
        "colab_type": "text"
      },
      "cell_type": "markdown",
      "source": [
        "##### Filter"
      ]
    },
    {
      "metadata": {
        "id": "6PDXJZ5zbhDr",
        "colab_type": "text"
      },
      "cell_type": "markdown",
      "source": [
        "As the name suggests, filter creates a list of elements for which a function returns true."
      ]
    },
    {
      "metadata": {
        "id": "JdfM8llHvtoO",
        "colab_type": "code",
        "outputId": "2b48d7f7-e451-4dbf-8a91-e201c1dad655",
        "colab": {
          "base_uri": "https://localhost:8080/",
          "height": 34
        }
      },
      "cell_type": "code",
      "source": [
        "def isLessThan5(x):\n",
        "  if x < 5:\n",
        "    return True\n",
        "  else:\n",
        "    return False\n",
        "\n",
        "list(filter(isLessThan5, numbers))"
      ],
      "execution_count": 0,
      "outputs": [
        {
          "output_type": "execute_result",
          "data": {
            "text/plain": [
              "[1, 2, 3, 4]"
            ]
          },
          "metadata": {
            "tags": []
          },
          "execution_count": 216
        }
      ]
    },
    {
      "metadata": {
        "id": "SHCozIoIwObg",
        "colab_type": "text"
      },
      "cell_type": "markdown",
      "source": [
        "## Error Handling"
      ]
    },
    {
      "metadata": {
        "id": "S69YJKUscKXb",
        "colab_type": "text"
      },
      "cell_type": "markdown",
      "source": [
        "Errors are inevitable in Python and programming. However, through errors we can learn and get better at progrmaming. \n",
        "\n",
        "Python will tell you which line has triggered the error, making it usually easy for you to fix the error.\n",
        "\n",
        "If you have trouble fixing your error, feel free to ask a tutor or post on Moodle.\n",
        "\n",
        "\n",
        "Here are some common errors."
      ]
    },
    {
      "metadata": {
        "id": "_DzZl-DgwR_v",
        "colab_type": "code",
        "outputId": "6be862ac-a051-4d82-a3af-ce896d673b23",
        "colab": {
          "base_uri": "https://localhost:8080/",
          "height": 181
        }
      },
      "cell_type": "code",
      "source": [
        "string = \"hello\"\n",
        "print(strnig)"
      ],
      "execution_count": 0,
      "outputs": [
        {
          "output_type": "error",
          "ename": "NameError",
          "evalue": "ignored",
          "traceback": [
            "\u001b[0;31m---------------------------------------------------------------------------\u001b[0m",
            "\u001b[0;31mNameError\u001b[0m                                 Traceback (most recent call last)",
            "\u001b[0;32m<ipython-input-217-264c48582a50>\u001b[0m in \u001b[0;36m<module>\u001b[0;34m()\u001b[0m\n\u001b[1;32m      1\u001b[0m \u001b[0mstring\u001b[0m \u001b[0;34m=\u001b[0m \u001b[0;34m\"hello\"\u001b[0m\u001b[0;34m\u001b[0m\u001b[0;34m\u001b[0m\u001b[0m\n\u001b[0;32m----> 2\u001b[0;31m \u001b[0mprint\u001b[0m\u001b[0;34m(\u001b[0m\u001b[0mstrnig\u001b[0m\u001b[0;34m)\u001b[0m\u001b[0;34m\u001b[0m\u001b[0;34m\u001b[0m\u001b[0m\n\u001b[0m",
            "\u001b[0;31mNameError\u001b[0m: name 'strnig' is not defined"
          ]
        }
      ]
    },
    {
      "metadata": {
        "id": "p6iw5zL6dB-L",
        "colab_type": "code",
        "outputId": "41541c23-ab90-4463-dc82-aef2ccc34480",
        "colab": {
          "base_uri": "https://localhost:8080/",
          "height": 181
        }
      },
      "cell_type": "code",
      "source": [
        "shopping = [\"Bread\", \"Cake\", \"Ice Cream\"]\n",
        "print(shopping(1))"
      ],
      "execution_count": 0,
      "outputs": [
        {
          "output_type": "error",
          "ename": "TypeError",
          "evalue": "ignored",
          "traceback": [
            "\u001b[0;31m---------------------------------------------------------------------------\u001b[0m",
            "\u001b[0;31mTypeError\u001b[0m                                 Traceback (most recent call last)",
            "\u001b[0;32m<ipython-input-218-593d3b5101b8>\u001b[0m in \u001b[0;36m<module>\u001b[0;34m()\u001b[0m\n\u001b[1;32m      1\u001b[0m \u001b[0mshopping\u001b[0m \u001b[0;34m=\u001b[0m \u001b[0;34m[\u001b[0m\u001b[0;34m\"Bread\"\u001b[0m\u001b[0;34m,\u001b[0m \u001b[0;34m\"Cake\"\u001b[0m\u001b[0;34m,\u001b[0m \u001b[0;34m\"Ice Cream\"\u001b[0m\u001b[0;34m]\u001b[0m\u001b[0;34m\u001b[0m\u001b[0;34m\u001b[0m\u001b[0m\n\u001b[0;32m----> 2\u001b[0;31m \u001b[0mprint\u001b[0m\u001b[0;34m(\u001b[0m\u001b[0mshopping\u001b[0m\u001b[0;34m(\u001b[0m\u001b[0;36m1\u001b[0m\u001b[0;34m)\u001b[0m\u001b[0;34m)\u001b[0m\u001b[0;34m\u001b[0m\u001b[0;34m\u001b[0m\u001b[0m\n\u001b[0m",
            "\u001b[0;31mTypeError\u001b[0m: 'list' object is not callable"
          ]
        }
      ]
    },
    {
      "metadata": {
        "id": "fL9O8KEzdN7C",
        "colab_type": "code",
        "outputId": "044f3340-2516-4ad1-c4ec-60b55e0c8e3e",
        "colab": {
          "base_uri": "https://localhost:8080/",
          "height": 130
        }
      },
      "cell_type": "code",
      "source": [
        "x = 2\n",
        "if x < 10\n",
        "  print(\"True\")\n",
        "else:\n",
        "  print(\"False\")"
      ],
      "execution_count": 0,
      "outputs": [
        {
          "output_type": "error",
          "ename": "SyntaxError",
          "evalue": "ignored",
          "traceback": [
            "\u001b[0;36m  File \u001b[0;32m\"<ipython-input-222-f03cf3ee6a13>\"\u001b[0;36m, line \u001b[0;32m2\u001b[0m\n\u001b[0;31m    if x < 10\u001b[0m\n\u001b[0m             ^\u001b[0m\n\u001b[0;31mSyntaxError\u001b[0m\u001b[0;31m:\u001b[0m invalid syntax\n"
          ]
        }
      ]
    },
    {
      "metadata": {
        "id": "U-neQUt-VIO1",
        "colab_type": "text"
      },
      "cell_type": "markdown",
      "source": [
        "<font color='Purple'>**`Now you can add Python Programming as a technical skill in your resume!`**\n",
        "\n"
      ]
    }
  ]
}