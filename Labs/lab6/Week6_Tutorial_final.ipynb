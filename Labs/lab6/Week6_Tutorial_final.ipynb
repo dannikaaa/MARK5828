{
  "nbformat": 4,
  "nbformat_minor": 0,
  "metadata": {
    "colab": {
      "name": "Week6_Tutorial_final.ipynb",
      "version": "0.3.2",
      "provenance": [],
      "collapsed_sections": []
    },
    "kernelspec": {
      "display_name": "Python 3",
      "language": "python",
      "name": "python3"
    }
  },
  "cells": [
    {
      "metadata": {
        "colab_type": "text",
        "id": "lYemY1fBwJo4"
      },
      "cell_type": "markdown",
      "source": [
        "![alt text](https://www.business.unsw.edu.au/style%20library/asb/assets/images/logo-unsw.png)"
      ]
    },
    {
      "metadata": {
        "colab_type": "text",
        "id": "dP6PcKP9wJo9"
      },
      "cell_type": "markdown",
      "source": [
        "# MARK5828 Week 6: Multi-Channel Ad Effect"
      ]
    },
    {
      "metadata": {
        "colab_type": "text",
        "id": "0Bf9DTfBwJpA"
      },
      "cell_type": "markdown",
      "source": [
        "In this tutorial, we will be analyzing a data set describing 10,000 customers and\n",
        "potential customers of a retailer. The retailer uses four different advertising channels.\n",
        "\n",
        "1. **Display**\n",
        "    - Display screens, website based displays.\n",
        "2. **Social**\n",
        "    - Social platforms, Facebook, Twitter, Instagram etc.\n",
        "3. **Email**\n",
        "    - Email Advertisments.\n",
        "4. **Direct**\n",
        "    - Mail Boxes.\n",
        "\n",
        "Customer tracking begins when the customer is exposed to a display or social ad, visits the\n",
        "retailer website or makes a purchase."
      ]
    },
    {
      "metadata": {
        "colab_type": "text",
        "id": "ar9zph0QF3dX"
      },
      "cell_type": "markdown",
      "source": [
        "# Configure Package Dependencies"
      ]
    },
    {
      "metadata": {
        "colab_type": "code",
        "id": "hrGWthfzF1gU",
        "colab": {}
      },
      "cell_type": "code",
      "source": [
        "import os\n",
        "import random\n",
        "import pandas as pd\n",
        "import numpy as np\n",
        "import matplotlib.pyplot as plt\n",
        "import statsmodels.api as sm\n",
        "import statsmodels.formula.api as smf\n",
        "from statsmodels.graphics.mosaicplot import mosaic\n",
        "from scipy import stats"
      ],
      "execution_count": 0,
      "outputs": []
    },
    {
      "metadata": {
        "colab_type": "text",
        "id": "EA1h8FHWFkm1"
      },
      "cell_type": "markdown",
      "source": [
        "# 1. Importing and Visualizing Datasets\n",
        "\n",
        "We will be using three datasets in this tutorial namely: \n",
        "1. **Customer Data** <br>\n",
        "\n",
        "2. **Impression Data** <br>\n",
        "3. **Transaction Data** <br>"
      ]
    },
    {
      "metadata": {
        "colab_type": "text",
        "id": "x8kaoNXdRBmB"
      },
      "cell_type": "markdown",
      "source": [
        "## 1.1 Customer Dataset"
      ]
    },
    {
      "metadata": {
        "colab_type": "code",
        "id": "d2mfyoYtFO2R",
        "outputId": "6e426860-2c12-4afd-a70f-f1c17b66a98d",
        "colab": {
          "base_uri": "https://localhost:8080/",
          "height": 202
        }
      },
      "cell_type": "code",
      "source": [
        "# read customer data, in which each row describes a customer.\n",
        "cust = pd.read_csv(\"https://goo.gl/mqy8NR\")\n",
        "cust.head()"
      ],
      "execution_count": 0,
      "outputs": [
        {
          "output_type": "execute_result",
          "data": {
            "text/html": [
              "<div>\n",
              "<style scoped>\n",
              "    .dataframe tbody tr th:only-of-type {\n",
              "        vertical-align: middle;\n",
              "    }\n",
              "\n",
              "    .dataframe tbody tr th {\n",
              "        vertical-align: top;\n",
              "    }\n",
              "\n",
              "    .dataframe thead th {\n",
              "        text-align: right;\n",
              "    }\n",
              "</style>\n",
              "<table border=\"1\" class=\"dataframe\">\n",
              "  <thead>\n",
              "    <tr style=\"text-align: right;\">\n",
              "      <th></th>\n",
              "      <th>id</th>\n",
              "      <th>past.purchase</th>\n",
              "      <th>email</th>\n",
              "      <th>direct</th>\n",
              "    </tr>\n",
              "  </thead>\n",
              "  <tbody>\n",
              "    <tr>\n",
              "      <th>0</th>\n",
              "      <td>1</td>\n",
              "      <td>0</td>\n",
              "      <td>0</td>\n",
              "      <td>1</td>\n",
              "    </tr>\n",
              "    <tr>\n",
              "      <th>1</th>\n",
              "      <td>2</td>\n",
              "      <td>1</td>\n",
              "      <td>1</td>\n",
              "      <td>1</td>\n",
              "    </tr>\n",
              "    <tr>\n",
              "      <th>2</th>\n",
              "      <td>3</td>\n",
              "      <td>1</td>\n",
              "      <td>1</td>\n",
              "      <td>0</td>\n",
              "    </tr>\n",
              "    <tr>\n",
              "      <th>3</th>\n",
              "      <td>4</td>\n",
              "      <td>0</td>\n",
              "      <td>0</td>\n",
              "      <td>0</td>\n",
              "    </tr>\n",
              "    <tr>\n",
              "      <th>4</th>\n",
              "      <td>5</td>\n",
              "      <td>1</td>\n",
              "      <td>1</td>\n",
              "      <td>1</td>\n",
              "    </tr>\n",
              "  </tbody>\n",
              "</table>\n",
              "</div>"
            ],
            "text/plain": [
              "   id  past.purchase  email  direct\n",
              "0   1              0      0       1\n",
              "1   2              1      1       1\n",
              "2   3              1      1       0\n",
              "3   4              0      0       0\n",
              "4   5              1      1       1"
            ]
          },
          "metadata": {
            "tags": []
          },
          "execution_count": 62
        }
      ]
    },
    {
      "metadata": {
        "colab_type": "text",
        "id": "Iv6ZViJQwJp1"
      },
      "cell_type": "markdown",
      "source": [
        "1. **id:** an id number for the customer.\n",
        "2. **past purchase:** whether the customer has made a purchase prior to the observation period.\n",
        "3. **email:** indicates whether the customer is eligible to receive emails, i.e. we have an email address and permission to mail.\n",
        "4. **direct:** indicates whether the customer is eligible to receive direct mail, i.e. we have an address and permission to mail."
      ]
    },
    {
      "metadata": {
        "colab_type": "code",
        "id": "5SOC-t9hPnYr",
        "outputId": "d71956cb-bed4-4c92-9568-f07b7f253673",
        "colab": {
          "base_uri": "https://localhost:8080/",
          "height": 52
        }
      },
      "cell_type": "code",
      "source": [
        "rows = cust.shape[0]\n",
        "columns = cust.shape[1]\n",
        "print(\"Number of row is \", rows)\n",
        "print(\"Number of column is \", columns)"
      ],
      "execution_count": 0,
      "outputs": [
        {
          "output_type": "stream",
          "text": [
            "Number of row is  10000\n",
            "Number of column is  4\n"
          ],
          "name": "stdout"
        }
      ]
    },
    {
      "metadata": {
        "colab_type": "code",
        "id": "XPsD8RxPP1kS",
        "outputId": "8791cb34-2f6f-415a-a120-6109fe703cba",
        "colab": {
          "base_uri": "https://localhost:8080/",
          "height": 294
        }
      },
      "cell_type": "code",
      "source": [
        "# Display summary info of all numerical features.\n",
        "cust.describe()"
      ],
      "execution_count": 0,
      "outputs": [
        {
          "output_type": "execute_result",
          "data": {
            "text/html": [
              "<div>\n",
              "<style scoped>\n",
              "    .dataframe tbody tr th:only-of-type {\n",
              "        vertical-align: middle;\n",
              "    }\n",
              "\n",
              "    .dataframe tbody tr th {\n",
              "        vertical-align: top;\n",
              "    }\n",
              "\n",
              "    .dataframe thead th {\n",
              "        text-align: right;\n",
              "    }\n",
              "</style>\n",
              "<table border=\"1\" class=\"dataframe\">\n",
              "  <thead>\n",
              "    <tr style=\"text-align: right;\">\n",
              "      <th></th>\n",
              "      <th>id</th>\n",
              "      <th>past.purchase</th>\n",
              "      <th>email</th>\n",
              "      <th>direct</th>\n",
              "    </tr>\n",
              "  </thead>\n",
              "  <tbody>\n",
              "    <tr>\n",
              "      <th>count</th>\n",
              "      <td>10000.00000</td>\n",
              "      <td>10000.00000</td>\n",
              "      <td>10000.000000</td>\n",
              "      <td>10000.000000</td>\n",
              "    </tr>\n",
              "    <tr>\n",
              "      <th>mean</th>\n",
              "      <td>5000.50000</td>\n",
              "      <td>0.50220</td>\n",
              "      <td>0.600100</td>\n",
              "      <td>0.497400</td>\n",
              "    </tr>\n",
              "    <tr>\n",
              "      <th>std</th>\n",
              "      <td>2886.89568</td>\n",
              "      <td>0.50002</td>\n",
              "      <td>0.489902</td>\n",
              "      <td>0.500018</td>\n",
              "    </tr>\n",
              "    <tr>\n",
              "      <th>min</th>\n",
              "      <td>1.00000</td>\n",
              "      <td>0.00000</td>\n",
              "      <td>0.000000</td>\n",
              "      <td>0.000000</td>\n",
              "    </tr>\n",
              "    <tr>\n",
              "      <th>25%</th>\n",
              "      <td>2500.75000</td>\n",
              "      <td>0.00000</td>\n",
              "      <td>0.000000</td>\n",
              "      <td>0.000000</td>\n",
              "    </tr>\n",
              "    <tr>\n",
              "      <th>50%</th>\n",
              "      <td>5000.50000</td>\n",
              "      <td>1.00000</td>\n",
              "      <td>1.000000</td>\n",
              "      <td>0.000000</td>\n",
              "    </tr>\n",
              "    <tr>\n",
              "      <th>75%</th>\n",
              "      <td>7500.25000</td>\n",
              "      <td>1.00000</td>\n",
              "      <td>1.000000</td>\n",
              "      <td>1.000000</td>\n",
              "    </tr>\n",
              "    <tr>\n",
              "      <th>max</th>\n",
              "      <td>10000.00000</td>\n",
              "      <td>1.00000</td>\n",
              "      <td>1.000000</td>\n",
              "      <td>1.000000</td>\n",
              "    </tr>\n",
              "  </tbody>\n",
              "</table>\n",
              "</div>"
            ],
            "text/plain": [
              "                id  past.purchase         email        direct\n",
              "count  10000.00000    10000.00000  10000.000000  10000.000000\n",
              "mean    5000.50000        0.50220      0.600100      0.497400\n",
              "std     2886.89568        0.50002      0.489902      0.500018\n",
              "min        1.00000        0.00000      0.000000      0.000000\n",
              "25%     2500.75000        0.00000      0.000000      0.000000\n",
              "50%     5000.50000        1.00000      1.000000      0.000000\n",
              "75%     7500.25000        1.00000      1.000000      1.000000\n",
              "max    10000.00000        1.00000      1.000000      1.000000"
            ]
          },
          "metadata": {
            "tags": []
          },
          "execution_count": 64
        }
      ]
    },
    {
      "metadata": {
        "colab_type": "text",
        "id": "fPfj-qYdwJqe"
      },
      "cell_type": "markdown",
      "source": [
        "1. We have 10,000 customers and about half of those have made a purchase. \n",
        "2. About 60% are eligible for email and 50% are eligible for direct mail."
      ]
    },
    {
      "metadata": {
        "colab_type": "code",
        "id": "3f-8mbO2QAL2",
        "outputId": "65ab064f-12f9-45b6-a88d-64931137088d",
        "colab": {
          "base_uri": "https://localhost:8080/",
          "height": 202
        }
      },
      "cell_type": "code",
      "source": [
        "# Build cross table to have more inpection of customer data.\n",
        "pd.crosstab(index=[cust[\"past.purchase\"], cust[\"email\"]], columns=cust[\"direct\"])"
      ],
      "execution_count": 0,
      "outputs": [
        {
          "output_type": "execute_result",
          "data": {
            "text/html": [
              "<div>\n",
              "<style scoped>\n",
              "    .dataframe tbody tr th:only-of-type {\n",
              "        vertical-align: middle;\n",
              "    }\n",
              "\n",
              "    .dataframe tbody tr th {\n",
              "        vertical-align: top;\n",
              "    }\n",
              "\n",
              "    .dataframe thead th {\n",
              "        text-align: right;\n",
              "    }\n",
              "</style>\n",
              "<table border=\"1\" class=\"dataframe\">\n",
              "  <thead>\n",
              "    <tr style=\"text-align: right;\">\n",
              "      <th></th>\n",
              "      <th>direct</th>\n",
              "      <th>0</th>\n",
              "      <th>1</th>\n",
              "    </tr>\n",
              "    <tr>\n",
              "      <th>past.purchase</th>\n",
              "      <th>email</th>\n",
              "      <th></th>\n",
              "      <th></th>\n",
              "    </tr>\n",
              "  </thead>\n",
              "  <tbody>\n",
              "    <tr>\n",
              "      <th rowspan=\"2\" valign=\"top\">0</th>\n",
              "      <th>0</th>\n",
              "      <td>2775</td>\n",
              "      <td>707</td>\n",
              "    </tr>\n",
              "    <tr>\n",
              "      <th>1</th>\n",
              "      <td>1205</td>\n",
              "      <td>291</td>\n",
              "    </tr>\n",
              "    <tr>\n",
              "      <th rowspan=\"2\" valign=\"top\">1</th>\n",
              "      <th>0</th>\n",
              "      <td>95</td>\n",
              "      <td>422</td>\n",
              "    </tr>\n",
              "    <tr>\n",
              "      <th>1</th>\n",
              "      <td>951</td>\n",
              "      <td>3554</td>\n",
              "    </tr>\n",
              "  </tbody>\n",
              "</table>\n",
              "</div>"
            ],
            "text/plain": [
              "direct                  0     1\n",
              "past.purchase email            \n",
              "0             0      2775   707\n",
              "              1      1205   291\n",
              "1             0        95   422\n",
              "              1       951  3554"
            ]
          },
          "metadata": {
            "tags": []
          },
          "execution_count": 65
        }
      ]
    },
    {
      "metadata": {
        "colab_type": "text",
        "id": "1l1QEB6WwJqs"
      },
      "cell_type": "markdown",
      "source": [
        "1. Most customers who have not made a purchase are not eligible for email or direct mail.\n",
        "2. Customers who have made a purchase are more likely to be eligible."
      ]
    },
    {
      "metadata": {
        "colab_type": "text",
        "id": "_dIqtqYqR4lu"
      },
      "cell_type": "markdown",
      "source": [
        "## 1.2 Impression Dataset"
      ]
    },
    {
      "metadata": {
        "colab_type": "code",
        "id": "y_iJ2Kk7QkfH",
        "outputId": "e5bdbfb2-710a-479c-92b0-beae6a13474f",
        "colab": {
          "base_uri": "https://localhost:8080/",
          "height": 202
        }
      },
      "cell_type": "code",
      "source": [
        "# read impression data, in which each row in the file represents an exposure of one customer to an ad, i.e. an impression.\n",
        "impress = pd.read_csv(\"https://goo.gl/74qIxy\")\n",
        "impress.head()"
      ],
      "execution_count": 0,
      "outputs": [
        {
          "output_type": "execute_result",
          "data": {
            "text/html": [
              "<div>\n",
              "<style scoped>\n",
              "    .dataframe tbody tr th:only-of-type {\n",
              "        vertical-align: middle;\n",
              "    }\n",
              "\n",
              "    .dataframe tbody tr th {\n",
              "        vertical-align: top;\n",
              "    }\n",
              "\n",
              "    .dataframe thead th {\n",
              "        text-align: right;\n",
              "    }\n",
              "</style>\n",
              "<table border=\"1\" class=\"dataframe\">\n",
              "  <thead>\n",
              "    <tr style=\"text-align: right;\">\n",
              "      <th></th>\n",
              "      <th>id</th>\n",
              "      <th>date</th>\n",
              "      <th>channel</th>\n",
              "      <th>click</th>\n",
              "    </tr>\n",
              "  </thead>\n",
              "  <tbody>\n",
              "    <tr>\n",
              "      <th>0</th>\n",
              "      <td>1</td>\n",
              "      <td>2017-01-06</td>\n",
              "      <td>direct</td>\n",
              "      <td>0</td>\n",
              "    </tr>\n",
              "    <tr>\n",
              "      <th>1</th>\n",
              "      <td>1</td>\n",
              "      <td>2017-02-03</td>\n",
              "      <td>direct</td>\n",
              "      <td>0</td>\n",
              "    </tr>\n",
              "    <tr>\n",
              "      <th>2</th>\n",
              "      <td>1</td>\n",
              "      <td>2017-01-01</td>\n",
              "      <td>social</td>\n",
              "      <td>0</td>\n",
              "    </tr>\n",
              "    <tr>\n",
              "      <th>3</th>\n",
              "      <td>1</td>\n",
              "      <td>2017-01-02</td>\n",
              "      <td>social</td>\n",
              "      <td>0</td>\n",
              "    </tr>\n",
              "    <tr>\n",
              "      <th>4</th>\n",
              "      <td>1</td>\n",
              "      <td>2017-01-05</td>\n",
              "      <td>social</td>\n",
              "      <td>0</td>\n",
              "    </tr>\n",
              "  </tbody>\n",
              "</table>\n",
              "</div>"
            ],
            "text/plain": [
              "   id        date channel  click\n",
              "0   1  2017-01-06  direct      0\n",
              "1   1  2017-02-03  direct      0\n",
              "2   1  2017-01-01  social      0\n",
              "3   1  2017-01-02  social      0\n",
              "4   1  2017-01-05  social      0"
            ]
          },
          "metadata": {
            "tags": []
          },
          "execution_count": 66
        }
      ]
    },
    {
      "metadata": {
        "colab_type": "text",
        "id": "8gg1hD2dwJq-"
      },
      "cell_type": "markdown",
      "source": [
        "1. **id:** id number for the customer.\n",
        "2. **date:** date of impression. \n",
        "3. **channel:** channel of the ad exposure.\n",
        "4. **click:** indicates whether the customer clicked on the ad."
      ]
    },
    {
      "metadata": {
        "colab_type": "code",
        "id": "PC5yRZAfRWZt",
        "colab": {}
      },
      "cell_type": "code",
      "source": [
        "# Change data type.\n",
        "impress[\"date\"] = pd.to_datetime(impress[\"date\"])"
      ],
      "execution_count": 0,
      "outputs": []
    },
    {
      "metadata": {
        "colab_type": "code",
        "id": "dEd_yiNZRmm_",
        "outputId": "e3bfc8e9-0877-4bb2-c1b3-5776cf7f9028",
        "colab": {
          "base_uri": "https://localhost:8080/",
          "height": 52
        }
      },
      "cell_type": "code",
      "source": [
        "rows = impress.shape[0]\n",
        "columns = impress.shape[1]\n",
        "print(\"Number of row is \", rows)\n",
        "print(\"Number of column is \", columns)"
      ],
      "execution_count": 0,
      "outputs": [
        {
          "output_type": "stream",
          "text": [
            "Number of row is  501336\n",
            "Number of column is  4\n"
          ],
          "name": "stdout"
        }
      ]
    },
    {
      "metadata": {
        "colab_type": "code",
        "id": "FdyWjHjFRqJH",
        "outputId": "dea65bfe-2344-45fd-db94-55a94d0e9940",
        "colab": {
          "base_uri": "https://localhost:8080/",
          "height": 294
        }
      },
      "cell_type": "code",
      "source": [
        "# Display summary info of all numerical features.\n",
        "impress.describe()"
      ],
      "execution_count": 0,
      "outputs": [
        {
          "output_type": "execute_result",
          "data": {
            "text/html": [
              "<div>\n",
              "<style scoped>\n",
              "    .dataframe tbody tr th:only-of-type {\n",
              "        vertical-align: middle;\n",
              "    }\n",
              "\n",
              "    .dataframe tbody tr th {\n",
              "        vertical-align: top;\n",
              "    }\n",
              "\n",
              "    .dataframe thead th {\n",
              "        text-align: right;\n",
              "    }\n",
              "</style>\n",
              "<table border=\"1\" class=\"dataframe\">\n",
              "  <thead>\n",
              "    <tr style=\"text-align: right;\">\n",
              "      <th></th>\n",
              "      <th>id</th>\n",
              "      <th>click</th>\n",
              "    </tr>\n",
              "  </thead>\n",
              "  <tbody>\n",
              "    <tr>\n",
              "      <th>count</th>\n",
              "      <td>501336.000000</td>\n",
              "      <td>501336.000000</td>\n",
              "    </tr>\n",
              "    <tr>\n",
              "      <th>mean</th>\n",
              "      <td>4959.637768</td>\n",
              "      <td>0.018542</td>\n",
              "    </tr>\n",
              "    <tr>\n",
              "      <th>std</th>\n",
              "      <td>2887.109474</td>\n",
              "      <td>0.134902</td>\n",
              "    </tr>\n",
              "    <tr>\n",
              "      <th>min</th>\n",
              "      <td>1.000000</td>\n",
              "      <td>0.000000</td>\n",
              "    </tr>\n",
              "    <tr>\n",
              "      <th>25%</th>\n",
              "      <td>2467.000000</td>\n",
              "      <td>0.000000</td>\n",
              "    </tr>\n",
              "    <tr>\n",
              "      <th>50%</th>\n",
              "      <td>4940.000000</td>\n",
              "      <td>0.000000</td>\n",
              "    </tr>\n",
              "    <tr>\n",
              "      <th>75%</th>\n",
              "      <td>7454.000000</td>\n",
              "      <td>0.000000</td>\n",
              "    </tr>\n",
              "    <tr>\n",
              "      <th>max</th>\n",
              "      <td>10000.000000</td>\n",
              "      <td>1.000000</td>\n",
              "    </tr>\n",
              "  </tbody>\n",
              "</table>\n",
              "</div>"
            ],
            "text/plain": [
              "                  id          click\n",
              "count  501336.000000  501336.000000\n",
              "mean     4959.637768       0.018542\n",
              "std      2887.109474       0.134902\n",
              "min         1.000000       0.000000\n",
              "25%      2467.000000       0.000000\n",
              "50%      4940.000000       0.000000\n",
              "75%      7454.000000       0.000000\n",
              "max     10000.000000       1.000000"
            ]
          },
          "metadata": {
            "tags": []
          },
          "execution_count": 69
        }
      ]
    },
    {
      "metadata": {
        "colab_type": "text",
        "id": "B5z7pSVgwJrn"
      },
      "cell_type": "markdown",
      "source": [
        "We have 501,336 impressions between 2016-12-31 to 2017-02-27. Overall click rate is 1.85%, which is reasonable."
      ]
    },
    {
      "metadata": {
        "colab_type": "code",
        "id": "vaIiagV-Rv2z",
        "outputId": "9f2c8bf5-1f57-46c8-d8a0-18287aefcaba",
        "colab": {
          "base_uri": "https://localhost:8080/",
          "height": 139
        }
      },
      "cell_type": "code",
      "source": [
        "impress[\"date\"].describe()"
      ],
      "execution_count": 0,
      "outputs": [
        {
          "output_type": "execute_result",
          "data": {
            "text/plain": [
              "count                  501336\n",
              "unique                     59\n",
              "top       2017-01-10 00:00:00\n",
              "freq                    17281\n",
              "first     2016-12-31 00:00:00\n",
              "last      2017-02-27 00:00:00\n",
              "Name: date, dtype: object"
            ]
          },
          "metadata": {
            "tags": []
          },
          "execution_count": 70
        }
      ]
    },
    {
      "metadata": {
        "colab_type": "text",
        "id": "ADegF6pewJr6"
      },
      "cell_type": "markdown",
      "source": [
        "We have 501,336 impressions between 2016-12-31 to 2017-02-27. "
      ]
    },
    {
      "metadata": {
        "colab_type": "code",
        "id": "sbAntlAaSr2Y",
        "outputId": "1e824bc2-b803-44ba-b699-90184fc68aba",
        "colab": {
          "base_uri": "https://localhost:8080/",
          "height": 121
        }
      },
      "cell_type": "code",
      "source": [
        "impress[\"channel\"].value_counts()"
      ],
      "execution_count": 0,
      "outputs": [
        {
          "output_type": "execute_result",
          "data": {
            "text/plain": [
              "social           227009\n",
              "display          216371\n",
              "email             38426\n",
              "direct             9948\n",
              "email.holdout      9582\n",
              "Name: channel, dtype: int64"
            ]
          },
          "metadata": {
            "tags": []
          },
          "execution_count": 71
        }
      ]
    },
    {
      "metadata": {
        "colab_type": "text",
        "id": "Uenf_hF6wJsU"
      },
      "cell_type": "markdown",
      "source": [
        "The majority of these impressions are social or display. "
      ]
    },
    {
      "metadata": {
        "colab_type": "text",
        "id": "bOZrM8HLwJsY"
      },
      "cell_type": "markdown",
      "source": [
        "### 1.2.1 Visualizing the Cadence for Impression data\n",
        "Cadence is the timing of advertising impressions. It is useful to understand the cadence of your \n",
        "ads before you do any other analysis. Email and direct are often sent out to users on specific dates."
      ]
    },
    {
      "metadata": {
        "colab_type": "code",
        "id": "yOz1-A4STAjt",
        "outputId": "55dfe844-edc7-41eb-bd59-930f8274a309",
        "scrolled": true,
        "colab": {
          "base_uri": "https://localhost:8080/",
          "height": 1889
        }
      },
      "cell_type": "code",
      "source": [
        "cadence = pd.crosstab(index=impress['date'], columns=impress['channel'])\n",
        "cadence.head()"
      ],
      "execution_count": 0,
      "outputs": [
        {
          "output_type": "execute_result",
          "data": {
            "text/html": [
              "<div>\n",
              "<style scoped>\n",
              "    .dataframe tbody tr th:only-of-type {\n",
              "        vertical-align: middle;\n",
              "    }\n",
              "\n",
              "    .dataframe tbody tr th {\n",
              "        vertical-align: top;\n",
              "    }\n",
              "\n",
              "    .dataframe thead th {\n",
              "        text-align: right;\n",
              "    }\n",
              "</style>\n",
              "<table border=\"1\" class=\"dataframe\">\n",
              "  <thead>\n",
              "    <tr style=\"text-align: right;\">\n",
              "      <th>channel</th>\n",
              "      <th>direct</th>\n",
              "      <th>display</th>\n",
              "      <th>email</th>\n",
              "      <th>email.holdout</th>\n",
              "      <th>social</th>\n",
              "    </tr>\n",
              "    <tr>\n",
              "      <th>date</th>\n",
              "      <th></th>\n",
              "      <th></th>\n",
              "      <th></th>\n",
              "      <th></th>\n",
              "      <th></th>\n",
              "    </tr>\n",
              "  </thead>\n",
              "  <tbody>\n",
              "    <tr>\n",
              "      <th>2016-12-31</th>\n",
              "      <td>0</td>\n",
              "      <td>788</td>\n",
              "      <td>0</td>\n",
              "      <td>0</td>\n",
              "      <td>1610</td>\n",
              "    </tr>\n",
              "    <tr>\n",
              "      <th>2017-01-01</th>\n",
              "      <td>0</td>\n",
              "      <td>3786</td>\n",
              "      <td>0</td>\n",
              "      <td>0</td>\n",
              "      <td>7481</td>\n",
              "    </tr>\n",
              "    <tr>\n",
              "      <th>2017-01-02</th>\n",
              "      <td>0</td>\n",
              "      <td>3792</td>\n",
              "      <td>0</td>\n",
              "      <td>0</td>\n",
              "      <td>7416</td>\n",
              "    </tr>\n",
              "    <tr>\n",
              "      <th>2017-01-03</th>\n",
              "      <td>0</td>\n",
              "      <td>3656</td>\n",
              "      <td>4798</td>\n",
              "      <td>1203</td>\n",
              "      <td>7505</td>\n",
              "    </tr>\n",
              "    <tr>\n",
              "      <th>2017-01-04</th>\n",
              "      <td>0</td>\n",
              "      <td>3731</td>\n",
              "      <td>0</td>\n",
              "      <td>0</td>\n",
              "      <td>7648</td>\n",
              "    </tr>\n",
              "  </tbody>\n",
              "</table>\n",
              "</div>"
            ],
            "text/plain": [
              "channel     direct  display  email  email.holdout  social\n",
              "date                                                     \n",
              "2016-12-31       0      788      0              0    1610\n",
              "2017-01-01       0     3786      0              0    7481\n",
              "2017-01-02       0     3792      0              0    7416\n",
              "2017-01-03       0     3656   4798           1203    7505\n",
              "2017-01-04       0     3731      0              0    7648"
            ]
          },
          "metadata": {
            "tags": []
          },
          "execution_count": 72
        }
      ]
    },
    {
      "metadata": {
        "colab_type": "code",
        "id": "GB504-LEwJso",
        "outputId": "9d4429f6-b4f6-4b7b-dc17-52ca496d5f26",
        "scrolled": true,
        "colab": {}
      },
      "cell_type": "code",
      "source": [
        "cadence"
      ],
      "execution_count": 0,
      "outputs": [
        {
          "output_type": "execute_result",
          "data": {
            "text/html": [
              "<div>\n",
              "<style scoped>\n",
              "    .dataframe tbody tr th:only-of-type {\n",
              "        vertical-align: middle;\n",
              "    }\n",
              "\n",
              "    .dataframe tbody tr th {\n",
              "        vertical-align: top;\n",
              "    }\n",
              "\n",
              "    .dataframe thead th {\n",
              "        text-align: right;\n",
              "    }\n",
              "</style>\n",
              "<table border=\"1\" class=\"dataframe\">\n",
              "  <thead>\n",
              "    <tr style=\"text-align: right;\">\n",
              "      <th>channel</th>\n",
              "      <th>direct</th>\n",
              "      <th>display</th>\n",
              "      <th>email</th>\n",
              "      <th>email.holdout</th>\n",
              "      <th>social</th>\n",
              "    </tr>\n",
              "    <tr>\n",
              "      <th>date</th>\n",
              "      <th></th>\n",
              "      <th></th>\n",
              "      <th></th>\n",
              "      <th></th>\n",
              "      <th></th>\n",
              "    </tr>\n",
              "  </thead>\n",
              "  <tbody>\n",
              "    <tr>\n",
              "      <th>2016-12-31</th>\n",
              "      <td>0</td>\n",
              "      <td>788</td>\n",
              "      <td>0</td>\n",
              "      <td>0</td>\n",
              "      <td>1610</td>\n",
              "    </tr>\n",
              "    <tr>\n",
              "      <th>2017-01-01</th>\n",
              "      <td>0</td>\n",
              "      <td>3786</td>\n",
              "      <td>0</td>\n",
              "      <td>0</td>\n",
              "      <td>7481</td>\n",
              "    </tr>\n",
              "    <tr>\n",
              "      <th>2017-01-02</th>\n",
              "      <td>0</td>\n",
              "      <td>3792</td>\n",
              "      <td>0</td>\n",
              "      <td>0</td>\n",
              "      <td>7416</td>\n",
              "    </tr>\n",
              "    <tr>\n",
              "      <th>2017-01-03</th>\n",
              "      <td>0</td>\n",
              "      <td>3656</td>\n",
              "      <td>4798</td>\n",
              "      <td>1203</td>\n",
              "      <td>7505</td>\n",
              "    </tr>\n",
              "    <tr>\n",
              "      <th>2017-01-04</th>\n",
              "      <td>0</td>\n",
              "      <td>3731</td>\n",
              "      <td>0</td>\n",
              "      <td>0</td>\n",
              "      <td>7648</td>\n",
              "    </tr>\n",
              "    <tr>\n",
              "      <th>2017-01-05</th>\n",
              "      <td>0</td>\n",
              "      <td>3770</td>\n",
              "      <td>0</td>\n",
              "      <td>0</td>\n",
              "      <td>7620</td>\n",
              "    </tr>\n",
              "    <tr>\n",
              "      <th>2017-01-06</th>\n",
              "      <td>4974</td>\n",
              "      <td>3611</td>\n",
              "      <td>0</td>\n",
              "      <td>0</td>\n",
              "      <td>7614</td>\n",
              "    </tr>\n",
              "    <tr>\n",
              "      <th>2017-01-07</th>\n",
              "      <td>0</td>\n",
              "      <td>3719</td>\n",
              "      <td>0</td>\n",
              "      <td>0</td>\n",
              "      <td>7552</td>\n",
              "    </tr>\n",
              "    <tr>\n",
              "      <th>2017-01-08</th>\n",
              "      <td>0</td>\n",
              "      <td>3780</td>\n",
              "      <td>0</td>\n",
              "      <td>0</td>\n",
              "      <td>7504</td>\n",
              "    </tr>\n",
              "    <tr>\n",
              "      <th>2017-01-09</th>\n",
              "      <td>0</td>\n",
              "      <td>3744</td>\n",
              "      <td>0</td>\n",
              "      <td>0</td>\n",
              "      <td>7446</td>\n",
              "    </tr>\n",
              "    <tr>\n",
              "      <th>2017-01-10</th>\n",
              "      <td>0</td>\n",
              "      <td>3685</td>\n",
              "      <td>4765</td>\n",
              "      <td>1236</td>\n",
              "      <td>7595</td>\n",
              "    </tr>\n",
              "    <tr>\n",
              "      <th>2017-01-11</th>\n",
              "      <td>0</td>\n",
              "      <td>3689</td>\n",
              "      <td>0</td>\n",
              "      <td>0</td>\n",
              "      <td>7626</td>\n",
              "    </tr>\n",
              "    <tr>\n",
              "      <th>2017-01-12</th>\n",
              "      <td>0</td>\n",
              "      <td>3712</td>\n",
              "      <td>0</td>\n",
              "      <td>0</td>\n",
              "      <td>7544</td>\n",
              "    </tr>\n",
              "    <tr>\n",
              "      <th>2017-01-13</th>\n",
              "      <td>0</td>\n",
              "      <td>3662</td>\n",
              "      <td>0</td>\n",
              "      <td>0</td>\n",
              "      <td>7579</td>\n",
              "    </tr>\n",
              "    <tr>\n",
              "      <th>2017-01-14</th>\n",
              "      <td>0</td>\n",
              "      <td>3707</td>\n",
              "      <td>0</td>\n",
              "      <td>0</td>\n",
              "      <td>7649</td>\n",
              "    </tr>\n",
              "    <tr>\n",
              "      <th>2017-01-15</th>\n",
              "      <td>0</td>\n",
              "      <td>3724</td>\n",
              "      <td>0</td>\n",
              "      <td>0</td>\n",
              "      <td>7640</td>\n",
              "    </tr>\n",
              "    <tr>\n",
              "      <th>2017-01-16</th>\n",
              "      <td>0</td>\n",
              "      <td>3727</td>\n",
              "      <td>0</td>\n",
              "      <td>0</td>\n",
              "      <td>7575</td>\n",
              "    </tr>\n",
              "    <tr>\n",
              "      <th>2017-01-17</th>\n",
              "      <td>0</td>\n",
              "      <td>3775</td>\n",
              "      <td>4808</td>\n",
              "      <td>1193</td>\n",
              "      <td>7394</td>\n",
              "    </tr>\n",
              "    <tr>\n",
              "      <th>2017-01-18</th>\n",
              "      <td>0</td>\n",
              "      <td>3732</td>\n",
              "      <td>0</td>\n",
              "      <td>0</td>\n",
              "      <td>7572</td>\n",
              "    </tr>\n",
              "    <tr>\n",
              "      <th>2017-01-19</th>\n",
              "      <td>0</td>\n",
              "      <td>3702</td>\n",
              "      <td>0</td>\n",
              "      <td>0</td>\n",
              "      <td>7576</td>\n",
              "    </tr>\n",
              "    <tr>\n",
              "      <th>2017-01-20</th>\n",
              "      <td>0</td>\n",
              "      <td>3692</td>\n",
              "      <td>0</td>\n",
              "      <td>0</td>\n",
              "      <td>7703</td>\n",
              "    </tr>\n",
              "    <tr>\n",
              "      <th>2017-01-21</th>\n",
              "      <td>0</td>\n",
              "      <td>3724</td>\n",
              "      <td>0</td>\n",
              "      <td>0</td>\n",
              "      <td>7366</td>\n",
              "    </tr>\n",
              "    <tr>\n",
              "      <th>2017-01-22</th>\n",
              "      <td>0</td>\n",
              "      <td>3845</td>\n",
              "      <td>0</td>\n",
              "      <td>0</td>\n",
              "      <td>7767</td>\n",
              "    </tr>\n",
              "    <tr>\n",
              "      <th>2017-01-23</th>\n",
              "      <td>0</td>\n",
              "      <td>3687</td>\n",
              "      <td>0</td>\n",
              "      <td>0</td>\n",
              "      <td>7557</td>\n",
              "    </tr>\n",
              "    <tr>\n",
              "      <th>2017-01-24</th>\n",
              "      <td>0</td>\n",
              "      <td>3745</td>\n",
              "      <td>4797</td>\n",
              "      <td>1204</td>\n",
              "      <td>7387</td>\n",
              "    </tr>\n",
              "    <tr>\n",
              "      <th>2017-01-25</th>\n",
              "      <td>0</td>\n",
              "      <td>3859</td>\n",
              "      <td>0</td>\n",
              "      <td>0</td>\n",
              "      <td>7698</td>\n",
              "    </tr>\n",
              "    <tr>\n",
              "      <th>2017-01-26</th>\n",
              "      <td>0</td>\n",
              "      <td>3749</td>\n",
              "      <td>0</td>\n",
              "      <td>0</td>\n",
              "      <td>7469</td>\n",
              "    </tr>\n",
              "    <tr>\n",
              "      <th>2017-01-27</th>\n",
              "      <td>0</td>\n",
              "      <td>3899</td>\n",
              "      <td>0</td>\n",
              "      <td>0</td>\n",
              "      <td>7580</td>\n",
              "    </tr>\n",
              "    <tr>\n",
              "      <th>2017-01-28</th>\n",
              "      <td>0</td>\n",
              "      <td>3730</td>\n",
              "      <td>0</td>\n",
              "      <td>0</td>\n",
              "      <td>7624</td>\n",
              "    </tr>\n",
              "    <tr>\n",
              "      <th>2017-01-29</th>\n",
              "      <td>0</td>\n",
              "      <td>3747</td>\n",
              "      <td>0</td>\n",
              "      <td>0</td>\n",
              "      <td>7629</td>\n",
              "    </tr>\n",
              "    <tr>\n",
              "      <th>2017-01-30</th>\n",
              "      <td>0</td>\n",
              "      <td>3763</td>\n",
              "      <td>0</td>\n",
              "      <td>0</td>\n",
              "      <td>6083</td>\n",
              "    </tr>\n",
              "    <tr>\n",
              "      <th>2017-01-31</th>\n",
              "      <td>0</td>\n",
              "      <td>3760</td>\n",
              "      <td>4829</td>\n",
              "      <td>1172</td>\n",
              "      <td>0</td>\n",
              "    </tr>\n",
              "    <tr>\n",
              "      <th>2017-02-01</th>\n",
              "      <td>0</td>\n",
              "      <td>3752</td>\n",
              "      <td>0</td>\n",
              "      <td>0</td>\n",
              "      <td>0</td>\n",
              "    </tr>\n",
              "    <tr>\n",
              "      <th>2017-02-02</th>\n",
              "      <td>0</td>\n",
              "      <td>3742</td>\n",
              "      <td>0</td>\n",
              "      <td>0</td>\n",
              "      <td>0</td>\n",
              "    </tr>\n",
              "    <tr>\n",
              "      <th>2017-02-03</th>\n",
              "      <td>4974</td>\n",
              "      <td>3725</td>\n",
              "      <td>0</td>\n",
              "      <td>0</td>\n",
              "      <td>0</td>\n",
              "    </tr>\n",
              "    <tr>\n",
              "      <th>2017-02-04</th>\n",
              "      <td>0</td>\n",
              "      <td>3698</td>\n",
              "      <td>0</td>\n",
              "      <td>0</td>\n",
              "      <td>0</td>\n",
              "    </tr>\n",
              "    <tr>\n",
              "      <th>2017-02-05</th>\n",
              "      <td>0</td>\n",
              "      <td>3739</td>\n",
              "      <td>0</td>\n",
              "      <td>0</td>\n",
              "      <td>0</td>\n",
              "    </tr>\n",
              "    <tr>\n",
              "      <th>2017-02-06</th>\n",
              "      <td>0</td>\n",
              "      <td>3693</td>\n",
              "      <td>0</td>\n",
              "      <td>0</td>\n",
              "      <td>0</td>\n",
              "    </tr>\n",
              "    <tr>\n",
              "      <th>2017-02-07</th>\n",
              "      <td>0</td>\n",
              "      <td>3736</td>\n",
              "      <td>4800</td>\n",
              "      <td>1201</td>\n",
              "      <td>0</td>\n",
              "    </tr>\n",
              "    <tr>\n",
              "      <th>2017-02-08</th>\n",
              "      <td>0</td>\n",
              "      <td>3712</td>\n",
              "      <td>0</td>\n",
              "      <td>0</td>\n",
              "      <td>0</td>\n",
              "    </tr>\n",
              "    <tr>\n",
              "      <th>2017-02-09</th>\n",
              "      <td>0</td>\n",
              "      <td>3825</td>\n",
              "      <td>0</td>\n",
              "      <td>0</td>\n",
              "      <td>0</td>\n",
              "    </tr>\n",
              "    <tr>\n",
              "      <th>2017-02-10</th>\n",
              "      <td>0</td>\n",
              "      <td>3739</td>\n",
              "      <td>0</td>\n",
              "      <td>0</td>\n",
              "      <td>0</td>\n",
              "    </tr>\n",
              "    <tr>\n",
              "      <th>2017-02-11</th>\n",
              "      <td>0</td>\n",
              "      <td>3788</td>\n",
              "      <td>0</td>\n",
              "      <td>0</td>\n",
              "      <td>0</td>\n",
              "    </tr>\n",
              "    <tr>\n",
              "      <th>2017-02-12</th>\n",
              "      <td>0</td>\n",
              "      <td>3737</td>\n",
              "      <td>0</td>\n",
              "      <td>0</td>\n",
              "      <td>0</td>\n",
              "    </tr>\n",
              "    <tr>\n",
              "      <th>2017-02-13</th>\n",
              "      <td>0</td>\n",
              "      <td>3678</td>\n",
              "      <td>0</td>\n",
              "      <td>0</td>\n",
              "      <td>0</td>\n",
              "    </tr>\n",
              "    <tr>\n",
              "      <th>2017-02-14</th>\n",
              "      <td>0</td>\n",
              "      <td>3699</td>\n",
              "      <td>4837</td>\n",
              "      <td>1164</td>\n",
              "      <td>0</td>\n",
              "    </tr>\n",
              "    <tr>\n",
              "      <th>2017-02-15</th>\n",
              "      <td>0</td>\n",
              "      <td>3709</td>\n",
              "      <td>0</td>\n",
              "      <td>0</td>\n",
              "      <td>0</td>\n",
              "    </tr>\n",
              "    <tr>\n",
              "      <th>2017-02-16</th>\n",
              "      <td>0</td>\n",
              "      <td>3763</td>\n",
              "      <td>0</td>\n",
              "      <td>0</td>\n",
              "      <td>0</td>\n",
              "    </tr>\n",
              "    <tr>\n",
              "      <th>2017-02-17</th>\n",
              "      <td>0</td>\n",
              "      <td>3741</td>\n",
              "      <td>0</td>\n",
              "      <td>0</td>\n",
              "      <td>0</td>\n",
              "    </tr>\n",
              "    <tr>\n",
              "      <th>2017-02-18</th>\n",
              "      <td>0</td>\n",
              "      <td>3664</td>\n",
              "      <td>0</td>\n",
              "      <td>0</td>\n",
              "      <td>0</td>\n",
              "    </tr>\n",
              "    <tr>\n",
              "      <th>2017-02-19</th>\n",
              "      <td>0</td>\n",
              "      <td>3772</td>\n",
              "      <td>0</td>\n",
              "      <td>0</td>\n",
              "      <td>0</td>\n",
              "    </tr>\n",
              "    <tr>\n",
              "      <th>2017-02-20</th>\n",
              "      <td>0</td>\n",
              "      <td>3665</td>\n",
              "      <td>0</td>\n",
              "      <td>0</td>\n",
              "      <td>0</td>\n",
              "    </tr>\n",
              "    <tr>\n",
              "      <th>2017-02-21</th>\n",
              "      <td>0</td>\n",
              "      <td>3723</td>\n",
              "      <td>4792</td>\n",
              "      <td>1209</td>\n",
              "      <td>0</td>\n",
              "    </tr>\n",
              "    <tr>\n",
              "      <th>2017-02-22</th>\n",
              "      <td>0</td>\n",
              "      <td>3722</td>\n",
              "      <td>0</td>\n",
              "      <td>0</td>\n",
              "      <td>0</td>\n",
              "    </tr>\n",
              "    <tr>\n",
              "      <th>2017-02-23</th>\n",
              "      <td>0</td>\n",
              "      <td>3654</td>\n",
              "      <td>0</td>\n",
              "      <td>0</td>\n",
              "      <td>0</td>\n",
              "    </tr>\n",
              "    <tr>\n",
              "      <th>2017-02-24</th>\n",
              "      <td>0</td>\n",
              "      <td>3685</td>\n",
              "      <td>0</td>\n",
              "      <td>0</td>\n",
              "      <td>0</td>\n",
              "    </tr>\n",
              "    <tr>\n",
              "      <th>2017-02-25</th>\n",
              "      <td>0</td>\n",
              "      <td>3695</td>\n",
              "      <td>0</td>\n",
              "      <td>0</td>\n",
              "      <td>0</td>\n",
              "    </tr>\n",
              "    <tr>\n",
              "      <th>2017-02-26</th>\n",
              "      <td>0</td>\n",
              "      <td>3712</td>\n",
              "      <td>0</td>\n",
              "      <td>0</td>\n",
              "      <td>0</td>\n",
              "    </tr>\n",
              "    <tr>\n",
              "      <th>2017-02-27</th>\n",
              "      <td>0</td>\n",
              "      <td>2911</td>\n",
              "      <td>0</td>\n",
              "      <td>0</td>\n",
              "      <td>0</td>\n",
              "    </tr>\n",
              "  </tbody>\n",
              "</table>\n",
              "</div>"
            ],
            "text/plain": [
              "channel     direct  display  email  email.holdout  social\n",
              "date                                                     \n",
              "2016-12-31       0      788      0              0    1610\n",
              "2017-01-01       0     3786      0              0    7481\n",
              "2017-01-02       0     3792      0              0    7416\n",
              "2017-01-03       0     3656   4798           1203    7505\n",
              "2017-01-04       0     3731      0              0    7648\n",
              "2017-01-05       0     3770      0              0    7620\n",
              "2017-01-06    4974     3611      0              0    7614\n",
              "2017-01-07       0     3719      0              0    7552\n",
              "2017-01-08       0     3780      0              0    7504\n",
              "2017-01-09       0     3744      0              0    7446\n",
              "2017-01-10       0     3685   4765           1236    7595\n",
              "2017-01-11       0     3689      0              0    7626\n",
              "2017-01-12       0     3712      0              0    7544\n",
              "2017-01-13       0     3662      0              0    7579\n",
              "2017-01-14       0     3707      0              0    7649\n",
              "2017-01-15       0     3724      0              0    7640\n",
              "2017-01-16       0     3727      0              0    7575\n",
              "2017-01-17       0     3775   4808           1193    7394\n",
              "2017-01-18       0     3732      0              0    7572\n",
              "2017-01-19       0     3702      0              0    7576\n",
              "2017-01-20       0     3692      0              0    7703\n",
              "2017-01-21       0     3724      0              0    7366\n",
              "2017-01-22       0     3845      0              0    7767\n",
              "2017-01-23       0     3687      0              0    7557\n",
              "2017-01-24       0     3745   4797           1204    7387\n",
              "2017-01-25       0     3859      0              0    7698\n",
              "2017-01-26       0     3749      0              0    7469\n",
              "2017-01-27       0     3899      0              0    7580\n",
              "2017-01-28       0     3730      0              0    7624\n",
              "2017-01-29       0     3747      0              0    7629\n",
              "2017-01-30       0     3763      0              0    6083\n",
              "2017-01-31       0     3760   4829           1172       0\n",
              "2017-02-01       0     3752      0              0       0\n",
              "2017-02-02       0     3742      0              0       0\n",
              "2017-02-03    4974     3725      0              0       0\n",
              "2017-02-04       0     3698      0              0       0\n",
              "2017-02-05       0     3739      0              0       0\n",
              "2017-02-06       0     3693      0              0       0\n",
              "2017-02-07       0     3736   4800           1201       0\n",
              "2017-02-08       0     3712      0              0       0\n",
              "2017-02-09       0     3825      0              0       0\n",
              "2017-02-10       0     3739      0              0       0\n",
              "2017-02-11       0     3788      0              0       0\n",
              "2017-02-12       0     3737      0              0       0\n",
              "2017-02-13       0     3678      0              0       0\n",
              "2017-02-14       0     3699   4837           1164       0\n",
              "2017-02-15       0     3709      0              0       0\n",
              "2017-02-16       0     3763      0              0       0\n",
              "2017-02-17       0     3741      0              0       0\n",
              "2017-02-18       0     3664      0              0       0\n",
              "2017-02-19       0     3772      0              0       0\n",
              "2017-02-20       0     3665      0              0       0\n",
              "2017-02-21       0     3723   4792           1209       0\n",
              "2017-02-22       0     3722      0              0       0\n",
              "2017-02-23       0     3654      0              0       0\n",
              "2017-02-24       0     3685      0              0       0\n",
              "2017-02-25       0     3695      0              0       0\n",
              "2017-02-26       0     3712      0              0       0\n",
              "2017-02-27       0     2911      0              0       0"
            ]
          },
          "metadata": {
            "tags": []
          },
          "execution_count": 73
        }
      ]
    },
    {
      "metadata": {
        "colab_type": "code",
        "id": "xK9GJvEVTTKR",
        "outputId": "94e15090-812c-4623-a37c-f586be620ea9",
        "colab": {
          "base_uri": "https://localhost:8080/",
          "height": 321
        }
      },
      "cell_type": "code",
      "source": [
        "# Visualizing the cadence.\n",
        "plt.figure(figsize=(18,5))\n",
        "plt.bar(cadence.index, cadence['display'], label='display')\n",
        "plt.bar(cadence.index, cadence['social'], bottom=cadence['display'], label='social')\n",
        "plt.bar(cadence.index, cadence['direct'], \n",
        "        bottom=cadence['display']+cadence['social'], label='direct')\n",
        "plt.bar(cadence.index, cadence['email'], \n",
        "        bottom=cadence['display']+cadence['social']+cadence['direct'], \n",
        "        label='email')\n",
        "plt.bar(cadence.index, cadence['email.holdout'], \n",
        "        bottom=cadence['display']+cadence['social']+cadence['direct']+cadence['email'], \n",
        "        label='email.holdout')\n",
        "plt.ylabel('impressions')\n",
        "plt.legend()\n",
        "plt.show()"
      ],
      "execution_count": 0,
      "outputs": [
        {
          "output_type": "display_data",
          "data": {
            "image/png": "[encoded data removed]",
            "text/plain": [
              "<matplotlib.figure.Figure at 0x7fea671722b0>"
            ]
          },
          "metadata": {
            "tags": []
          }
        }
      ]
    },
    {
      "metadata": {
        "colab_type": "text",
        "id": "fMhda22EwJtA"
      },
      "cell_type": "markdown",
      "source": [
        "1. Display impressions per day are steady across the observation window.\n",
        "2. Social is steady in the first month and then stops.\n",
        "3. Emails are sent once per week and each campaign seems to have a holdout.\n",
        "4. Direct mail is sent once per month."
      ]
    },
    {
      "metadata": {
        "colab_type": "text",
        "id": "OKuSU9ojwJtC"
      },
      "cell_type": "markdown",
      "source": [
        "### 1.2.2 Histogram of Impressions\n",
        "It is also useful to understand how many impressions each customer gets."
      ]
    },
    {
      "metadata": {
        "colab_type": "code",
        "id": "KCpNaoqLT7xn",
        "outputId": "d555488b-6713-4114-ae8c-dbc51df00aa3",
        "colab": {
          "base_uri": "https://localhost:8080/",
          "height": 377
        }
      },
      "cell_type": "code",
      "source": [
        "# Histogram of impressions.\n",
        "plt.hist(impress.groupby('id').size())\n",
        "plt.xlabel('Impressions')\n",
        "plt.ylabel('Count of Users')\n",
        "plt.title('Histogram of Impressions per User')\n",
        "plt.show()"
      ],
      "execution_count": 0,
      "outputs": [
        {
          "output_type": "display_data",
          "data": {
            "image/png": "[encoded data removed]",
            "text/plain": [
              "<matplotlib.figure.Figure at 0x7fea6717e4e0>"
            ]
          },
          "metadata": {
            "tags": []
          }
        }
      ]
    },
    {
      "metadata": {
        "colab_type": "text",
        "id": "kG1zq-3ZwJtO"
      },
      "cell_type": "markdown",
      "source": [
        "Some customers receive as many as 400 impressions in two months, but most get less than 100 impressions."
      ]
    },
    {
      "metadata": {
        "colab_type": "text",
        "id": "iKe2vp3GwJtQ"
      },
      "cell_type": "markdown",
      "source": [
        "### 1.2.3 Click through rates by channel."
      ]
    },
    {
      "metadata": {
        "colab_type": "code",
        "id": "Xm5mKYhEVZPF",
        "outputId": "2a0b669c-5e96-447f-8e29-e9ac50c1cf2c",
        "colab": {
          "base_uri": "https://localhost:8080/",
          "height": 139
        }
      },
      "cell_type": "code",
      "source": [
        "(impress.groupby(['click', 'channel']).size()[1]/impress.groupby(['channel']).size()).fillna(0)"
      ],
      "execution_count": 0,
      "outputs": [
        {
          "output_type": "execute_result",
          "data": {
            "text/plain": [
              "channel\n",
              "direct           0.000000\n",
              "display          0.004783\n",
              "email            0.099672\n",
              "email.holdout    0.000000\n",
              "social           0.019519\n",
              "dtype: float64"
            ]
          },
          "metadata": {
            "tags": []
          },
          "execution_count": 76
        }
      ]
    },
    {
      "metadata": {
        "colab_type": "text",
        "id": "Pc08rxfUwJtj"
      },
      "cell_type": "markdown",
      "source": [
        "The click through rates are highest for email at **10.0%** and lowest for display at **0.5%**. As expected, there are no clicks for direct or email holdouts."
      ]
    },
    {
      "metadata": {
        "colab_type": "text",
        "id": "7y21VXe2V38F"
      },
      "cell_type": "markdown",
      "source": [
        "## 1.3 Transactions Dataset"
      ]
    },
    {
      "metadata": {
        "colab_type": "code",
        "id": "T0EX-g38VoRC",
        "outputId": "7274a3aa-ddeb-452c-a2c5-d8c4b2267546",
        "colab": {
          "base_uri": "https://localhost:8080/",
          "height": 202
        }
      },
      "cell_type": "code",
      "source": [
        "# read impression data, in which\n",
        "trans = pd.read_csv(\"https://goo.gl/lIAuZu\",index_col=0)\n",
        "trans.head()"
      ],
      "execution_count": 0,
      "outputs": [
        {
          "output_type": "execute_result",
          "data": {
            "text/html": [
              "<div>\n",
              "<style scoped>\n",
              "    .dataframe tbody tr th:only-of-type {\n",
              "        vertical-align: middle;\n",
              "    }\n",
              "\n",
              "    .dataframe tbody tr th {\n",
              "        vertical-align: top;\n",
              "    }\n",
              "\n",
              "    .dataframe thead th {\n",
              "        text-align: right;\n",
              "    }\n",
              "</style>\n",
              "<table border=\"1\" class=\"dataframe\">\n",
              "  <thead>\n",
              "    <tr style=\"text-align: right;\">\n",
              "      <th></th>\n",
              "      <th>id</th>\n",
              "      <th>date</th>\n",
              "      <th>last.touch</th>\n",
              "      <th>last.click</th>\n",
              "    </tr>\n",
              "  </thead>\n",
              "  <tbody>\n",
              "    <tr>\n",
              "      <th>1</th>\n",
              "      <td>2</td>\n",
              "      <td>2017-01-04</td>\n",
              "      <td>email</td>\n",
              "      <td>none</td>\n",
              "    </tr>\n",
              "    <tr>\n",
              "      <th>2</th>\n",
              "      <td>2</td>\n",
              "      <td>2017-02-12</td>\n",
              "      <td>email</td>\n",
              "      <td>none</td>\n",
              "    </tr>\n",
              "    <tr>\n",
              "      <th>3</th>\n",
              "      <td>3</td>\n",
              "      <td>2017-02-02</td>\n",
              "      <td>email</td>\n",
              "      <td>none</td>\n",
              "    </tr>\n",
              "    <tr>\n",
              "      <th>4</th>\n",
              "      <td>3</td>\n",
              "      <td>2017-02-14</td>\n",
              "      <td>email</td>\n",
              "      <td>none</td>\n",
              "    </tr>\n",
              "    <tr>\n",
              "      <th>5</th>\n",
              "      <td>5</td>\n",
              "      <td>2017-01-04</td>\n",
              "      <td>display</td>\n",
              "      <td>email</td>\n",
              "    </tr>\n",
              "  </tbody>\n",
              "</table>\n",
              "</div>"
            ],
            "text/plain": [
              "   id        date last.touch last.click\n",
              "1   2  2017-01-04      email       none\n",
              "2   2  2017-02-12      email       none\n",
              "3   3  2017-02-02      email       none\n",
              "4   3  2017-02-14      email       none\n",
              "5   5  2017-01-04    display      email"
            ]
          },
          "metadata": {
            "tags": []
          },
          "execution_count": 77
        }
      ]
    },
    {
      "metadata": {
        "colab_type": "text",
        "id": "8Hq0oHugwJtz"
      },
      "cell_type": "markdown",
      "source": [
        "1. **id:** id number for the customer\n",
        "2. **date:** date of transactions.\n",
        "3. **last.touch:** channel of the last ad impression the customer saw before the transaction\n",
        "4. **last.click:** channel of the last ad the customer clicked before the transaction"
      ]
    },
    {
      "metadata": {
        "colab_type": "code",
        "id": "GYCOBHU3WGSt",
        "colab": {}
      },
      "cell_type": "code",
      "source": [
        "# Change data type.\n",
        "trans['date'] = pd.to_datetime(trans['date'])"
      ],
      "execution_count": 0,
      "outputs": []
    },
    {
      "metadata": {
        "colab_type": "code",
        "id": "EO4WfRTEWPiQ",
        "outputId": "64534ddc-8ab6-41a9-d728-3786ceb4b509",
        "colab": {
          "base_uri": "https://localhost:8080/",
          "height": 52
        }
      },
      "cell_type": "code",
      "source": [
        "rows = trans.shape[0]\n",
        "columns = trans.shape[1]\n",
        "print(\"Number of row is \", rows)\n",
        "print(\"Number of column is \", columns)"
      ],
      "execution_count": 0,
      "outputs": [
        {
          "output_type": "stream",
          "text": [
            "Number of row is  22433\n",
            "Number of column is  4\n"
          ],
          "name": "stdout"
        }
      ]
    },
    {
      "metadata": {
        "colab_type": "code",
        "id": "XF72MXF_WpsE",
        "outputId": "04fa0038-50d3-4a5c-c57c-c2fb00ef6aaf",
        "colab": {
          "base_uri": "https://localhost:8080/",
          "height": 294
        }
      },
      "cell_type": "code",
      "source": [
        "# Display summary info of all numerical features.\n",
        "trans.describe()"
      ],
      "execution_count": 0,
      "outputs": [
        {
          "output_type": "execute_result",
          "data": {
            "text/html": [
              "<div>\n",
              "<style scoped>\n",
              "    .dataframe tbody tr th:only-of-type {\n",
              "        vertical-align: middle;\n",
              "    }\n",
              "\n",
              "    .dataframe tbody tr th {\n",
              "        vertical-align: top;\n",
              "    }\n",
              "\n",
              "    .dataframe thead th {\n",
              "        text-align: right;\n",
              "    }\n",
              "</style>\n",
              "<table border=\"1\" class=\"dataframe\">\n",
              "  <thead>\n",
              "    <tr style=\"text-align: right;\">\n",
              "      <th></th>\n",
              "      <th>id</th>\n",
              "    </tr>\n",
              "  </thead>\n",
              "  <tbody>\n",
              "    <tr>\n",
              "      <th>count</th>\n",
              "      <td>22433.000000</td>\n",
              "    </tr>\n",
              "    <tr>\n",
              "      <th>mean</th>\n",
              "      <td>4985.225516</td>\n",
              "    </tr>\n",
              "    <tr>\n",
              "      <th>std</th>\n",
              "      <td>2885.899132</td>\n",
              "    </tr>\n",
              "    <tr>\n",
              "      <th>min</th>\n",
              "      <td>2.000000</td>\n",
              "    </tr>\n",
              "    <tr>\n",
              "      <th>25%</th>\n",
              "      <td>2472.000000</td>\n",
              "    </tr>\n",
              "    <tr>\n",
              "      <th>50%</th>\n",
              "      <td>5005.000000</td>\n",
              "    </tr>\n",
              "    <tr>\n",
              "      <th>75%</th>\n",
              "      <td>7483.000000</td>\n",
              "    </tr>\n",
              "    <tr>\n",
              "      <th>max</th>\n",
              "      <td>10000.000000</td>\n",
              "    </tr>\n",
              "  </tbody>\n",
              "</table>\n",
              "</div>"
            ],
            "text/plain": [
              "                 id\n",
              "count  22433.000000\n",
              "mean    4985.225516\n",
              "std     2885.899132\n",
              "min        2.000000\n",
              "25%     2472.000000\n",
              "50%     5005.000000\n",
              "75%     7483.000000\n",
              "max    10000.000000"
            ]
          },
          "metadata": {
            "tags": []
          },
          "execution_count": 80
        }
      ]
    },
    {
      "metadata": {
        "colab_type": "text",
        "id": "xsdp1jFqwJuY"
      },
      "cell_type": "markdown",
      "source": [
        "The transactions span the same dates and customer ids as the impressions. It looks like some customers such as **id=1** do not have transactions."
      ]
    },
    {
      "metadata": {
        "colab_type": "code",
        "id": "_FR9Ye7yWspV",
        "outputId": "1ad2658e-8aca-46cb-ceff-079c1c7d687e",
        "colab": {
          "base_uri": "https://localhost:8080/",
          "height": 139
        }
      },
      "cell_type": "code",
      "source": [
        "trans[\"date\"].describe()"
      ],
      "execution_count": 0,
      "outputs": [
        {
          "output_type": "execute_result",
          "data": {
            "text/plain": [
              "count                   22433\n",
              "unique                     59\n",
              "top       2017-01-10 00:00:00\n",
              "freq                      660\n",
              "first     2017-01-01 00:00:00\n",
              "last      2017-02-28 00:00:00\n",
              "Name: date, dtype: object"
            ]
          },
          "metadata": {
            "tags": []
          },
          "execution_count": 81
        }
      ]
    },
    {
      "metadata": {
        "colab_type": "code",
        "id": "SpunyQ3FW1yW",
        "outputId": "6aee288c-6215-45eb-f780-f71af9df566e",
        "colab": {
          "base_uri": "https://localhost:8080/",
          "height": 121
        }
      },
      "cell_type": "code",
      "source": [
        "trans[\"last.touch\"].value_counts()"
      ],
      "execution_count": 0,
      "outputs": [
        {
          "output_type": "execute_result",
          "data": {
            "text/plain": [
              "email      7145\n",
              "social     6596\n",
              "display    5252\n",
              "direct     2594\n",
              "none        846\n",
              "Name: last.touch, dtype: int64"
            ]
          },
          "metadata": {
            "tags": []
          },
          "execution_count": 82
        }
      ]
    },
    {
      "metadata": {
        "colab_type": "code",
        "id": "ur07TKGnW67r",
        "outputId": "69bb6e75-476c-414c-c615-8abeadbcdbe7",
        "colab": {
          "base_uri": "https://localhost:8080/",
          "height": 104
        }
      },
      "cell_type": "code",
      "source": [
        "trans[\"last.click\"].value_counts()"
      ],
      "execution_count": 0,
      "outputs": [
        {
          "output_type": "execute_result",
          "data": {
            "text/plain": [
              "none       12998\n",
              "social      4393\n",
              "email       4151\n",
              "display      891\n",
              "Name: last.click, dtype: int64"
            ]
          },
          "metadata": {
            "tags": []
          },
          "execution_count": 83
        }
      ]
    },
    {
      "metadata": {
        "colab_type": "code",
        "id": "KNXthGwJW-9S",
        "outputId": "20e30afd-bf58-44f7-88b5-e15428050b31",
        "colab": {
          "base_uri": "https://localhost:8080/",
          "height": 1075
        }
      },
      "cell_type": "code",
      "source": [
        "# Transactions over time.\n",
        "transbyday = trans.groupby([\"date\"]).size()\n",
        "transbyday.head()"
      ],
      "execution_count": 0,
      "outputs": [
        {
          "output_type": "execute_result",
          "data": {
            "text/plain": [
              "date\n",
              "2017-01-01    325\n",
              "2017-01-02    357\n",
              "2017-01-03    589\n",
              "2017-01-04    479\n",
              "2017-01-05    403\n",
              "dtype: int64"
            ]
          },
          "metadata": {
            "tags": []
          },
          "execution_count": 84
        }
      ]
    },
    {
      "metadata": {
        "colab_type": "text",
        "id": "TpBCJuuTwJvI"
      },
      "cell_type": "markdown",
      "source": [
        "### 1.3.1 Transactions over time"
      ]
    },
    {
      "metadata": {
        "colab_type": "code",
        "id": "Epp0XF11X_CO",
        "outputId": "ae1d0908-98a7-41e9-f86f-643c748970b8",
        "colab": {
          "base_uri": "https://localhost:8080/",
          "height": 335
        }
      },
      "cell_type": "code",
      "source": [
        "plt.figure(figsize=(18,5))\n",
        "plt.bar(transbyday.index, transbyday)\n",
        "plt.xlabel('Date')\n",
        "plt.ylabel('Transactions')\n",
        "plt.show()"
      ],
      "execution_count": 0,
      "outputs": [
        {
          "output_type": "display_data",
          "data": {
            "image/png": "[encoded data removed]",
            "text/plain": [
              "<matplotlib.figure.Figure at 0x7fea59681b70>"
            ]
          },
          "metadata": {
            "tags": []
          }
        }
      ]
    },
    {
      "metadata": {
        "colab_type": "text",
        "id": "ttyUgq5kwJvY"
      },
      "cell_type": "markdown",
      "source": [
        "Transactions appear to be a bit higher in the first month and there are clear spikes around the\n",
        "time of emails and direct mail."
      ]
    },
    {
      "metadata": {
        "colab_type": "text",
        "id": "v0KWEr2AwJva"
      },
      "cell_type": "markdown",
      "source": [
        "### 1.3.2 Histogram of transactions."
      ]
    },
    {
      "metadata": {
        "colab_type": "code",
        "id": "6gnlNTuPYKGh",
        "outputId": "70b5f601-09ff-47a1-83c7-5403c51b986c",
        "colab": {
          "base_uri": "https://localhost:8080/",
          "height": 377
        }
      },
      "cell_type": "code",
      "source": [
        "plt.hist(trans.groupby('id').size())\n",
        "plt.xlabel('Number of Transactions')\n",
        "plt.ylabel('Count of Users')\n",
        "plt.title('Histogram of Transactions')\n",
        "plt.show()"
      ],
      "execution_count": 0,
      "outputs": [
        {
          "output_type": "display_data",
          "data": {
            "image/png": "[encoded data removed]",
            "text/plain": [
              "<matplotlib.figure.Figure at 0x7fea872c6b70>"
            ]
          },
          "metadata": {
            "tags": []
          }
        }
      ]
    },
    {
      "metadata": {
        "colab_type": "text",
        "id": "KRpuBh48wJvw"
      },
      "cell_type": "markdown",
      "source": [
        "Most customers have less than 2 transactions in the two month observation period."
      ]
    },
    {
      "metadata": {
        "colab_type": "text",
        "id": "GeKv20aiwJvz"
      },
      "cell_type": "markdown",
      "source": [
        "## 1.4 Randomly Analysing Customers"
      ]
    },
    {
      "metadata": {
        "colab_type": "text",
        "id": "wqntEy8NZDLh"
      },
      "cell_type": "markdown",
      "source": [
        "### 1.4.1 Customer 100"
      ]
    },
    {
      "metadata": {
        "colab_type": "code",
        "id": "kvtXHUOiYuX2",
        "outputId": "821784de-6c57-4386-b218-b2721790d52d",
        "colab": {
          "base_uri": "https://localhost:8080/",
          "height": 79
        }
      },
      "cell_type": "code",
      "source": [
        "cust[cust['id'] == 100]"
      ],
      "execution_count": 0,
      "outputs": [
        {
          "output_type": "execute_result",
          "data": {
            "text/html": [
              "<div>\n",
              "<style scoped>\n",
              "    .dataframe tbody tr th:only-of-type {\n",
              "        vertical-align: middle;\n",
              "    }\n",
              "\n",
              "    .dataframe tbody tr th {\n",
              "        vertical-align: top;\n",
              "    }\n",
              "\n",
              "    .dataframe thead th {\n",
              "        text-align: right;\n",
              "    }\n",
              "</style>\n",
              "<table border=\"1\" class=\"dataframe\">\n",
              "  <thead>\n",
              "    <tr style=\"text-align: right;\">\n",
              "      <th></th>\n",
              "      <th>id</th>\n",
              "      <th>past.purchase</th>\n",
              "      <th>email</th>\n",
              "      <th>direct</th>\n",
              "    </tr>\n",
              "  </thead>\n",
              "  <tbody>\n",
              "    <tr>\n",
              "      <th>99</th>\n",
              "      <td>100</td>\n",
              "      <td>0</td>\n",
              "      <td>0</td>\n",
              "      <td>0</td>\n",
              "    </tr>\n",
              "  </tbody>\n",
              "</table>\n",
              "</div>"
            ],
            "text/plain": [
              "     id  past.purchase  email  direct\n",
              "99  100              0      0       0"
            ]
          },
          "metadata": {
            "tags": []
          },
          "execution_count": 87
        }
      ]
    },
    {
      "metadata": {
        "colab_type": "code",
        "id": "anX-FGfeZHop",
        "outputId": "5deabae1-cef7-4bd1-a7d9-bb88ef0a0366",
        "colab": {
          "base_uri": "https://localhost:8080/",
          "height": 49
        }
      },
      "cell_type": "code",
      "source": [
        "impress[impress['id'] == 100]"
      ],
      "execution_count": 0,
      "outputs": [
        {
          "output_type": "execute_result",
          "data": {
            "text/html": [
              "<div>\n",
              "<style scoped>\n",
              "    .dataframe tbody tr th:only-of-type {\n",
              "        vertical-align: middle;\n",
              "    }\n",
              "\n",
              "    .dataframe tbody tr th {\n",
              "        vertical-align: top;\n",
              "    }\n",
              "\n",
              "    .dataframe thead th {\n",
              "        text-align: right;\n",
              "    }\n",
              "</style>\n",
              "<table border=\"1\" class=\"dataframe\">\n",
              "  <thead>\n",
              "    <tr style=\"text-align: right;\">\n",
              "      <th></th>\n",
              "      <th>id</th>\n",
              "      <th>date</th>\n",
              "      <th>channel</th>\n",
              "      <th>click</th>\n",
              "    </tr>\n",
              "  </thead>\n",
              "  <tbody>\n",
              "  </tbody>\n",
              "</table>\n",
              "</div>"
            ],
            "text/plain": [
              "Empty DataFrame\n",
              "Columns: [id, date, channel, click]\n",
              "Index: []"
            ]
          },
          "metadata": {
            "tags": []
          },
          "execution_count": 88
        }
      ]
    },
    {
      "metadata": {
        "colab_type": "code",
        "id": "h56hLSP3ZKLd",
        "outputId": "ca5f1b73-3d63-4a18-82d4-65729ab9a37d",
        "colab": {
          "base_uri": "https://localhost:8080/",
          "height": 110
        }
      },
      "cell_type": "code",
      "source": [
        "trans[trans['id'] == 100]"
      ],
      "execution_count": 0,
      "outputs": [
        {
          "output_type": "execute_result",
          "data": {
            "text/html": [
              "<div>\n",
              "<style scoped>\n",
              "    .dataframe tbody tr th:only-of-type {\n",
              "        vertical-align: middle;\n",
              "    }\n",
              "\n",
              "    .dataframe tbody tr th {\n",
              "        vertical-align: top;\n",
              "    }\n",
              "\n",
              "    .dataframe thead th {\n",
              "        text-align: right;\n",
              "    }\n",
              "</style>\n",
              "<table border=\"1\" class=\"dataframe\">\n",
              "  <thead>\n",
              "    <tr style=\"text-align: right;\">\n",
              "      <th></th>\n",
              "      <th>id</th>\n",
              "      <th>date</th>\n",
              "      <th>last.touch</th>\n",
              "      <th>last.click</th>\n",
              "    </tr>\n",
              "  </thead>\n",
              "  <tbody>\n",
              "    <tr>\n",
              "      <th>206</th>\n",
              "      <td>100</td>\n",
              "      <td>2017-01-18</td>\n",
              "      <td>none</td>\n",
              "      <td>none</td>\n",
              "    </tr>\n",
              "    <tr>\n",
              "      <th>207</th>\n",
              "      <td>100</td>\n",
              "      <td>2017-01-26</td>\n",
              "      <td>none</td>\n",
              "      <td>none</td>\n",
              "    </tr>\n",
              "  </tbody>\n",
              "</table>\n",
              "</div>"
            ],
            "text/plain": [
              "      id       date last.touch last.click\n",
              "206  100 2017-01-18       none       none\n",
              "207  100 2017-01-26       none       none"
            ]
          },
          "metadata": {
            "tags": []
          },
          "execution_count": 89
        }
      ]
    },
    {
      "metadata": {
        "colab_type": "text",
        "id": "Y8Vkm6FnwJwf"
      },
      "cell_type": "markdown",
      "source": [
        "Here we see that the Customer No. 100 has no impressions and made two transactions."
      ]
    },
    {
      "metadata": {
        "colab_type": "text",
        "id": "2rndfot7ZQ8F"
      },
      "cell_type": "markdown",
      "source": [
        "### 1.4.2 Customer 300"
      ]
    },
    {
      "metadata": {
        "colab_type": "code",
        "id": "qVMRha6ZZMh3",
        "outputId": "9f5091de-18ae-4e37-eee4-44d9329acf5b",
        "colab": {
          "base_uri": "https://localhost:8080/",
          "height": 79
        }
      },
      "cell_type": "code",
      "source": [
        "cust[cust['id'] == 300]"
      ],
      "execution_count": 0,
      "outputs": [
        {
          "output_type": "execute_result",
          "data": {
            "text/html": [
              "<div>\n",
              "<style scoped>\n",
              "    .dataframe tbody tr th:only-of-type {\n",
              "        vertical-align: middle;\n",
              "    }\n",
              "\n",
              "    .dataframe tbody tr th {\n",
              "        vertical-align: top;\n",
              "    }\n",
              "\n",
              "    .dataframe thead th {\n",
              "        text-align: right;\n",
              "    }\n",
              "</style>\n",
              "<table border=\"1\" class=\"dataframe\">\n",
              "  <thead>\n",
              "    <tr style=\"text-align: right;\">\n",
              "      <th></th>\n",
              "      <th>id</th>\n",
              "      <th>past.purchase</th>\n",
              "      <th>email</th>\n",
              "      <th>direct</th>\n",
              "    </tr>\n",
              "  </thead>\n",
              "  <tbody>\n",
              "    <tr>\n",
              "      <th>299</th>\n",
              "      <td>300</td>\n",
              "      <td>1</td>\n",
              "      <td>1</td>\n",
              "      <td>1</td>\n",
              "    </tr>\n",
              "  </tbody>\n",
              "</table>\n",
              "</div>"
            ],
            "text/plain": [
              "      id  past.purchase  email  direct\n",
              "299  300              1      1       1"
            ]
          },
          "metadata": {
            "tags": []
          },
          "execution_count": 90
        }
      ]
    },
    {
      "metadata": {
        "colab_type": "code",
        "id": "wPQ0rva9ZWDt",
        "outputId": "a9c4b2ed-8340-4729-d7a2-b90cebe115ad",
        "colab": {
          "base_uri": "https://localhost:8080/",
          "height": 294
        }
      },
      "cell_type": "code",
      "source": [
        "impress[impress['id'] == 300].describe()"
      ],
      "execution_count": 0,
      "outputs": [
        {
          "output_type": "execute_result",
          "data": {
            "text/html": [
              "<div>\n",
              "<style scoped>\n",
              "    .dataframe tbody tr th:only-of-type {\n",
              "        vertical-align: middle;\n",
              "    }\n",
              "\n",
              "    .dataframe tbody tr th {\n",
              "        vertical-align: top;\n",
              "    }\n",
              "\n",
              "    .dataframe thead th {\n",
              "        text-align: right;\n",
              "    }\n",
              "</style>\n",
              "<table border=\"1\" class=\"dataframe\">\n",
              "  <thead>\n",
              "    <tr style=\"text-align: right;\">\n",
              "      <th></th>\n",
              "      <th>id</th>\n",
              "      <th>click</th>\n",
              "    </tr>\n",
              "  </thead>\n",
              "  <tbody>\n",
              "    <tr>\n",
              "      <th>count</th>\n",
              "      <td>91.0</td>\n",
              "      <td>91.0</td>\n",
              "    </tr>\n",
              "    <tr>\n",
              "      <th>mean</th>\n",
              "      <td>300.0</td>\n",
              "      <td>0.0</td>\n",
              "    </tr>\n",
              "    <tr>\n",
              "      <th>std</th>\n",
              "      <td>0.0</td>\n",
              "      <td>0.0</td>\n",
              "    </tr>\n",
              "    <tr>\n",
              "      <th>min</th>\n",
              "      <td>300.0</td>\n",
              "      <td>0.0</td>\n",
              "    </tr>\n",
              "    <tr>\n",
              "      <th>25%</th>\n",
              "      <td>300.0</td>\n",
              "      <td>0.0</td>\n",
              "    </tr>\n",
              "    <tr>\n",
              "      <th>50%</th>\n",
              "      <td>300.0</td>\n",
              "      <td>0.0</td>\n",
              "    </tr>\n",
              "    <tr>\n",
              "      <th>75%</th>\n",
              "      <td>300.0</td>\n",
              "      <td>0.0</td>\n",
              "    </tr>\n",
              "    <tr>\n",
              "      <th>max</th>\n",
              "      <td>300.0</td>\n",
              "      <td>0.0</td>\n",
              "    </tr>\n",
              "  </tbody>\n",
              "</table>\n",
              "</div>"
            ],
            "text/plain": [
              "          id  click\n",
              "count   91.0   91.0\n",
              "mean   300.0    0.0\n",
              "std      0.0    0.0\n",
              "min    300.0    0.0\n",
              "25%    300.0    0.0\n",
              "50%    300.0    0.0\n",
              "75%    300.0    0.0\n",
              "max    300.0    0.0"
            ]
          },
          "metadata": {
            "tags": []
          },
          "execution_count": 91
        }
      ]
    },
    {
      "metadata": {
        "colab_type": "code",
        "id": "ycqrRgVUZbHf",
        "outputId": "194df7a9-5c42-4870-82a8-599f4e7ffeea",
        "colab": {
          "base_uri": "https://localhost:8080/",
          "height": 87
        }
      },
      "cell_type": "code",
      "source": [
        "impress[impress['id'] == 300][\"channel\"].value_counts()"
      ],
      "execution_count": 0,
      "outputs": [
        {
          "output_type": "execute_result",
          "data": {
            "text/plain": [
              "display    81\n",
              "email       8\n",
              "direct      2\n",
              "Name: channel, dtype: int64"
            ]
          },
          "metadata": {
            "tags": []
          },
          "execution_count": 92
        }
      ]
    },
    {
      "metadata": {
        "colab_type": "code",
        "id": "OS75wmGsZg5y",
        "outputId": "6495c14a-4efc-4b43-d123-86a847f2c919",
        "colab": {
          "base_uri": "https://localhost:8080/",
          "height": 139
        }
      },
      "cell_type": "code",
      "source": [
        "impress[impress['id'] == 300][\"date\"].describe()"
      ],
      "execution_count": 0,
      "outputs": [
        {
          "output_type": "execute_result",
          "data": {
            "text/plain": [
              "count                      91\n",
              "unique                     48\n",
              "top       2017-01-09 00:00:00\n",
              "freq                        4\n",
              "first     2016-12-31 00:00:00\n",
              "last      2017-02-26 00:00:00\n",
              "Name: date, dtype: object"
            ]
          },
          "metadata": {
            "tags": []
          },
          "execution_count": 93
        }
      ]
    },
    {
      "metadata": {
        "colab_type": "code",
        "id": "So8I3rRSZk8M",
        "outputId": "b25330da-60b3-4896-8ba0-f8f4ab753670",
        "colab": {
          "base_uri": "https://localhost:8080/",
          "height": 171
        }
      },
      "cell_type": "code",
      "source": [
        "trans[trans['id'] == 300]"
      ],
      "execution_count": 0,
      "outputs": [
        {
          "output_type": "execute_result",
          "data": {
            "text/html": [
              "<div>\n",
              "<style scoped>\n",
              "    .dataframe tbody tr th:only-of-type {\n",
              "        vertical-align: middle;\n",
              "    }\n",
              "\n",
              "    .dataframe tbody tr th {\n",
              "        vertical-align: top;\n",
              "    }\n",
              "\n",
              "    .dataframe thead th {\n",
              "        text-align: right;\n",
              "    }\n",
              "</style>\n",
              "<table border=\"1\" class=\"dataframe\">\n",
              "  <thead>\n",
              "    <tr style=\"text-align: right;\">\n",
              "      <th></th>\n",
              "      <th>id</th>\n",
              "      <th>date</th>\n",
              "      <th>last.touch</th>\n",
              "      <th>last.click</th>\n",
              "    </tr>\n",
              "  </thead>\n",
              "  <tbody>\n",
              "    <tr>\n",
              "      <th>647</th>\n",
              "      <td>300</td>\n",
              "      <td>2017-01-03</td>\n",
              "      <td>display</td>\n",
              "      <td>none</td>\n",
              "    </tr>\n",
              "    <tr>\n",
              "      <th>648</th>\n",
              "      <td>300</td>\n",
              "      <td>2017-01-10</td>\n",
              "      <td>email</td>\n",
              "      <td>none</td>\n",
              "    </tr>\n",
              "    <tr>\n",
              "      <th>649</th>\n",
              "      <td>300</td>\n",
              "      <td>2017-02-04</td>\n",
              "      <td>direct</td>\n",
              "      <td>none</td>\n",
              "    </tr>\n",
              "    <tr>\n",
              "      <th>650</th>\n",
              "      <td>300</td>\n",
              "      <td>2017-02-19</td>\n",
              "      <td>display</td>\n",
              "      <td>none</td>\n",
              "    </tr>\n",
              "  </tbody>\n",
              "</table>\n",
              "</div>"
            ],
            "text/plain": [
              "      id       date last.touch last.click\n",
              "647  300 2017-01-03    display       none\n",
              "648  300 2017-01-10      email       none\n",
              "649  300 2017-02-04     direct       none\n",
              "650  300 2017-02-19    display       none"
            ]
          },
          "metadata": {
            "tags": []
          },
          "execution_count": 94
        }
      ]
    },
    {
      "metadata": {
        "colab_type": "text",
        "id": "ygYPzY1SwJxg"
      },
      "cell_type": "markdown",
      "source": [
        "Customer No. 300 had 8 email, 2 direct mail and 81 display impressions and made 4 transactions."
      ]
    },
    {
      "metadata": {
        "colab_type": "text",
        "id": "Z-rtx1kkZwAb"
      },
      "cell_type": "markdown",
      "source": [
        "# 2. Attribution rules"
      ]
    },
    {
      "metadata": {
        "colab_type": "text",
        "id": "gTArRpTLwJxj"
      },
      "cell_type": "markdown",
      "source": [
        "## 2.1 Last Touch Attribute\n",
        "Last-click (or last-touch) attribution looks backward from each conversion to find the last ad the user clicked on prior to the conversion. The last click and the last touch are stored in the transaction file."
      ]
    },
    {
      "metadata": {
        "colab_type": "code",
        "id": "9YFZTAnRZo2L",
        "outputId": "9685309d-e4e3-42be-d0c5-a06173f4459a",
        "colab": {
          "base_uri": "https://localhost:8080/",
          "height": 233
        }
      },
      "cell_type": "code",
      "source": [
        "trans.head()"
      ],
      "execution_count": 0,
      "outputs": [
        {
          "output_type": "execute_result",
          "data": {
            "text/html": [
              "<div>\n",
              "<style scoped>\n",
              "    .dataframe tbody tr th:only-of-type {\n",
              "        vertical-align: middle;\n",
              "    }\n",
              "\n",
              "    .dataframe tbody tr th {\n",
              "        vertical-align: top;\n",
              "    }\n",
              "\n",
              "    .dataframe thead th {\n",
              "        text-align: right;\n",
              "    }\n",
              "</style>\n",
              "<table border=\"1\" class=\"dataframe\">\n",
              "  <thead>\n",
              "    <tr style=\"text-align: right;\">\n",
              "      <th></th>\n",
              "      <th>id</th>\n",
              "      <th>date</th>\n",
              "      <th>last.touch</th>\n",
              "      <th>last.click</th>\n",
              "    </tr>\n",
              "  </thead>\n",
              "  <tbody>\n",
              "    <tr>\n",
              "      <th>1</th>\n",
              "      <td>2</td>\n",
              "      <td>2017-01-04</td>\n",
              "      <td>email</td>\n",
              "      <td>none</td>\n",
              "    </tr>\n",
              "    <tr>\n",
              "      <th>2</th>\n",
              "      <td>2</td>\n",
              "      <td>2017-02-12</td>\n",
              "      <td>email</td>\n",
              "      <td>none</td>\n",
              "    </tr>\n",
              "    <tr>\n",
              "      <th>3</th>\n",
              "      <td>3</td>\n",
              "      <td>2017-02-02</td>\n",
              "      <td>email</td>\n",
              "      <td>none</td>\n",
              "    </tr>\n",
              "    <tr>\n",
              "      <th>4</th>\n",
              "      <td>3</td>\n",
              "      <td>2017-02-14</td>\n",
              "      <td>email</td>\n",
              "      <td>none</td>\n",
              "    </tr>\n",
              "    <tr>\n",
              "      <th>5</th>\n",
              "      <td>5</td>\n",
              "      <td>2017-01-04</td>\n",
              "      <td>display</td>\n",
              "      <td>email</td>\n",
              "    </tr>\n",
              "  </tbody>\n",
              "</table>\n",
              "</div>"
            ],
            "text/plain": [
              "   id       date last.touch last.click\n",
              "1   2 2017-01-04      email       none\n",
              "2   2 2017-02-12      email       none\n",
              "3   3 2017-02-02      email       none\n",
              "4   3 2017-02-14      email       none\n",
              "5   5 2017-01-04    display      email"
            ]
          },
          "metadata": {
            "tags": []
          },
          "execution_count": 95
        }
      ]
    },
    {
      "metadata": {
        "colab_type": "text",
        "id": "b_fvVHJtwJxt"
      },
      "cell_type": "markdown",
      "source": [
        "We want to compute the number of transactions that are attributed to each channel by last touch, we just do a quick analysis on the transaction table. When we do this, we are ignoring all the customers who didn’t transact."
      ]
    },
    {
      "metadata": {
        "colab_type": "code",
        "id": "5QHX8DFLyjBd",
        "outputId": "7d2e1633-8886-4e6a-fe26-5f40e0169d21",
        "colab": {
          "base_uri": "https://localhost:8080/",
          "height": 139
        }
      },
      "cell_type": "code",
      "source": [
        "last_touch = trans.groupby('last.touch').size()\n",
        "last_touch"
      ],
      "execution_count": 0,
      "outputs": [
        {
          "output_type": "execute_result",
          "data": {
            "text/plain": [
              "last.touch\n",
              "direct     2594\n",
              "display    5252\n",
              "email      7145\n",
              "none        846\n",
              "social     6596\n",
              "dtype: int64"
            ]
          },
          "metadata": {
            "tags": []
          },
          "execution_count": 96
        }
      ]
    },
    {
      "metadata": {
        "colab_type": "code",
        "id": "nXe4YdSSyi87",
        "outputId": "910c6220-b693-41db-e2fe-0861d7444b55",
        "colab": {
          "base_uri": "https://localhost:8080/",
          "height": 349
        }
      },
      "cell_type": "code",
      "source": [
        "plt.figure(figsize=(15,5))\n",
        "plt.bar(last_touch.index, last_touch)\n",
        "plt.xlabel('January + Feburary')\n",
        "plt.ylabel('Transactions')\n",
        "plt.title('Last Touch Attribution')\n",
        "plt.show()"
      ],
      "execution_count": 0,
      "outputs": [
        {
          "output_type": "display_data",
          "data": {
            "image/png": "[encoded data removed]",
            "text/plain": [
              "<matplotlib.figure.Figure at 0x7fea59585198>"
            ]
          },
          "metadata": {
            "tags": []
          }
        }
      ]
    },
    {
      "metadata": {
        "colab_type": "text",
        "id": "JVd_rRFDwJyF"
      },
      "cell_type": "markdown",
      "source": [
        "We can interpret this as the incremental sales for **social** are **6596**, which is somehow **Mis-leading**."
      ]
    },
    {
      "metadata": {
        "colab_type": "text",
        "id": "AXgVwM_XwJyI"
      },
      "cell_type": "markdown",
      "source": [
        "## 2.2 Last Touch for sub-group of Transactions (e.g., Feburary Onwards...) "
      ]
    },
    {
      "metadata": {
        "colab_type": "code",
        "id": "ctx2fsziyi5O",
        "outputId": "a7c7b337-b634-4b91-eb7d-298f9ee9dc69",
        "colab": {
          "base_uri": "https://localhost:8080/",
          "height": 139
        }
      },
      "cell_type": "code",
      "source": [
        "last_touch_after = trans[trans['date'] > pd.Timestamp('2017-01-31')].groupby('last.touch').size()\n",
        "last_touch_after"
      ],
      "execution_count": 0,
      "outputs": [
        {
          "output_type": "execute_result",
          "data": {
            "text/plain": [
              "last.touch\n",
              "direct     1669\n",
              "display    2682\n",
              "email      4081\n",
              "none        258\n",
              "social      328\n",
              "dtype: int64"
            ]
          },
          "metadata": {
            "tags": []
          },
          "execution_count": 98
        }
      ]
    },
    {
      "metadata": {
        "colab_type": "code",
        "id": "ZDIlm79BwJyU",
        "outputId": "acb2157a-63d2-47f6-f12d-f70f75eb4e00",
        "colab": {}
      },
      "cell_type": "code",
      "source": [
        "plt.figure(figsize=(15,5))\n",
        "plt.bar(last_touch_after.index, last_touch_after)\n",
        "plt.xlabel('Feburary')\n",
        "plt.ylabel('Transactions')\n",
        "plt.title('Last Touch Attribution')\n",
        "plt.show()"
      ],
      "execution_count": 0,
      "outputs": [
        {
          "output_type": "display_data",
          "data": {
            "image/png": "[encoded data removed]",
            "text/plain": [
              "<matplotlib.figure.Figure at 0x7fea59558a58>"
            ]
          },
          "metadata": {
            "tags": []
          }
        }
      ]
    },
    {
      "metadata": {
        "colab_type": "text",
        "id": "nu_uaWdRwJyj"
      },
      "cell_type": "markdown",
      "source": [
        "In **February**, there were far fewer sales attributed to **social**, most likely because we ended the social ads at the end of **January**."
      ]
    },
    {
      "metadata": {
        "colab_type": "text",
        "id": "HqQA9D_7wJyk"
      },
      "cell_type": "markdown",
      "source": [
        "## 2.3 Analyzing Last Ad a Customer clicked, rather than Last Touch"
      ]
    },
    {
      "metadata": {
        "colab_type": "code",
        "id": "WgVK0iiVyi1i",
        "outputId": "460217d9-8b14-4075-89f8-8757e026d768",
        "colab": {
          "base_uri": "https://localhost:8080/",
          "height": 121
        }
      },
      "cell_type": "code",
      "source": [
        "last_click = trans.groupby('last.click').size()\n",
        "last_click"
      ],
      "execution_count": 0,
      "outputs": [
        {
          "output_type": "execute_result",
          "data": {
            "text/plain": [
              "last.click\n",
              "display      891\n",
              "email       4151\n",
              "none       12998\n",
              "social      4393\n",
              "dtype: int64"
            ]
          },
          "metadata": {
            "tags": []
          },
          "execution_count": 100
        }
      ]
    },
    {
      "metadata": {
        "colab_type": "code",
        "id": "9-Sp1Aoyyip3",
        "outputId": "ea45e62a-55cd-4a69-8e03-8b14c2fe3eb0",
        "colab": {
          "base_uri": "https://localhost:8080/",
          "height": 349
        }
      },
      "cell_type": "code",
      "source": [
        "plt.figure(figsize=(15,5))\n",
        "plt.bar(last_click.index, last_click)\n",
        "plt.xlabel('January + Feburary')\n",
        "plt.ylabel('Transactions')\n",
        "plt.title('Last Click Attribution')\n",
        "plt.show()"
      ],
      "execution_count": 0,
      "outputs": [
        {
          "output_type": "display_data",
          "data": {
            "image/png": "[encoded data removed]",
            "text/plain": [
              "<matplotlib.figure.Figure at 0x7fea595026a0>"
            ]
          },
          "metadata": {
            "tags": []
          }
        }
      ]
    },
    {
      "metadata": {
        "colab_type": "text",
        "id": "1MhiqwvxwJy5"
      },
      "cell_type": "markdown",
      "source": [
        "Since people don’t click very much, the attributed sales are much lower. Measuring ad performance based on clicks doesn’t make much sense for the advertiser."
      ]
    },
    {
      "metadata": {
        "colab_type": "text",
        "id": "s5Q8c1a6wJy7"
      },
      "cell_type": "markdown",
      "source": [
        "# 3. Holdout Testing\n",
        "\n",
        "The gold standard for measuring incremental sales is an experiment, where we randomly assign customers to be exposed or not exposed to an ad. For example, with email we can take our list of target emails and randomly select a set of them to not receive an email. The magic behind a holdout test is the randomization. Another name for holdout testing is **Randomized Controlled Trial.**"
      ]
    },
    {
      "metadata": {
        "colab_type": "text",
        "id": "EXoQg6JIwJy8"
      },
      "cell_type": "markdown",
      "source": [
        "## 3.1 Analysing Holdout Group\n",
        "There was an **email** on **2017-01-03** that included a holdout group. Let’s analyze this test."
      ]
    },
    {
      "metadata": {
        "colab_type": "code",
        "id": "2DnOmhI_wJy-",
        "outputId": "648c7693-a2e8-4db3-ede8-9851ef6d4dd8",
        "colab": {}
      },
      "cell_type": "code",
      "source": [
        "# Visualizing the cadence.\n",
        "plt.figure(figsize=(18,5))\n",
        "plt.bar(cadence.index, cadence['display'], label='display')\n",
        "plt.bar(cadence.index, cadence['social'], bottom=cadence['display'], label='social')\n",
        "plt.bar(cadence.index, cadence['direct'], \n",
        "        bottom=cadence['display']+cadence['social'], label='direct')\n",
        "plt.bar(cadence.index, cadence['email'], \n",
        "        bottom=cadence['display']+cadence['social']+cadence['direct'], \n",
        "        label='email')\n",
        "plt.bar(cadence.index, cadence['email.holdout'], \n",
        "        bottom=cadence['display']+cadence['social']+cadence['direct']+cadence['email'], \n",
        "        label='email.holdout')\n",
        "plt.ylabel('impressions')\n",
        "plt.legend()\n",
        "plt.show()"
      ],
      "execution_count": 0,
      "outputs": [
        {
          "output_type": "display_data",
          "data": {
            "image/png": "[encoded data removed]",
            "text/plain": [
              "<matplotlib.figure.Figure at 0x7fea5949fb00>"
            ]
          },
          "metadata": {
            "tags": []
          }
        }
      ]
    },
    {
      "metadata": {
        "colab_type": "code",
        "id": "LWdOMv9fyrIQ",
        "colab": {}
      },
      "cell_type": "code",
      "source": [
        "def diffprop(obs):\n",
        "    \"\"\"\n",
        "    `obs` must be a 2x2 numpy array.\n",
        "\n",
        "    Returns:\n",
        "    delta\n",
        "        The difference in proportions\n",
        "    ci\n",
        "        The Wald 95% confidence interval for delta\n",
        "    corrected_ci\n",
        "        Yates continuity correction for the 95% confidence interval of delta.\n",
        "    \"\"\"\n",
        "    n1, n2 = obs.sum(axis=1)\n",
        "    prop1 = obs[0,0] / n1\n",
        "    prop2 = obs[1,0] / n2\n",
        "    delta = prop1 - prop2\n",
        "\n",
        "    # Wald 95% confidence interval for delta\n",
        "    se = np.sqrt(prop1*(1 - prop1)/n1 + prop2*(1 - prop2)/n2)\n",
        "    ci = (delta - 1.96*se, delta + 1.96*se)\n",
        "\n",
        "    # Yates continuity correction for confidence interval of delta\n",
        "    correction = 0.5*(1/n1 + 1/n2)\n",
        "    corrected_ci = (-(ci[0] - correction), -(ci[1] + correction))\n",
        "\n",
        "    return -delta, corrected_ci"
      ],
      "execution_count": 0,
      "outputs": []
    },
    {
      "metadata": {
        "colab_type": "code",
        "id": "5k9_CyLzyqV8",
        "colab": {}
      },
      "cell_type": "code",
      "source": [
        "def holdout_test(date, window, impress, trans, delay=0):\n",
        "    \"\"\"Function for pulling relavent test summaries out of the data\"\"\"\n",
        "    test_ids = impress[(impress['channel'] == \"email\") & \n",
        "        (impress['date'] == date)]['id'].unique()\n",
        "    control_ids = impress[(impress['channel'] == \"email.holdout\") & \n",
        "        (impress['date'] == date)]['id'].unique()\n",
        "    tdata = pd.DataFrame(np.concatenate((test_ids, control_ids), axis=0), columns=['id'])\n",
        "    test_index_of_tdata = tdata[tdata['id'].isin(test_ids)].index\n",
        "    tdata.loc[test_index_of_tdata,'group'] = 'test'\n",
        "    control_index_of_tdata = tdata[~tdata['id'].isin(test_ids)].index\n",
        "    tdata.loc[control_index_of_tdata, 'group'] = 'control'\n",
        "    in_window = (trans['date'] >= date + pd.Timedelta(delay, unit='D')) & \\\n",
        "        (trans['date'] < date + pd.Timedelta(delay+window, unit='D'))\n",
        "    tdata['convert'] = tdata['id'].isin(trans[in_window].id)\n",
        "    ttable = pd.crosstab(tdata['group'], tdata['convert'])\n",
        "    mosaic(tdata, ['group', 'convert'], title='Email Test on '+date.strftime('%Y-%m-%d'))\n",
        "    x_squared, p, dof, expected = stats.chi2_contingency(np.concatenate(([ttable[True].values], \n",
        "                    [ttable[False].values]), axis=0))\n",
        "    diff_conv = diffprop(np.concatenate(([ttable[True].values], [ttable[False].values]), axis=0).T)    \n",
        "    return diff_conv, ttable, (x_squared, p)"
      ],
      "execution_count": 0,
      "outputs": []
    },
    {
      "metadata": {
        "colab_type": "text",
        "id": "9DZx3Ax4wJzS"
      },
      "cell_type": "markdown",
      "source": [
        "## 3.2 Getting Conversion Estimates for Control and Test Groups after 7 days"
      ]
    },
    {
      "metadata": {
        "colab_type": "code",
        "id": "zHDkthb5y0sw",
        "outputId": "992e05cd-a307-47b4-c354-c7946d3769ca",
        "colab": {
          "base_uri": "https://localhost:8080/",
          "height": 467
        }
      },
      "cell_type": "code",
      "source": [
        "diff_conv, ttable, (x_squared, p) = holdout_test(pd.Timestamp('2017-01-03'), window=7, impress=impress, trans=trans)\n",
        "\n",
        "print(\"Diff_Conv = \", diff_conv)\n",
        "print(\"TTable = \\n\",ttable)\n",
        "print(\"X-Squared = \", x_squared)\n",
        "print(\"P-Value = \",p)\n",
        "\n",
        "Control_group = (ttable[1][0])/(ttable[1][0]+ttable[0][0])\n",
        "Test_group = (ttable[1][1])/(ttable[1][1]+ttable[0][1])\n",
        "print(\"Conversion rate for Control Group = \", Control_group*100,'-%')\n",
        "print(\"Conversion rate for Test Group = \", Test_group*100,'-%')"
      ],
      "execution_count": 0,
      "outputs": [
        {
          "output_type": "stream",
          "text": [
            "Diff_Conv =  (0.059727712814670264, (0.09011809838195196, 0.029337327247388568))\n",
            "TTable = \n",
            " convert  False  True \n",
            "group                \n",
            "control    810    393\n",
            "test      2944   1854\n",
            "X-Squared =  14.394981383825723\n",
            "P-Value =  0.00014819674528967867\n",
            "Conversion rate for Control Group =  32.66832917705736 -%\n",
            "Conversion rate for Test Group =  38.641100458524384 -%\n"
          ],
          "name": "stdout"
        },
        {
          "output_type": "display_data",
          "data": {
            "image/png": "[encoded data removed]",
            "text/plain": [
              "<matplotlib.figure.Figure at 0x7fea59762dd8>"
            ]
          },
          "metadata": {
            "tags": []
          }
        }
      ]
    },
    {
      "metadata": {
        "colab_type": "text",
        "id": "9bv-pDgawJzj"
      },
      "cell_type": "markdown",
      "source": [
        "The email on **2017-01-03** produced incremental sales. The incremental increase in conversion rate is between **+2.9% and +9.0% (95% CI)**."
      ]
    },
    {
      "metadata": {
        "colab_type": "text",
        "id": "i-N74cJZwJzm"
      },
      "cell_type": "markdown",
      "source": [
        "## 3.2 Getting Conversion Estimates for Control and Test Groups after 3 days"
      ]
    },
    {
      "metadata": {
        "colab_type": "code",
        "id": "KgueztSHy0dc",
        "outputId": "82556c7a-7edd-42f7-a5ce-c2f818911b58",
        "colab": {
          "base_uri": "https://localhost:8080/",
          "height": 467
        }
      },
      "cell_type": "code",
      "source": [
        "diff_conv, ttable, (x_squared, p) = holdout_test(pd.Timestamp('2017-01-03'), window=3, impress=impress, trans=trans)\n",
        "\n",
        "print(\"Diff_Conv = \", diff_conv)\n",
        "print(\"TTable = \\n\",ttable)\n",
        "print(\"X-Squared = \", x_squared)\n",
        "print(\"P-Value = \",p)\n",
        "\n",
        "Control_group = (ttable[1][0])/(ttable[1][0]+ttable[0][0])\n",
        "Test_group = (ttable[1][1])/(ttable[1][1]+ttable[0][1])\n",
        "print(\"Conversion rate for Control Group = \", Control_group*100,'-%')\n",
        "print(\"Conversion rate for Test Group = \", Test_group*100,'-%')"
      ],
      "execution_count": 0,
      "outputs": [
        {
          "output_type": "stream",
          "text": [
            "Diff_Conv =  (0.08120659862085788, (0.10306467606569693, 0.05934852117601883))\n",
            "TTable = \n",
            " convert  False  True \n",
            "group                \n",
            "control   1063    140\n",
            "test      3850    948\n",
            "X-Squared =  42.18697654639043\n",
            "P-Value =  8.295059177052017e-11\n",
            "Conversion rate for Control Group =  11.637572734829593 -%\n",
            "Conversion rate for Test Group =  19.75823259691538 -%\n"
          ],
          "name": "stdout"
        },
        {
          "output_type": "display_data",
          "data": {
            "image/png": "[encoded data removed]",
            "text/plain": [
              "<matplotlib.figure.Figure at 0x7fea59762e80>"
            ]
          },
          "metadata": {
            "tags": []
          }
        }
      ]
    },
    {
      "metadata": {
        "colab_type": "text",
        "id": "haBUnXzzwJz6"
      },
      "cell_type": "markdown",
      "source": [
        "## 3.3 Getting Conversion Estimates over Time"
      ]
    },
    {
      "metadata": {
        "colab_type": "code",
        "id": "fGbHp6nOwJz-",
        "outputId": "2f9e670d-a148-4d45-df24-384fce131169",
        "colab": {}
      },
      "cell_type": "code",
      "source": [
        "day1 = holdout_test(pd.Timestamp('2017-01-03'), window=1, \n",
        "                    impress=impress, trans=trans, delay=0)\n",
        "day2 = holdout_test(pd.Timestamp('2017-01-03'), window=1, \n",
        "                    impress=impress, trans=trans, delay=1)\n",
        "day3 = holdout_test(pd.Timestamp('2017-01-03'), window=1, \n",
        "                    impress=impress, trans=trans, delay=2)\n",
        "day4 = holdout_test(pd.Timestamp('2017-01-03'), window=1, \n",
        "                    impress=impress, trans=trans, delay=3)\n",
        "day5 = holdout_test(pd.Timestamp('2017-01-03'), window=1, \n",
        "                    impress=impress, trans=trans, delay=4)\n",
        "day6 = holdout_test(pd.Timestamp('2017-01-03'), window=1, \n",
        "                    impress=impress, trans=trans, delay=5)\n",
        "day7 = holdout_test(pd.Timestamp('2017-01-03'), window=1, \n",
        "                    impress=impress, trans=trans, delay=6)"
      ],
      "execution_count": 0,
      "outputs": [
        {
          "output_type": "display_data",
          "data": {
            "image/png": "[encoded data removed]",
            "text/plain": [
              "<matplotlib.figure.Figure at 0x7fea5971c940>"
            ]
          },
          "metadata": {
            "tags": []
          }
        },
        {
          "output_type": "display_data",
          "data": {
            "image/png": "[encoded data removed]",
            "text/plain": [
              "<matplotlib.figure.Figure at 0x7fea5967b080>"
            ]
          },
          "metadata": {
            "tags": []
          }
        },
        {
          "output_type": "display_data",
          "data": {
            "image/png": "[encoded data removed]",
            "text/plain": [
              "<matplotlib.figure.Figure at 0x7fea591d5198>"
            ]
          },
          "metadata": {
            "tags": []
          }
        },
        {
          "output_type": "display_data",
          "data": {
            "image/png": "[encoded data removed]",
            "text/plain": [
              "<matplotlib.figure.Figure at 0x7fea893d6358>"
            ]
          },
          "metadata": {
            "tags": []
          }
        },
        {
          "output_type": "display_data",
          "data": {
            "image/png": "[encoded data removed]",
            "text/plain": [
              "<matplotlib.figure.Figure at 0x7fea595ac518>"
            ]
          },
          "metadata": {
            "tags": []
          }
        },
        {
          "output_type": "display_data",
          "data": {
            "image/png": "[encoded data removed]",
            "text/plain": [
              "<matplotlib.figure.Figure at 0x7fea594c6518>"
            ]
          },
          "metadata": {
            "tags": []
          }
        },
        {
          "output_type": "display_data",
          "data": {
            "image/png": "[encoded data removed]",
            "text/plain": [
              "<matplotlib.figure.Figure at 0x7fea596a4438>"
            ]
          },
          "metadata": {
            "tags": []
          }
        }
      ]
    },
    {
      "metadata": {
        "colab_type": "code",
        "id": "gTahtJojy77e",
        "outputId": "55ac2688-84b0-4e79-a362-170ee9245a73",
        "colab": {
          "base_uri": "https://localhost:8080/",
          "height": 377
        }
      },
      "cell_type": "code",
      "source": [
        "incr = [day1[0][0], day2[0][0],day3[0][0],day4[0][0],day5[0][0],day6[0][0],day7[0][0]]\n",
        "plt.bar(range(1, 8), incr , width=0.05)\n",
        "plt.xlabel('Days after Email Sent')\n",
        "plt.ylabel('Increase in Conversion Rate')\n",
        "plt.title('Email Test 2017-01-03')\n",
        "plt.axhline(0, color='gray')\n",
        "plt.show()"
      ],
      "execution_count": 0,
      "outputs": [
        {
          "output_type": "display_data",
          "data": {
            "image/png": "[encoded data removed]",
            "text/plain": [
              "<matplotlib.figure.Figure at 0x7fea59766ba8>"
            ]
          },
          "metadata": {
            "tags": []
          }
        }
      ]
    },
    {
      "metadata": {
        "colab_type": "text",
        "id": "ytntrRaewJ0b"
      },
      "cell_type": "markdown",
      "source": [
        "In the test on **2017-01-03**, the lift in conversion rate falls to zero in about **three** days."
      ]
    },
    {
      "metadata": {
        "colab_type": "text",
        "id": "-slIgCfBaEyE"
      },
      "cell_type": "markdown",
      "source": [
        "# 4. Marketing mix modeling\n",
        "\n",
        "Before advertisers had access to user-level ad exposure data (like our example data set) they only had data on what they had spend on advertising and (sometimes) the number of people who saw the ad. This type of spending data is similar to the aggregate **impressions data** we looked at for our data set.\n",
        "\n",
        "**Based on this data, we want to find the correlation between total sales in each day/week/month to advertising spending or impressions on that same day/week/month, you estimate regression model.**\n",
        "\n",
        "**For Example**,\n",
        "\n",
        "$sales_t = β_0 + β_1*display_t + β_2*social_t + β_3*email_t + β_4*direct_t + \\epsilon_t$\n",
        "\n",
        "Here, $β's$ represent the unknown relationship between ad impressions and sales. For example $β_1$ is the increase in sales we get for each additional display impression."
      ]
    },
    {
      "metadata": {
        "colab_type": "text",
        "id": "uPsvAhD5wJ0f"
      },
      "cell_type": "markdown",
      "source": [
        "## 4.1 Aggregate Transaction for each day."
      ]
    },
    {
      "metadata": {
        "colab_type": "code",
        "id": "Lkkn3pkUwJ0k",
        "outputId": "45d7d38b-6fd1-4462-c052-ed23fb7c6f67",
        "colab": {}
      },
      "cell_type": "code",
      "source": [
        "# Transactions over time.\n",
        "transbyday = trans.groupby([\"date\"]).size()\n",
        "plt.figure(figsize=(18,5))\n",
        "plt.bar(transbyday.index, transbyday)\n",
        "plt.xlabel('Date')\n",
        "plt.ylabel('Transactions')\n",
        "plt.show()"
      ],
      "execution_count": 0,
      "outputs": [
        {
          "output_type": "display_data",
          "data": {
            "image/png": "[encoded data removed]",
            "text/plain": [
              "<matplotlib.figure.Figure at 0x7fea595769e8>"
            ]
          },
          "metadata": {
            "tags": []
          }
        }
      ]
    },
    {
      "metadata": {
        "colab_type": "text",
        "id": "hbjgklzSwJ0u"
      },
      "cell_type": "markdown",
      "source": [
        "## 4.2 Aggregate number of impressions on each day + Transactions"
      ]
    },
    {
      "metadata": {
        "colab_type": "code",
        "id": "w4UOb8TUaSfX",
        "outputId": "c929d404-66fd-4be4-c752-4b11e5ca1fb8",
        "colab": {
          "base_uri": "https://localhost:8080/",
          "height": 263
        }
      },
      "cell_type": "code",
      "source": [
        "# aligining dates\n",
        "mdata = pd.concat([transbyday[0:56], cadence[1:57]], axis=1)\n",
        "mdata[\"trans\"] = mdata[0].values\n",
        "mdata = mdata.drop([0],axis=1)\n",
        "mdata.head()"
      ],
      "execution_count": 0,
      "outputs": [
        {
          "output_type": "execute_result",
          "data": {
            "text/html": [
              "<div>\n",
              "<style scoped>\n",
              "    .dataframe tbody tr th:only-of-type {\n",
              "        vertical-align: middle;\n",
              "    }\n",
              "\n",
              "    .dataframe tbody tr th {\n",
              "        vertical-align: top;\n",
              "    }\n",
              "\n",
              "    .dataframe thead th {\n",
              "        text-align: right;\n",
              "    }\n",
              "</style>\n",
              "<table border=\"1\" class=\"dataframe\">\n",
              "  <thead>\n",
              "    <tr style=\"text-align: right;\">\n",
              "      <th></th>\n",
              "      <th>direct</th>\n",
              "      <th>display</th>\n",
              "      <th>email</th>\n",
              "      <th>email.holdout</th>\n",
              "      <th>social</th>\n",
              "      <th>trans</th>\n",
              "    </tr>\n",
              "    <tr>\n",
              "      <th>date</th>\n",
              "      <th></th>\n",
              "      <th></th>\n",
              "      <th></th>\n",
              "      <th></th>\n",
              "      <th></th>\n",
              "      <th></th>\n",
              "    </tr>\n",
              "  </thead>\n",
              "  <tbody>\n",
              "    <tr>\n",
              "      <th>2017-01-01</th>\n",
              "      <td>0</td>\n",
              "      <td>3786</td>\n",
              "      <td>0</td>\n",
              "      <td>0</td>\n",
              "      <td>7481</td>\n",
              "      <td>325</td>\n",
              "    </tr>\n",
              "    <tr>\n",
              "      <th>2017-01-02</th>\n",
              "      <td>0</td>\n",
              "      <td>3792</td>\n",
              "      <td>0</td>\n",
              "      <td>0</td>\n",
              "      <td>7416</td>\n",
              "      <td>357</td>\n",
              "    </tr>\n",
              "    <tr>\n",
              "      <th>2017-01-03</th>\n",
              "      <td>0</td>\n",
              "      <td>3656</td>\n",
              "      <td>4798</td>\n",
              "      <td>1203</td>\n",
              "      <td>7505</td>\n",
              "      <td>589</td>\n",
              "    </tr>\n",
              "    <tr>\n",
              "      <th>2017-01-04</th>\n",
              "      <td>0</td>\n",
              "      <td>3731</td>\n",
              "      <td>0</td>\n",
              "      <td>0</td>\n",
              "      <td>7648</td>\n",
              "      <td>479</td>\n",
              "    </tr>\n",
              "    <tr>\n",
              "      <th>2017-01-05</th>\n",
              "      <td>0</td>\n",
              "      <td>3770</td>\n",
              "      <td>0</td>\n",
              "      <td>0</td>\n",
              "      <td>7620</td>\n",
              "      <td>403</td>\n",
              "    </tr>\n",
              "  </tbody>\n",
              "</table>\n",
              "</div>"
            ],
            "text/plain": [
              "            direct  display  email  email.holdout  social  trans\n",
              "date                                                            \n",
              "2017-01-01       0     3786      0              0    7481    325\n",
              "2017-01-02       0     3792      0              0    7416    357\n",
              "2017-01-03       0     3656   4798           1203    7505    589\n",
              "2017-01-04       0     3731      0              0    7648    479\n",
              "2017-01-05       0     3770      0              0    7620    403"
            ]
          },
          "metadata": {
            "tags": []
          },
          "execution_count": 110
        }
      ]
    },
    {
      "metadata": {
        "colab_type": "text",
        "id": "PYBoHpWzwJ0-"
      },
      "cell_type": "markdown",
      "source": [
        "## 4.3 Daily Impressions vs Transactions Plots"
      ]
    },
    {
      "metadata": {
        "colab_type": "code",
        "id": "G0u-AKK5EaNP",
        "outputId": "02ff62bf-21eb-4fcb-f3f5-569da9713607",
        "colab": {
          "base_uri": "https://localhost:8080/",
          "height": 1455
        }
      },
      "cell_type": "code",
      "source": [
        "# Data exploration.\n",
        "# Fig.1~Display Impressions v. Transactions\n",
        "plt.scatter(mdata[\"display\"], mdata[\"trans\"])\n",
        "plt.xlabel(\"Display Impressions\")\n",
        "plt.ylabel(\"Transactions\")\n",
        "plt.title(\"Display Impressions v. Transactions\")\n",
        "plt.show()\n",
        "\n",
        "# Fig.2~Social Impressions v. Transactions\n",
        "plt.scatter(mdata[\"social\"], mdata[\"trans\"])\n",
        "plt.xlabel(\"Social Impressions\")\n",
        "plt.ylabel(\"Transactions\")\n",
        "plt.title(\"Social Impressions v. Transactions\")\n",
        "plt.show()\n",
        "\n",
        "# Fig.3~Email Impressions v. Transactions\n",
        "plt.scatter(mdata[\"email\"], mdata[\"trans\"])\n",
        "plt.xlabel(\"Email Impressions\")\n",
        "plt.ylabel(\"Transactions\")\n",
        "plt.title(\"Email Impressions v. Transactions\")\n",
        "plt.show()\n",
        "\n",
        "# Fig.4~Direct Impressions v. Transactions\n",
        "plt.scatter(mdata[\"direct\"], mdata[\"trans\"])\n",
        "plt.xlabel(\"Direct Impressions\")\n",
        "plt.ylabel(\"Transactions\")\n",
        "plt.title(\"Direct Impressions v. Transactions\")\n",
        "plt.show()"
      ],
      "execution_count": 0,
      "outputs": [
        {
          "output_type": "display_data",
          "data": {
            "image/png": "[encoded data removed]",
            "text/plain": [
              "<matplotlib.figure.Figure at 0x7fea5934cda0>"
            ]
          },
          "metadata": {
            "tags": []
          }
        },
        {
          "output_type": "display_data",
          "data": {
            "image/png": "[encoded data removed]",
            "text/plain": [
              "<matplotlib.figure.Figure at 0x7fea593d5c18>"
            ]
          },
          "metadata": {
            "tags": []
          }
        },
        {
          "output_type": "display_data",
          "data": {
            "image/png": "[encoded data removed]",
            "text/plain": [
              "<matplotlib.figure.Figure at 0x7fea59407278>"
            ]
          },
          "metadata": {
            "tags": []
          }
        },
        {
          "output_type": "display_data",
          "data": {
            "image/png": "[encoded data removed]",
            "text/plain": [
              "<matplotlib.figure.Figure at 0x7fea59236518>"
            ]
          },
          "metadata": {
            "tags": []
          }
        }
      ]
    },
    {
      "metadata": {
        "colab_type": "text",
        "id": "5x8gBIXTwJ1N"
      },
      "cell_type": "markdown",
      "source": [
        "## 4.4 Running a simple media mix model."
      ]
    },
    {
      "metadata": {
        "colab_type": "code",
        "id": "HW5MLN3FDl_e",
        "outputId": "8a51208c-6b91-406e-9118-13316c37f65f",
        "colab": {
          "base_uri": "https://localhost:8080/",
          "height": 454
        }
      },
      "cell_type": "code",
      "source": [
        "mdata.rename(columns={\"email.holdout\":\"email_holdout\"},inplace=True)\n",
        "m1 = smf.ols(\"trans~direct+social+email+display+social+email_holdout\",data=mdata).fit()\n",
        "mdata.rename(columns={\"email_holdout\":\"email.holdout\"},inplace=True)\n",
        "m1.summary()"
      ],
      "execution_count": 0,
      "outputs": [
        {
          "output_type": "execute_result",
          "data": {
            "text/html": [
              "<table class=\"simpletable\">\n",
              "<caption>OLS Regression Results</caption>\n",
              "<tr>\n",
              "  <th>Dep. Variable:</th>          <td>trans</td>      <th>  R-squared:         </th> <td>   0.456</td>\n",
              "</tr>\n",
              "<tr>\n",
              "  <th>Model:</th>                   <td>OLS</td>       <th>  Adj. R-squared:    </th> <td>   0.401</td>\n",
              "</tr>\n",
              "<tr>\n",
              "  <th>Method:</th>             <td>Least Squares</td>  <th>  F-statistic:       </th> <td>   8.368</td>\n",
              "</tr>\n",
              "<tr>\n",
              "  <th>Date:</th>             <td>Thu, 28 Mar 2019</td> <th>  Prob (F-statistic):</th> <td>8.34e-06</td>\n",
              "</tr>\n",
              "<tr>\n",
              "  <th>Time:</th>                 <td>21:45:17</td>     <th>  Log-Likelihood:    </th> <td> -329.90</td>\n",
              "</tr>\n",
              "<tr>\n",
              "  <th>No. Observations:</th>      <td>    56</td>      <th>  AIC:               </th> <td>   671.8</td>\n",
              "</tr>\n",
              "<tr>\n",
              "  <th>Df Residuals:</th>          <td>    50</td>      <th>  BIC:               </th> <td>   684.0</td>\n",
              "</tr>\n",
              "<tr>\n",
              "  <th>Df Model:</th>              <td>     5</td>      <th>                     </th>     <td> </td>   \n",
              "</tr>\n",
              "<tr>\n",
              "  <th>Covariance Type:</th>      <td>nonrobust</td>    <th>                     </th>     <td> </td>   \n",
              "</tr>\n",
              "</table>\n",
              "<table class=\"simpletable\">\n",
              "<tr>\n",
              "        <td></td>           <th>coef</th>     <th>std err</th>      <th>t</th>      <th>P>|t|</th>  <th>[0.025</th>    <th>0.975]</th>  \n",
              "</tr>\n",
              "<tr>\n",
              "  <th>Intercept</th>     <td>  477.4381</td> <td>  942.757</td> <td>    0.506</td> <td> 0.615</td> <td>-1416.146</td> <td> 2371.022</td>\n",
              "</tr>\n",
              "<tr>\n",
              "  <th>direct</th>        <td>    0.0140</td> <td>    0.014</td> <td>    1.009</td> <td> 0.318</td> <td>   -0.014</td> <td>    0.042</td>\n",
              "</tr>\n",
              "<tr>\n",
              "  <th>social</th>        <td>    0.0122</td> <td>    0.003</td> <td>    3.579</td> <td> 0.001</td> <td>    0.005</td> <td>    0.019</td>\n",
              "</tr>\n",
              "<tr>\n",
              "  <th>email</th>         <td>   -0.1694</td> <td>    0.322</td> <td>   -0.526</td> <td> 0.601</td> <td>   -0.817</td> <td>    0.478</td>\n",
              "</tr>\n",
              "<tr>\n",
              "  <th>display</th>       <td>   -0.0448</td> <td>    0.253</td> <td>   -0.177</td> <td> 0.860</td> <td>   -0.553</td> <td>    0.463</td>\n",
              "</tr>\n",
              "<tr>\n",
              "  <th>email_holdout</th> <td>    0.8349</td> <td>    1.292</td> <td>    0.646</td> <td> 0.521</td> <td>   -1.761</td> <td>    3.430</td>\n",
              "</tr>\n",
              "</table>\n",
              "<table class=\"simpletable\">\n",
              "<tr>\n",
              "  <th>Omnibus:</th>       <td> 7.181</td> <th>  Durbin-Watson:     </th> <td>   0.774</td>\n",
              "</tr>\n",
              "<tr>\n",
              "  <th>Prob(Omnibus):</th> <td> 0.028</td> <th>  Jarque-Bera (JB):  </th> <td>   7.443</td>\n",
              "</tr>\n",
              "<tr>\n",
              "  <th>Skew:</th>          <td> 0.867</td> <th>  Prob(JB):          </th> <td>  0.0242</td>\n",
              "</tr>\n",
              "<tr>\n",
              "  <th>Kurtosis:</th>      <td> 2.574</td> <th>  Cond. No.          </th> <td>4.79e+05</td>\n",
              "</tr>\n",
              "</table>"
            ],
            "text/plain": [
              "<class 'statsmodels.iolib.summary.Summary'>\n",
              "\"\"\"\n",
              "                            OLS Regression Results                            \n",
              "==============================================================================\n",
              "Dep. Variable:                  trans   R-squared:                       0.456\n",
              "Model:                            OLS   Adj. R-squared:                  0.401\n",
              "Method:                 Least Squares   F-statistic:                     8.368\n",
              "Date:                Thu, 28 Mar 2019   Prob (F-statistic):           8.34e-06\n",
              "Time:                        21:45:17   Log-Likelihood:                -329.90\n",
              "No. Observations:                  56   AIC:                             671.8\n",
              "Df Residuals:                      50   BIC:                             684.0\n",
              "Df Model:                           5                                         \n",
              "Covariance Type:            nonrobust                                         \n",
              "=================================================================================\n",
              "                    coef    std err          t      P>|t|      [0.025      0.975]\n",
              "---------------------------------------------------------------------------------\n",
              "Intercept       477.4381    942.757      0.506      0.615   -1416.146    2371.022\n",
              "direct            0.0140      0.014      1.009      0.318      -0.014       0.042\n",
              "social            0.0122      0.003      3.579      0.001       0.005       0.019\n",
              "email            -0.1694      0.322     -0.526      0.601      -0.817       0.478\n",
              "display          -0.0448      0.253     -0.177      0.860      -0.553       0.463\n",
              "email_holdout     0.8349      1.292      0.646      0.521      -1.761       3.430\n",
              "==============================================================================\n",
              "Omnibus:                        7.181   Durbin-Watson:                   0.774\n",
              "Prob(Omnibus):                  0.028   Jarque-Bera (JB):                7.443\n",
              "Skew:                           0.867   Prob(JB):                       0.0242\n",
              "Kurtosis:                       2.574   Cond. No.                     4.79e+05\n",
              "==============================================================================\n",
              "\n",
              "Warnings:\n",
              "[1] Standard Errors assume that the covariance matrix of the errors is correctly specified.\n",
              "[2] The condition number is large, 4.79e+05. This might indicate that there are\n",
              "strong multicollinearity or other numerical problems.\n",
              "\"\"\""
            ]
          },
          "metadata": {
            "tags": []
          },
          "execution_count": 112
        }
      ]
    },
    {
      "metadata": {
        "colab_type": "text",
        "id": "1OGj67pHwJ1e"
      },
      "cell_type": "markdown",
      "source": [
        "1. The only statistically significant effect is for **social impressions**, and we get **0.0122** additional transactions for each **social impressions**.\n",
        "2. The standard error for **display** is very large, which means we don’t have a precise estimate of the effect of **display**. This happened because daily **display** impressions are pretty much the same every day. The data is not informative!"
      ]
    },
    {
      "metadata": {
        "colab_type": "text",
        "id": "CWyIzAkaaTgm"
      },
      "cell_type": "markdown",
      "source": [
        "# 5. Model-based attribution\n",
        "\n",
        "Model-based attribution is similar to marketing mix modeling, but we do the analysis at the user-level, relating a user’s transactions or conversions to her prior advertising exposures. A simple attribution model is:\n",
        "\n",
        "$y_{it} = β_0 + β_1*display_{it} + β_2*social_{it} + β_3*email_{it} + β_4*direct_{it} + \\epsilon_{it}$\n",
        "\n",
        "$conversion_{it} = \\frac{1}{1+ e^{-y_{it}}}$\n",
        "\n",
        "1. The key difference from a marketing mix model is that now all the variables are indexed by $i$ in addition to $t$.\n",
        "2. To run this regression, we need to create a data frame where each row is a user-day and summarizes the user’s impressions and transactions on that day."
      ]
    },
    {
      "metadata": {
        "colab_type": "text",
        "id": "Fe4AxBiOwJ1g"
      },
      "cell_type": "markdown",
      "source": [
        "## 5.1 Data Transformation\n",
        "**Step 1:** Summary of impressions by user and day.<br>\n",
        "**Step 2:** Adding in users with zero impressions.<br>\n",
        "**Step 3:** Switch to wide format.<br>\n",
        "**Step 4:** Add the daily transactions for each user.<br>\n",
        "**Step 5:** Final tidy up of attribution modeling data."
      ]
    },
    {
      "metadata": {
        "colab_type": "code",
        "id": "BS_vitbJafE7",
        "colab": {}
      },
      "cell_type": "code",
      "source": [
        "# Data transform step 1: Summary of impressions by user and day.\n",
        "tmp1 = impress.drop([\"click\"],axis=1).groupby([\"id\",\"date\",\"channel\"]).size()\n",
        "tmp2 = tmp1.keys().to_frame(index=False)\n",
        "tmp2[\"impr\"] = tmp1.values"
      ],
      "execution_count": 0,
      "outputs": []
    },
    {
      "metadata": {
        "colab_type": "code",
        "id": "t575-Z9PL-XD",
        "colab": {}
      },
      "cell_type": "code",
      "source": [
        "# Data transform step 2: Adding in users with zero impressions.\n",
        "ids = sorted(set(cust[\"id\"]))\n",
        "dates = sorted(set(impress[\"date\"]))\n",
        "channels = sorted(set(impress[\"channel\"]))\n",
        "\n",
        "id_list = ids*(len(dates)*len(channels))\n",
        "date_list = list(np.repeat(list(dates),len(ids)))*len(channels)\n",
        "channel_list = np.repeat(list(channels),len(ids)*len(dates))\n",
        "impr_list = 0*(len(dates)*len(ids)*len(channels))\n",
        "\n",
        "tmp3 = pd.DataFrame({\"id\":id_list, \"date\":date_list,\"channel\":channel_list,\"impr\":impr_list})\n",
        "adatal = pd.merge(tmp3, tmp2, how=\"left\", on=[\"id\",\"date\",\"channel\"])\n",
        "adatal = adatal.drop([\"impr_x\"],axis=1)\n",
        "adatal[\"impr_y\"].fillna(0, inplace=True)\n",
        "adatal.rename(columns={\"impr_y\":\"impr\"},inplace=True)\n",
        "adatal[\"impr\"] = adatal[\"impr\"].astype(int)"
      ],
      "execution_count": 0,
      "outputs": []
    },
    {
      "metadata": {
        "colab_type": "code",
        "id": "sult7DGpL-Tb",
        "outputId": "cc551b7b-4ebc-4b41-a60d-90ed26e2b50e",
        "colab": {
          "base_uri": "https://localhost:8080/",
          "height": 355
        }
      },
      "cell_type": "code",
      "source": [
        "# Data transform step 3: Switch to wide format.\n",
        "tmp4 = tmp2.pivot(columns=\"channel\",values=\"impr\")\n",
        "tmp4.fillna(0,inplace=True)\n",
        "tmp4 = tmp4.astype(int)\n",
        "tmp4[\"id\"] = tmp2[\"id\"].values\n",
        "tmp4[\"date\"] = tmp2[\"date\"].values\n",
        "tmp4.rename(columns={\"direct\":\"impr.direct\",\n",
        "                     \"display\":\"impr.display\",\n",
        "                     \"email\":\"impr.email\",\n",
        "                     \"email.holdout\":\"impr.email.holdout\",\n",
        "                     \"social\":\"impr.social\"},\n",
        "            inplace=True)\n",
        "\n",
        "tmp5 = tmp4.groupby([\"id\",\"date\"]).sum()\n",
        "tmp6 = tmp4.groupby([\"id\",\"date\"]).size().keys().to_frame(index=False)\n",
        "tmp7 = pd.DataFrame(data=tmp5.values,columns=[\"impr.direct\",\"impr.display\",\"impr.email\",\"impr.email.holdout\",\"impr.social\"])\n",
        "tmp7[\"id\"] = tmp6[\"id\"].values\n",
        "tmp7[\"date\"] = tmp6[\"date\"].values\n",
        "\n",
        "\n",
        "id_list_2 = ids*len(dates)\n",
        "date_list_2 = list(np.repeat(list(dates),len(ids)))\n",
        "impr_direct_list = 0*(len(dates)*len(ids))\n",
        "impr_display_list = 0*(len(dates)*len(ids))\n",
        "impr_email_list = 0*(len(dates)*len(ids))\n",
        "impr_email_holdout_list = 0*(len(dates)*len(ids))\n",
        "impr_social_list = 0*(len(dates)*len(ids))\n",
        "\n",
        "adata = pd.DataFrame({\"id\":id_list_2, \n",
        "                      \"date\":date_list_2,\n",
        "                      \"impr.direct\":impr_direct_list,\n",
        "                      \"impr.display\":impr_display_list,\n",
        "                      \"impr.email\":impr_email_list,\n",
        "                      \"impr.email.holdout\":impr_email_holdout_list,\n",
        "                      \"impr.social\":impr_social_list})\n",
        "\n",
        "adata = adata.merge(tmp7, how=\"left\", on=[\"id\",\"date\"])\n",
        "\n",
        "adata.fillna(0,inplace=True)\n",
        "adata = adata.drop([\"impr.direct_x\",\n",
        "                    \"impr.display_x\",\n",
        "                    \"impr.email_x\",\n",
        "                    \"impr.email.holdout_x\",\n",
        "                    \"impr.social_x\"],\n",
        "                   axis=1)\n",
        "adata = adata.astype({\"impr.direct_y\":int,\n",
        "                      \"impr.display_y\":int,\n",
        "                      \"impr.email_y\":int,\n",
        "                      \"impr.email.holdout_y\":int,\n",
        "                      \"impr.social_y\":int})\n",
        "\n",
        "adata.rename(columns={\"impr.direct_y\":\"impr.direct\",\n",
        "                      \"impr.display_y\":\"impr.display\",\n",
        "                      \"impr.email_y\":\"impr.email\",\n",
        "                      \"impr.email.holdout_y\":\"impr.email.holdout\",\n",
        "                      \"impr.social_y\":\"impr.social\"},\n",
        "             inplace=True)\n",
        "\n",
        "adata.head(10)"
      ],
      "execution_count": 0,
      "outputs": [
        {
          "output_type": "execute_result",
          "data": {
            "text/html": [
              "<div>\n",
              "<style scoped>\n",
              "    .dataframe tbody tr th:only-of-type {\n",
              "        vertical-align: middle;\n",
              "    }\n",
              "\n",
              "    .dataframe tbody tr th {\n",
              "        vertical-align: top;\n",
              "    }\n",
              "\n",
              "    .dataframe thead th {\n",
              "        text-align: right;\n",
              "    }\n",
              "</style>\n",
              "<table border=\"1\" class=\"dataframe\">\n",
              "  <thead>\n",
              "    <tr style=\"text-align: right;\">\n",
              "      <th></th>\n",
              "      <th>date</th>\n",
              "      <th>id</th>\n",
              "      <th>impr.direct</th>\n",
              "      <th>impr.display</th>\n",
              "      <th>impr.email</th>\n",
              "      <th>impr.email.holdout</th>\n",
              "      <th>impr.social</th>\n",
              "    </tr>\n",
              "  </thead>\n",
              "  <tbody>\n",
              "    <tr>\n",
              "      <th>0</th>\n",
              "      <td>2016-12-31</td>\n",
              "      <td>1</td>\n",
              "      <td>0</td>\n",
              "      <td>0</td>\n",
              "      <td>0</td>\n",
              "      <td>0</td>\n",
              "      <td>0</td>\n",
              "    </tr>\n",
              "    <tr>\n",
              "      <th>1</th>\n",
              "      <td>2016-12-31</td>\n",
              "      <td>2</td>\n",
              "      <td>0</td>\n",
              "      <td>0</td>\n",
              "      <td>0</td>\n",
              "      <td>0</td>\n",
              "      <td>0</td>\n",
              "    </tr>\n",
              "    <tr>\n",
              "      <th>2</th>\n",
              "      <td>2016-12-31</td>\n",
              "      <td>3</td>\n",
              "      <td>0</td>\n",
              "      <td>0</td>\n",
              "      <td>0</td>\n",
              "      <td>0</td>\n",
              "      <td>0</td>\n",
              "    </tr>\n",
              "    <tr>\n",
              "      <th>3</th>\n",
              "      <td>2016-12-31</td>\n",
              "      <td>4</td>\n",
              "      <td>0</td>\n",
              "      <td>0</td>\n",
              "      <td>0</td>\n",
              "      <td>0</td>\n",
              "      <td>0</td>\n",
              "    </tr>\n",
              "    <tr>\n",
              "      <th>4</th>\n",
              "      <td>2016-12-31</td>\n",
              "      <td>5</td>\n",
              "      <td>0</td>\n",
              "      <td>1</td>\n",
              "      <td>0</td>\n",
              "      <td>0</td>\n",
              "      <td>0</td>\n",
              "    </tr>\n",
              "    <tr>\n",
              "      <th>5</th>\n",
              "      <td>2016-12-31</td>\n",
              "      <td>6</td>\n",
              "      <td>0</td>\n",
              "      <td>0</td>\n",
              "      <td>0</td>\n",
              "      <td>0</td>\n",
              "      <td>0</td>\n",
              "    </tr>\n",
              "    <tr>\n",
              "      <th>6</th>\n",
              "      <td>2016-12-31</td>\n",
              "      <td>7</td>\n",
              "      <td>0</td>\n",
              "      <td>0</td>\n",
              "      <td>0</td>\n",
              "      <td>0</td>\n",
              "      <td>0</td>\n",
              "    </tr>\n",
              "    <tr>\n",
              "      <th>7</th>\n",
              "      <td>2016-12-31</td>\n",
              "      <td>8</td>\n",
              "      <td>0</td>\n",
              "      <td>0</td>\n",
              "      <td>0</td>\n",
              "      <td>0</td>\n",
              "      <td>0</td>\n",
              "    </tr>\n",
              "    <tr>\n",
              "      <th>8</th>\n",
              "      <td>2016-12-31</td>\n",
              "      <td>9</td>\n",
              "      <td>0</td>\n",
              "      <td>0</td>\n",
              "      <td>0</td>\n",
              "      <td>0</td>\n",
              "      <td>0</td>\n",
              "    </tr>\n",
              "    <tr>\n",
              "      <th>9</th>\n",
              "      <td>2016-12-31</td>\n",
              "      <td>10</td>\n",
              "      <td>0</td>\n",
              "      <td>0</td>\n",
              "      <td>0</td>\n",
              "      <td>0</td>\n",
              "      <td>1</td>\n",
              "    </tr>\n",
              "  </tbody>\n",
              "</table>\n",
              "</div>"
            ],
            "text/plain": [
              "        date  id  impr.direct  impr.display  impr.email  impr.email.holdout  \\\n",
              "0 2016-12-31   1            0             0           0                   0   \n",
              "1 2016-12-31   2            0             0           0                   0   \n",
              "2 2016-12-31   3            0             0           0                   0   \n",
              "3 2016-12-31   4            0             0           0                   0   \n",
              "4 2016-12-31   5            0             1           0                   0   \n",
              "5 2016-12-31   6            0             0           0                   0   \n",
              "6 2016-12-31   7            0             0           0                   0   \n",
              "7 2016-12-31   8            0             0           0                   0   \n",
              "8 2016-12-31   9            0             0           0                   0   \n",
              "9 2016-12-31  10            0             0           0                   0   \n",
              "\n",
              "   impr.social  \n",
              "0            0  \n",
              "1            0  \n",
              "2            0  \n",
              "3            0  \n",
              "4            0  \n",
              "5            0  \n",
              "6            0  \n",
              "7            0  \n",
              "8            0  \n",
              "9            1  "
            ]
          },
          "metadata": {
            "tags": []
          },
          "execution_count": 115
        }
      ]
    },
    {
      "metadata": {
        "colab_type": "code",
        "id": "LC91R4pEhRk9",
        "outputId": "b3321213-b394-454b-8ee3-7aa82ca35b3b",
        "colab": {
          "base_uri": "https://localhost:8080/",
          "height": 233
        }
      },
      "cell_type": "code",
      "source": [
        "# Data transformation step 4: Add the daily transactions for each user.\n",
        "tmp8 = trans.groupby([\"id\",\"date\"]).size()\n",
        "tmp9 = tmp8.keys().to_frame(index=False)\n",
        "tmp9[\"trans\"] = tmp8.values\n",
        "\n",
        "ids_trans = sorted(set(trans[\"id\"]))\n",
        "dates_trans = sorted(set(trans[\"date\"]))\n",
        "\n",
        "id_trans_list = ids_trans*len(dates_trans)\n",
        "date_trans_list = np.repeat(list(dates_trans),len(ids_trans))\n",
        "trans_list = 0*(len(dates_trans)*len(ids_trans))\n",
        "\n",
        "tmp_trans = pd.DataFrame({\"id\":id_trans_list, \"date\":date_trans_list,\"trans\":trans_list})\n",
        "atrans = pd.merge(tmp_trans, tmp9, how=\"left\", on=[\"id\",\"date\"])\n",
        "atrans = atrans.drop([\"trans_x\"],axis=1)\n",
        "atrans[\"trans_y\"].fillna(0, inplace=True)\n",
        "atrans.rename(columns={\"trans_y\":\"trans\"},inplace=True)\n",
        "atrans[\"trans\"] = atrans[\"trans\"].astype(int)\n",
        "\n",
        "adata_trans = adata.merge(atrans, how=\"left\", on=[\"id\",\"date\"])\n",
        "adata_trans[\"trans\"].fillna(0, inplace=True)\n",
        "adata_trans[\"trans\"] = adata_trans[\"trans\"].astype(int)\n",
        "adata_trans.head(6)"
      ],
      "execution_count": 0,
      "outputs": [
        {
          "output_type": "execute_result",
          "data": {
            "text/html": [
              "<div>\n",
              "<style scoped>\n",
              "    .dataframe tbody tr th:only-of-type {\n",
              "        vertical-align: middle;\n",
              "    }\n",
              "\n",
              "    .dataframe tbody tr th {\n",
              "        vertical-align: top;\n",
              "    }\n",
              "\n",
              "    .dataframe thead th {\n",
              "        text-align: right;\n",
              "    }\n",
              "</style>\n",
              "<table border=\"1\" class=\"dataframe\">\n",
              "  <thead>\n",
              "    <tr style=\"text-align: right;\">\n",
              "      <th></th>\n",
              "      <th>date</th>\n",
              "      <th>id</th>\n",
              "      <th>impr.direct</th>\n",
              "      <th>impr.display</th>\n",
              "      <th>impr.email</th>\n",
              "      <th>impr.email.holdout</th>\n",
              "      <th>impr.social</th>\n",
              "      <th>trans</th>\n",
              "    </tr>\n",
              "  </thead>\n",
              "  <tbody>\n",
              "    <tr>\n",
              "      <th>0</th>\n",
              "      <td>2016-12-31</td>\n",
              "      <td>1</td>\n",
              "      <td>0</td>\n",
              "      <td>0</td>\n",
              "      <td>0</td>\n",
              "      <td>0</td>\n",
              "      <td>0</td>\n",
              "      <td>0</td>\n",
              "    </tr>\n",
              "    <tr>\n",
              "      <th>1</th>\n",
              "      <td>2016-12-31</td>\n",
              "      <td>2</td>\n",
              "      <td>0</td>\n",
              "      <td>0</td>\n",
              "      <td>0</td>\n",
              "      <td>0</td>\n",
              "      <td>0</td>\n",
              "      <td>0</td>\n",
              "    </tr>\n",
              "    <tr>\n",
              "      <th>2</th>\n",
              "      <td>2016-12-31</td>\n",
              "      <td>3</td>\n",
              "      <td>0</td>\n",
              "      <td>0</td>\n",
              "      <td>0</td>\n",
              "      <td>0</td>\n",
              "      <td>0</td>\n",
              "      <td>0</td>\n",
              "    </tr>\n",
              "    <tr>\n",
              "      <th>3</th>\n",
              "      <td>2016-12-31</td>\n",
              "      <td>4</td>\n",
              "      <td>0</td>\n",
              "      <td>0</td>\n",
              "      <td>0</td>\n",
              "      <td>0</td>\n",
              "      <td>0</td>\n",
              "      <td>0</td>\n",
              "    </tr>\n",
              "    <tr>\n",
              "      <th>4</th>\n",
              "      <td>2016-12-31</td>\n",
              "      <td>5</td>\n",
              "      <td>0</td>\n",
              "      <td>1</td>\n",
              "      <td>0</td>\n",
              "      <td>0</td>\n",
              "      <td>0</td>\n",
              "      <td>0</td>\n",
              "    </tr>\n",
              "    <tr>\n",
              "      <th>5</th>\n",
              "      <td>2016-12-31</td>\n",
              "      <td>6</td>\n",
              "      <td>0</td>\n",
              "      <td>0</td>\n",
              "      <td>0</td>\n",
              "      <td>0</td>\n",
              "      <td>0</td>\n",
              "      <td>0</td>\n",
              "    </tr>\n",
              "  </tbody>\n",
              "</table>\n",
              "</div>"
            ],
            "text/plain": [
              "        date  id  impr.direct  impr.display  impr.email  impr.email.holdout  \\\n",
              "0 2016-12-31   1            0             0           0                   0   \n",
              "1 2016-12-31   2            0             0           0                   0   \n",
              "2 2016-12-31   3            0             0           0                   0   \n",
              "3 2016-12-31   4            0             0           0                   0   \n",
              "4 2016-12-31   5            0             1           0                   0   \n",
              "5 2016-12-31   6            0             0           0                   0   \n",
              "\n",
              "   impr.social  trans  \n",
              "0            0      0  \n",
              "1            0      0  \n",
              "2            0      0  \n",
              "3            0      0  \n",
              "4            0      0  \n",
              "5            0      0  "
            ]
          },
          "metadata": {
            "tags": []
          },
          "execution_count": 116
        }
      ]
    },
    {
      "metadata": {
        "colab_type": "code",
        "id": "P9yOFWACh72B",
        "outputId": "c222bf6d-7baf-4610-d539-01589b97d265",
        "colab": {
          "base_uri": "https://localhost:8080/",
          "height": 233
        }
      },
      "cell_type": "code",
      "source": [
        "# Data transformation step 5: Final tidy up of attribution modeling data.\n",
        "adata_trans[\"date\"] = adata_trans[\"date\"].astype(str)\n",
        "adata_trans = adata_trans.loc[(adata_trans[\"date\"]!=\"2016-12-31\") & (adata_trans[\"date\"]!=\"2017-02-27\")]\n",
        "adata = adata_trans.merge(cust, how=\"left\", on=[\"id\"])\n",
        "adata.rename(columns={\"impr.direct\":\"direct\",\n",
        "                      \"impr.display\":\"display\",\n",
        "                      \"impr.email\":\"email\",\n",
        "                      \"impr.email.holdout\":\"email.holdout\",\n",
        "                      \"impr.social\":\"social\",\n",
        "                      \"trans\":\"trans\",\n",
        "                      \"past.purchase\":\"past.purchase\",\n",
        "                      \"email\":\"has.email\",\n",
        "                      \"direct\":\"has.direct\"},\n",
        "             inplace=True)\n",
        "adata.head(6)"
      ],
      "execution_count": 0,
      "outputs": [
        {
          "output_type": "execute_result",
          "data": {
            "text/html": [
              "<div>\n",
              "<style scoped>\n",
              "    .dataframe tbody tr th:only-of-type {\n",
              "        vertical-align: middle;\n",
              "    }\n",
              "\n",
              "    .dataframe tbody tr th {\n",
              "        vertical-align: top;\n",
              "    }\n",
              "\n",
              "    .dataframe thead th {\n",
              "        text-align: right;\n",
              "    }\n",
              "</style>\n",
              "<table border=\"1\" class=\"dataframe\">\n",
              "  <thead>\n",
              "    <tr style=\"text-align: right;\">\n",
              "      <th></th>\n",
              "      <th>date</th>\n",
              "      <th>id</th>\n",
              "      <th>direct</th>\n",
              "      <th>display</th>\n",
              "      <th>email</th>\n",
              "      <th>email.holdout</th>\n",
              "      <th>social</th>\n",
              "      <th>trans</th>\n",
              "      <th>past.purchase</th>\n",
              "      <th>has.email</th>\n",
              "      <th>has.direct</th>\n",
              "    </tr>\n",
              "  </thead>\n",
              "  <tbody>\n",
              "    <tr>\n",
              "      <th>0</th>\n",
              "      <td>2017-01-01</td>\n",
              "      <td>1</td>\n",
              "      <td>0</td>\n",
              "      <td>0</td>\n",
              "      <td>0</td>\n",
              "      <td>0</td>\n",
              "      <td>1</td>\n",
              "      <td>0</td>\n",
              "      <td>0</td>\n",
              "      <td>0</td>\n",
              "      <td>1</td>\n",
              "    </tr>\n",
              "    <tr>\n",
              "      <th>1</th>\n",
              "      <td>2017-01-01</td>\n",
              "      <td>2</td>\n",
              "      <td>0</td>\n",
              "      <td>0</td>\n",
              "      <td>0</td>\n",
              "      <td>0</td>\n",
              "      <td>0</td>\n",
              "      <td>0</td>\n",
              "      <td>1</td>\n",
              "      <td>1</td>\n",
              "      <td>1</td>\n",
              "    </tr>\n",
              "    <tr>\n",
              "      <th>2</th>\n",
              "      <td>2017-01-01</td>\n",
              "      <td>3</td>\n",
              "      <td>0</td>\n",
              "      <td>0</td>\n",
              "      <td>0</td>\n",
              "      <td>0</td>\n",
              "      <td>0</td>\n",
              "      <td>0</td>\n",
              "      <td>1</td>\n",
              "      <td>1</td>\n",
              "      <td>0</td>\n",
              "    </tr>\n",
              "    <tr>\n",
              "      <th>3</th>\n",
              "      <td>2017-01-01</td>\n",
              "      <td>4</td>\n",
              "      <td>0</td>\n",
              "      <td>0</td>\n",
              "      <td>0</td>\n",
              "      <td>0</td>\n",
              "      <td>0</td>\n",
              "      <td>0</td>\n",
              "      <td>0</td>\n",
              "      <td>0</td>\n",
              "      <td>0</td>\n",
              "    </tr>\n",
              "    <tr>\n",
              "      <th>4</th>\n",
              "      <td>2017-01-01</td>\n",
              "      <td>5</td>\n",
              "      <td>0</td>\n",
              "      <td>4</td>\n",
              "      <td>0</td>\n",
              "      <td>0</td>\n",
              "      <td>0</td>\n",
              "      <td>0</td>\n",
              "      <td>1</td>\n",
              "      <td>1</td>\n",
              "      <td>1</td>\n",
              "    </tr>\n",
              "    <tr>\n",
              "      <th>5</th>\n",
              "      <td>2017-01-01</td>\n",
              "      <td>6</td>\n",
              "      <td>0</td>\n",
              "      <td>0</td>\n",
              "      <td>0</td>\n",
              "      <td>0</td>\n",
              "      <td>0</td>\n",
              "      <td>0</td>\n",
              "      <td>0</td>\n",
              "      <td>0</td>\n",
              "      <td>0</td>\n",
              "    </tr>\n",
              "  </tbody>\n",
              "</table>\n",
              "</div>"
            ],
            "text/plain": [
              "         date  id  direct  display  email  email.holdout  social  trans  \\\n",
              "0  2017-01-01   1       0        0      0              0       1      0   \n",
              "1  2017-01-01   2       0        0      0              0       0      0   \n",
              "2  2017-01-01   3       0        0      0              0       0      0   \n",
              "3  2017-01-01   4       0        0      0              0       0      0   \n",
              "4  2017-01-01   5       0        4      0              0       0      0   \n",
              "5  2017-01-01   6       0        0      0              0       0      0   \n",
              "\n",
              "   past.purchase  has.email  has.direct  \n",
              "0              0          0           1  \n",
              "1              1          1           1  \n",
              "2              1          1           0  \n",
              "3              0          0           0  \n",
              "4              1          1           1  \n",
              "5              0          0           0  "
            ]
          },
          "metadata": {
            "tags": []
          },
          "execution_count": 117
        }
      ]
    },
    {
      "metadata": {
        "colab_type": "code",
        "id": "GtDrdw43i-jG",
        "outputId": "b553506c-b61b-468e-8736-8258a773cd97",
        "colab": {
          "base_uri": "https://localhost:8080/",
          "height": 314
        }
      },
      "cell_type": "code",
      "source": [
        "# Summary of attribution modeling data.\n",
        "adata.describe()"
      ],
      "execution_count": 0,
      "outputs": [
        {
          "output_type": "execute_result",
          "data": {
            "text/html": [
              "<div>\n",
              "<style scoped>\n",
              "    .dataframe tbody tr th:only-of-type {\n",
              "        vertical-align: middle;\n",
              "    }\n",
              "\n",
              "    .dataframe tbody tr th {\n",
              "        vertical-align: top;\n",
              "    }\n",
              "\n",
              "    .dataframe thead th {\n",
              "        text-align: right;\n",
              "    }\n",
              "</style>\n",
              "<table border=\"1\" class=\"dataframe\">\n",
              "  <thead>\n",
              "    <tr style=\"text-align: right;\">\n",
              "      <th></th>\n",
              "      <th>id</th>\n",
              "      <th>direct</th>\n",
              "      <th>display</th>\n",
              "      <th>email</th>\n",
              "      <th>email.holdout</th>\n",
              "      <th>social</th>\n",
              "      <th>trans</th>\n",
              "      <th>past.purchase</th>\n",
              "      <th>has.email</th>\n",
              "      <th>has.direct</th>\n",
              "    </tr>\n",
              "  </thead>\n",
              "  <tbody>\n",
              "    <tr>\n",
              "      <th>count</th>\n",
              "      <td>570000.000000</td>\n",
              "      <td>570000.000000</td>\n",
              "      <td>570000.000000</td>\n",
              "      <td>570000.000000</td>\n",
              "      <td>570000.000000</td>\n",
              "      <td>570000.000000</td>\n",
              "      <td>570000.000000</td>\n",
              "      <td>570000.000000</td>\n",
              "      <td>570000.000000</td>\n",
              "      <td>570000.000000</td>\n",
              "    </tr>\n",
              "    <tr>\n",
              "      <th>mean</th>\n",
              "      <td>5000.500000</td>\n",
              "      <td>0.017453</td>\n",
              "      <td>0.373109</td>\n",
              "      <td>0.067414</td>\n",
              "      <td>0.016811</td>\n",
              "      <td>0.395437</td>\n",
              "      <td>0.038584</td>\n",
              "      <td>0.502200</td>\n",
              "      <td>0.600100</td>\n",
              "      <td>0.497400</td>\n",
              "    </tr>\n",
              "    <tr>\n",
              "      <th>std</th>\n",
              "      <td>2886.753864</td>\n",
              "      <td>0.130951</td>\n",
              "      <td>0.921384</td>\n",
              "      <td>0.250738</td>\n",
              "      <td>0.128561</td>\n",
              "      <td>0.999934</td>\n",
              "      <td>0.192602</td>\n",
              "      <td>0.499996</td>\n",
              "      <td>0.489878</td>\n",
              "      <td>0.499994</td>\n",
              "    </tr>\n",
              "    <tr>\n",
              "      <th>min</th>\n",
              "      <td>1.000000</td>\n",
              "      <td>0.000000</td>\n",
              "      <td>0.000000</td>\n",
              "      <td>0.000000</td>\n",
              "      <td>0.000000</td>\n",
              "      <td>0.000000</td>\n",
              "      <td>0.000000</td>\n",
              "      <td>0.000000</td>\n",
              "      <td>0.000000</td>\n",
              "      <td>0.000000</td>\n",
              "    </tr>\n",
              "    <tr>\n",
              "      <th>25%</th>\n",
              "      <td>2500.750000</td>\n",
              "      <td>0.000000</td>\n",
              "      <td>0.000000</td>\n",
              "      <td>0.000000</td>\n",
              "      <td>0.000000</td>\n",
              "      <td>0.000000</td>\n",
              "      <td>0.000000</td>\n",
              "      <td>0.000000</td>\n",
              "      <td>0.000000</td>\n",
              "      <td>0.000000</td>\n",
              "    </tr>\n",
              "    <tr>\n",
              "      <th>50%</th>\n",
              "      <td>5000.500000</td>\n",
              "      <td>0.000000</td>\n",
              "      <td>0.000000</td>\n",
              "      <td>0.000000</td>\n",
              "      <td>0.000000</td>\n",
              "      <td>0.000000</td>\n",
              "      <td>0.000000</td>\n",
              "      <td>1.000000</td>\n",
              "      <td>1.000000</td>\n",
              "      <td>0.000000</td>\n",
              "    </tr>\n",
              "    <tr>\n",
              "      <th>75%</th>\n",
              "      <td>7500.250000</td>\n",
              "      <td>0.000000</td>\n",
              "      <td>0.000000</td>\n",
              "      <td>0.000000</td>\n",
              "      <td>0.000000</td>\n",
              "      <td>0.000000</td>\n",
              "      <td>0.000000</td>\n",
              "      <td>1.000000</td>\n",
              "      <td>1.000000</td>\n",
              "      <td>1.000000</td>\n",
              "    </tr>\n",
              "    <tr>\n",
              "      <th>max</th>\n",
              "      <td>10000.000000</td>\n",
              "      <td>1.000000</td>\n",
              "      <td>13.000000</td>\n",
              "      <td>1.000000</td>\n",
              "      <td>1.000000</td>\n",
              "      <td>16.000000</td>\n",
              "      <td>1.000000</td>\n",
              "      <td>1.000000</td>\n",
              "      <td>1.000000</td>\n",
              "      <td>1.000000</td>\n",
              "    </tr>\n",
              "  </tbody>\n",
              "</table>\n",
              "</div>"
            ],
            "text/plain": [
              "                  id         direct        display          email  \\\n",
              "count  570000.000000  570000.000000  570000.000000  570000.000000   \n",
              "mean     5000.500000       0.017453       0.373109       0.067414   \n",
              "std      2886.753864       0.130951       0.921384       0.250738   \n",
              "min         1.000000       0.000000       0.000000       0.000000   \n",
              "25%      2500.750000       0.000000       0.000000       0.000000   \n",
              "50%      5000.500000       0.000000       0.000000       0.000000   \n",
              "75%      7500.250000       0.000000       0.000000       0.000000   \n",
              "max     10000.000000       1.000000      13.000000       1.000000   \n",
              "\n",
              "       email.holdout         social          trans  past.purchase  \\\n",
              "count  570000.000000  570000.000000  570000.000000  570000.000000   \n",
              "mean        0.016811       0.395437       0.038584       0.502200   \n",
              "std         0.128561       0.999934       0.192602       0.499996   \n",
              "min         0.000000       0.000000       0.000000       0.000000   \n",
              "25%         0.000000       0.000000       0.000000       0.000000   \n",
              "50%         0.000000       0.000000       0.000000       1.000000   \n",
              "75%         0.000000       0.000000       0.000000       1.000000   \n",
              "max         1.000000      16.000000       1.000000       1.000000   \n",
              "\n",
              "           has.email     has.direct  \n",
              "count  570000.000000  570000.000000  \n",
              "mean        0.600100       0.497400  \n",
              "std         0.489878       0.499994  \n",
              "min         0.000000       0.000000  \n",
              "25%         0.000000       0.000000  \n",
              "50%         1.000000       0.000000  \n",
              "75%         1.000000       1.000000  \n",
              "max         1.000000       1.000000  "
            ]
          },
          "metadata": {
            "tags": []
          },
          "execution_count": 118
        }
      ]
    },
    {
      "metadata": {
        "colab_type": "code",
        "id": "jFOhiyGMjIt3",
        "outputId": "41ac918d-5c98-4bb2-8f92-724764fbf2ad",
        "colab": {
          "base_uri": "https://localhost:8080/",
          "height": 294
        }
      },
      "cell_type": "code",
      "source": [
        "# Summary of attribution modeling data on a specific day.\n",
        "adata[adata[\"date\"]==\"2017-01-03\"].describe()"
      ],
      "execution_count": 0,
      "outputs": [
        {
          "output_type": "execute_result",
          "data": {
            "text/html": [
              "<div>\n",
              "<style scoped>\n",
              "    .dataframe tbody tr th:only-of-type {\n",
              "        vertical-align: middle;\n",
              "    }\n",
              "\n",
              "    .dataframe tbody tr th {\n",
              "        vertical-align: top;\n",
              "    }\n",
              "\n",
              "    .dataframe thead th {\n",
              "        text-align: right;\n",
              "    }\n",
              "</style>\n",
              "<table border=\"1\" class=\"dataframe\">\n",
              "  <thead>\n",
              "    <tr style=\"text-align: right;\">\n",
              "      <th></th>\n",
              "      <th>id</th>\n",
              "      <th>direct</th>\n",
              "      <th>display</th>\n",
              "      <th>email</th>\n",
              "      <th>email.holdout</th>\n",
              "      <th>social</th>\n",
              "      <th>trans</th>\n",
              "      <th>past.purchase</th>\n",
              "      <th>has.email</th>\n",
              "      <th>has.direct</th>\n",
              "    </tr>\n",
              "  </thead>\n",
              "  <tbody>\n",
              "    <tr>\n",
              "      <th>count</th>\n",
              "      <td>10000.00000</td>\n",
              "      <td>10000.0</td>\n",
              "      <td>10000.000000</td>\n",
              "      <td>10000.000000</td>\n",
              "      <td>10000.000000</td>\n",
              "      <td>10000.000000</td>\n",
              "      <td>10000.000000</td>\n",
              "      <td>10000.00000</td>\n",
              "      <td>10000.000000</td>\n",
              "      <td>10000.000000</td>\n",
              "    </tr>\n",
              "    <tr>\n",
              "      <th>mean</th>\n",
              "      <td>5000.50000</td>\n",
              "      <td>0.0</td>\n",
              "      <td>0.365600</td>\n",
              "      <td>0.479800</td>\n",
              "      <td>0.120300</td>\n",
              "      <td>0.750500</td>\n",
              "      <td>0.058900</td>\n",
              "      <td>0.50220</td>\n",
              "      <td>0.600100</td>\n",
              "      <td>0.497400</td>\n",
              "    </tr>\n",
              "    <tr>\n",
              "      <th>std</th>\n",
              "      <td>2886.89568</td>\n",
              "      <td>0.0</td>\n",
              "      <td>0.900898</td>\n",
              "      <td>0.499617</td>\n",
              "      <td>0.325328</td>\n",
              "      <td>1.284451</td>\n",
              "      <td>0.235449</td>\n",
              "      <td>0.50002</td>\n",
              "      <td>0.489902</td>\n",
              "      <td>0.500018</td>\n",
              "    </tr>\n",
              "    <tr>\n",
              "      <th>min</th>\n",
              "      <td>1.00000</td>\n",
              "      <td>0.0</td>\n",
              "      <td>0.000000</td>\n",
              "      <td>0.000000</td>\n",
              "      <td>0.000000</td>\n",
              "      <td>0.000000</td>\n",
              "      <td>0.000000</td>\n",
              "      <td>0.00000</td>\n",
              "      <td>0.000000</td>\n",
              "      <td>0.000000</td>\n",
              "    </tr>\n",
              "    <tr>\n",
              "      <th>25%</th>\n",
              "      <td>2500.75000</td>\n",
              "      <td>0.0</td>\n",
              "      <td>0.000000</td>\n",
              "      <td>0.000000</td>\n",
              "      <td>0.000000</td>\n",
              "      <td>0.000000</td>\n",
              "      <td>0.000000</td>\n",
              "      <td>0.00000</td>\n",
              "      <td>0.000000</td>\n",
              "      <td>0.000000</td>\n",
              "    </tr>\n",
              "    <tr>\n",
              "      <th>50%</th>\n",
              "      <td>5000.50000</td>\n",
              "      <td>0.0</td>\n",
              "      <td>0.000000</td>\n",
              "      <td>0.000000</td>\n",
              "      <td>0.000000</td>\n",
              "      <td>0.000000</td>\n",
              "      <td>0.000000</td>\n",
              "      <td>1.00000</td>\n",
              "      <td>1.000000</td>\n",
              "      <td>0.000000</td>\n",
              "    </tr>\n",
              "    <tr>\n",
              "      <th>75%</th>\n",
              "      <td>7500.25000</td>\n",
              "      <td>0.0</td>\n",
              "      <td>0.000000</td>\n",
              "      <td>1.000000</td>\n",
              "      <td>0.000000</td>\n",
              "      <td>1.000000</td>\n",
              "      <td>0.000000</td>\n",
              "      <td>1.00000</td>\n",
              "      <td>1.000000</td>\n",
              "      <td>1.000000</td>\n",
              "    </tr>\n",
              "    <tr>\n",
              "      <th>max</th>\n",
              "      <td>10000.00000</td>\n",
              "      <td>0.0</td>\n",
              "      <td>9.000000</td>\n",
              "      <td>1.000000</td>\n",
              "      <td>1.000000</td>\n",
              "      <td>12.000000</td>\n",
              "      <td>1.000000</td>\n",
              "      <td>1.00000</td>\n",
              "      <td>1.000000</td>\n",
              "      <td>1.000000</td>\n",
              "    </tr>\n",
              "  </tbody>\n",
              "</table>\n",
              "</div>"
            ],
            "text/plain": [
              "                id   direct       display         email  email.holdout  \\\n",
              "count  10000.00000  10000.0  10000.000000  10000.000000   10000.000000   \n",
              "mean    5000.50000      0.0      0.365600      0.479800       0.120300   \n",
              "std     2886.89568      0.0      0.900898      0.499617       0.325328   \n",
              "min        1.00000      0.0      0.000000      0.000000       0.000000   \n",
              "25%     2500.75000      0.0      0.000000      0.000000       0.000000   \n",
              "50%     5000.50000      0.0      0.000000      0.000000       0.000000   \n",
              "75%     7500.25000      0.0      0.000000      1.000000       0.000000   \n",
              "max    10000.00000      0.0      9.000000      1.000000       1.000000   \n",
              "\n",
              "             social         trans  past.purchase     has.email    has.direct  \n",
              "count  10000.000000  10000.000000    10000.00000  10000.000000  10000.000000  \n",
              "mean       0.750500      0.058900        0.50220      0.600100      0.497400  \n",
              "std        1.284451      0.235449        0.50002      0.489902      0.500018  \n",
              "min        0.000000      0.000000        0.00000      0.000000      0.000000  \n",
              "25%        0.000000      0.000000        0.00000      0.000000      0.000000  \n",
              "50%        0.000000      0.000000        1.00000      1.000000      0.000000  \n",
              "75%        1.000000      0.000000        1.00000      1.000000      1.000000  \n",
              "max       12.000000      1.000000        1.00000      1.000000      1.000000  "
            ]
          },
          "metadata": {
            "tags": []
          },
          "execution_count": 119
        }
      ]
    },
    {
      "metadata": {
        "colab_type": "text",
        "id": "noJZRgzYwJ3A"
      },
      "cell_type": "markdown",
      "source": [
        "## 5.2 Logistic Regression Model\n",
        "Our outcome variable is binary and so we would use a logistic regression for binary outcomes."
      ]
    },
    {
      "metadata": {
        "colab_type": "code",
        "id": "cKA537tFjtGA",
        "outputId": "383fc87b-97b2-4887-b697-18abc4e05c9e",
        "colab": {
          "base_uri": "https://localhost:8080/",
          "height": 349
        }
      },
      "cell_type": "code",
      "source": [
        "adata.rename(columns={\"past.purchase\":\"past_purchase\"},inplace=True)\n",
        "m3 = smf.glm(\"trans ~ direct + display + email + social + past_purchase\", data=adata, family=sm.families.Binomial()).fit()\n",
        "adata.rename(columns={\"past_purchase\":\"past.purchase\"},inplace=True)\n",
        "m3.summary()"
      ],
      "execution_count": 0,
      "outputs": [
        {
          "output_type": "execute_result",
          "data": {
            "text/html": [
              "<table class=\"simpletable\">\n",
              "<caption>Generalized Linear Model Regression Results</caption>\n",
              "<tr>\n",
              "  <th>Dep. Variable:</th>        <td>trans</td>      <th>  No. Observations:  </th>   <td>570000</td>  \n",
              "</tr>\n",
              "<tr>\n",
              "  <th>Model:</th>                 <td>GLM</td>       <th>  Df Residuals:      </th>   <td>569994</td>  \n",
              "</tr>\n",
              "<tr>\n",
              "  <th>Model Family:</th>       <td>Binomial</td>     <th>  Df Model:          </th>   <td>     5</td>  \n",
              "</tr>\n",
              "<tr>\n",
              "  <th>Link Function:</th>        <td>logit</td>      <th>  Scale:             </th>     <td>1.0</td>   \n",
              "</tr>\n",
              "<tr>\n",
              "  <th>Method:</th>               <td>IRLS</td>       <th>  Log-Likelihood:    </th>  <td> -89434.</td> \n",
              "</tr>\n",
              "<tr>\n",
              "  <th>Date:</th>           <td>Thu, 28 Mar 2019</td> <th>  Deviance:          </th> <td>1.7887e+05</td>\n",
              "</tr>\n",
              "<tr>\n",
              "  <th>Time:</th>               <td>21:45:27</td>     <th>  Pearson chi2:      </th>  <td>5.56e+05</td> \n",
              "</tr>\n",
              "<tr>\n",
              "  <th>No. Iterations:</th>         <td>7</td>        <th>                     </th>      <td> </td>    \n",
              "</tr>\n",
              "</table>\n",
              "<table class=\"simpletable\">\n",
              "<tr>\n",
              "        <td></td>           <th>coef</th>     <th>std err</th>      <th>z</th>      <th>P>|z|</th>  <th>[0.025</th>    <th>0.975]</th>  \n",
              "</tr>\n",
              "<tr>\n",
              "  <th>Intercept</th>     <td>   -4.0229</td> <td>    0.014</td> <td> -287.063</td> <td> 0.000</td> <td>   -4.050</td> <td>   -3.995</td>\n",
              "</tr>\n",
              "<tr>\n",
              "  <th>direct</th>        <td>    0.4126</td> <td>    0.042</td> <td>    9.896</td> <td> 0.000</td> <td>    0.331</td> <td>    0.494</td>\n",
              "</tr>\n",
              "<tr>\n",
              "  <th>display</th>       <td>    0.1006</td> <td>    0.007</td> <td>   15.291</td> <td> 0.000</td> <td>    0.088</td> <td>    0.114</td>\n",
              "</tr>\n",
              "<tr>\n",
              "  <th>email</th>         <td>    0.7624</td> <td>    0.020</td> <td>   38.099</td> <td> 0.000</td> <td>    0.723</td> <td>    0.802</td>\n",
              "</tr>\n",
              "<tr>\n",
              "  <th>social</th>        <td>    0.1801</td> <td>    0.005</td> <td>   33.621</td> <td> 0.000</td> <td>    0.170</td> <td>    0.191</td>\n",
              "</tr>\n",
              "<tr>\n",
              "  <th>past_purchase</th> <td>    0.9572</td> <td>    0.016</td> <td>   61.076</td> <td> 0.000</td> <td>    0.926</td> <td>    0.988</td>\n",
              "</tr>\n",
              "</table>"
            ],
            "text/plain": [
              "<class 'statsmodels.iolib.summary.Summary'>\n",
              "\"\"\"\n",
              "                 Generalized Linear Model Regression Results                  \n",
              "==============================================================================\n",
              "Dep. Variable:                  trans   No. Observations:               570000\n",
              "Model:                            GLM   Df Residuals:                   569994\n",
              "Model Family:                Binomial   Df Model:                            5\n",
              "Link Function:                  logit   Scale:                             1.0\n",
              "Method:                          IRLS   Log-Likelihood:                -89434.\n",
              "Date:                Thu, 28 Mar 2019   Deviance:                   1.7887e+05\n",
              "Time:                        21:45:27   Pearson chi2:                 5.56e+05\n",
              "No. Iterations:                     7                                         \n",
              "=================================================================================\n",
              "                    coef    std err          z      P>|z|      [0.025      0.975]\n",
              "---------------------------------------------------------------------------------\n",
              "Intercept        -4.0229      0.014   -287.063      0.000      -4.050      -3.995\n",
              "direct            0.4126      0.042      9.896      0.000       0.331       0.494\n",
              "display           0.1006      0.007     15.291      0.000       0.088       0.114\n",
              "email             0.7624      0.020     38.099      0.000       0.723       0.802\n",
              "social            0.1801      0.005     33.621      0.000       0.170       0.191\n",
              "past_purchase     0.9572      0.016     61.076      0.000       0.926       0.988\n",
              "=================================================================================\n",
              "\"\"\""
            ]
          },
          "metadata": {
            "tags": []
          },
          "execution_count": 120
        }
      ]
    },
    {
      "metadata": {
        "colab_type": "code",
        "id": "c93ipGC9oUtq",
        "colab": {}
      },
      "cell_type": "code",
      "source": [
        "We see that direct and email have a bigger effect than a single display or social impression."
      ],
      "execution_count": 0,
      "outputs": []
    },
    {
      "metadata": {
        "colab_type": "code",
        "id": "ff5GA1Q-wJ3O",
        "colab": {}
      },
      "cell_type": "code",
      "source": [
        ""
      ],
      "execution_count": 0,
      "outputs": []
    },
    {
      "metadata": {
        "colab_type": "code",
        "id": "ZroVaecgwJ3T",
        "colab": {}
      },
      "cell_type": "code",
      "source": [
        ""
      ],
      "execution_count": 0,
      "outputs": []
    }
  ]
}