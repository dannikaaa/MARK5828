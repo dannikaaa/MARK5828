{
  "nbformat": 4,
  "nbformat_minor": 0,
  "metadata": {
    "colab": {
      "name": "Week6_Quiz.ipynb",
      "version": "0.3.2",
      "provenance": [],
      "collapsed_sections": []
    },
    "kernelspec": {
      "display_name": "Python 3",
      "language": "python",
      "name": "python3"
    }
  },
  "cells": [
    {
      "metadata": {
        "id": "lLN_taDNL9AL",
        "colab_type": "text"
      },
      "cell_type": "markdown",
      "source": [
        "# MARK5828 Quiz Week-6"
      ]
    },
    {
      "metadata": {
        "id": "YlAADl_hL9AN",
        "colab_type": "text"
      },
      "cell_type": "markdown",
      "source": [
        "## Question 1a (1.5 point)\n",
        "### 1.a Re-run Marketing mix model (Section 4), for new Dataset. You need to show your results to get marks.\n",
        "\n",
        "* customer.csv\n",
        "* impression_60.csv\n",
        "* transactions_60.csv"
      ]
    },
    {
      "metadata": {
        "id": "I75IE6fPsE-z",
        "colab_type": "code",
        "colab": {}
      },
      "cell_type": "code",
      "source": [
        "import os\n",
        "import random\n",
        "import pandas as pd\n",
        "import numpy as np\n",
        "import matplotlib.pyplot as plt\n",
        "import statsmodels.api as sm\n",
        "import statsmodels.formula.api as smf\n",
        "from statsmodels.graphics.mosaicplot import mosaic\n",
        "from scipy import stats"
      ],
      "execution_count": 0,
      "outputs": []
    },
    {
      "metadata": {
        "id": "8xzrSs-0sH4P",
        "colab_type": "code",
        "colab": {}
      },
      "cell_type": "code",
      "source": [
        "from google.colab import files\n",
        "files.upload()"
      ],
      "execution_count": 0,
      "outputs": []
    },
    {
      "metadata": {
        "id": "zJro_e_msK8K",
        "colab_type": "code",
        "colab": {}
      },
      "cell_type": "code",
      "source": [
        "#reading all the data \n",
        "cust = pd.read_csv(\"customer.csv\")\n",
        "imp_60 = pd.read_csv(\"impression_60.csv\")\n",
        "trans_60 = pd.read_csv(\"transactions_60.csv\")"
      ],
      "execution_count": 0,
      "outputs": []
    },
    {
      "metadata": {
        "id": "R-H68gSOsQ3H",
        "colab_type": "code",
        "outputId": "5bb1db12-0c2a-493e-c982-196d5e4cb253",
        "colab": {
          "base_uri": "https://localhost:8080/",
          "height": 202
        }
      },
      "cell_type": "code",
      "source": [
        "cust.head()"
      ],
      "execution_count": 0,
      "outputs": [
        {
          "output_type": "execute_result",
          "data": {
            "text/html": [
              "<div>\n",
              "<style scoped>\n",
              "    .dataframe tbody tr th:only-of-type {\n",
              "        vertical-align: middle;\n",
              "    }\n",
              "\n",
              "    .dataframe tbody tr th {\n",
              "        vertical-align: top;\n",
              "    }\n",
              "\n",
              "    .dataframe thead th {\n",
              "        text-align: right;\n",
              "    }\n",
              "</style>\n",
              "<table border=\"1\" class=\"dataframe\">\n",
              "  <thead>\n",
              "    <tr style=\"text-align: right;\">\n",
              "      <th></th>\n",
              "      <th>id</th>\n",
              "      <th>past.purchase</th>\n",
              "      <th>email</th>\n",
              "      <th>direct</th>\n",
              "    </tr>\n",
              "  </thead>\n",
              "  <tbody>\n",
              "    <tr>\n",
              "      <th>0</th>\n",
              "      <td>1</td>\n",
              "      <td>0</td>\n",
              "      <td>0</td>\n",
              "      <td>1</td>\n",
              "    </tr>\n",
              "    <tr>\n",
              "      <th>1</th>\n",
              "      <td>2</td>\n",
              "      <td>1</td>\n",
              "      <td>1</td>\n",
              "      <td>1</td>\n",
              "    </tr>\n",
              "    <tr>\n",
              "      <th>2</th>\n",
              "      <td>3</td>\n",
              "      <td>1</td>\n",
              "      <td>1</td>\n",
              "      <td>0</td>\n",
              "    </tr>\n",
              "    <tr>\n",
              "      <th>3</th>\n",
              "      <td>4</td>\n",
              "      <td>0</td>\n",
              "      <td>0</td>\n",
              "      <td>0</td>\n",
              "    </tr>\n",
              "    <tr>\n",
              "      <th>4</th>\n",
              "      <td>5</td>\n",
              "      <td>1</td>\n",
              "      <td>1</td>\n",
              "      <td>1</td>\n",
              "    </tr>\n",
              "  </tbody>\n",
              "</table>\n",
              "</div>"
            ],
            "text/plain": [
              "   id  past.purchase  email  direct\n",
              "0   1              0      0       1\n",
              "1   2              1      1       1\n",
              "2   3              1      1       0\n",
              "3   4              0      0       0\n",
              "4   5              1      1       1"
            ]
          },
          "metadata": {
            "tags": []
          },
          "execution_count": 19
        }
      ]
    },
    {
      "metadata": {
        "id": "7AaNHvCRsS24",
        "colab_type": "code",
        "outputId": "3a9bb065-b934-46e2-c0d6-057ffa7ee943",
        "colab": {
          "base_uri": "https://localhost:8080/",
          "height": 202
        }
      },
      "cell_type": "code",
      "source": [
        "imp_60.head()"
      ],
      "execution_count": 0,
      "outputs": [
        {
          "output_type": "execute_result",
          "data": {
            "text/html": [
              "<div>\n",
              "<style scoped>\n",
              "    .dataframe tbody tr th:only-of-type {\n",
              "        vertical-align: middle;\n",
              "    }\n",
              "\n",
              "    .dataframe tbody tr th {\n",
              "        vertical-align: top;\n",
              "    }\n",
              "\n",
              "    .dataframe thead th {\n",
              "        text-align: right;\n",
              "    }\n",
              "</style>\n",
              "<table border=\"1\" class=\"dataframe\">\n",
              "  <thead>\n",
              "    <tr style=\"text-align: right;\">\n",
              "      <th></th>\n",
              "      <th>id</th>\n",
              "      <th>date</th>\n",
              "      <th>channel</th>\n",
              "      <th>click</th>\n",
              "    </tr>\n",
              "  </thead>\n",
              "  <tbody>\n",
              "    <tr>\n",
              "      <th>0</th>\n",
              "      <td>3836</td>\n",
              "      <td>2017-02-06</td>\n",
              "      <td>display</td>\n",
              "      <td>0</td>\n",
              "    </tr>\n",
              "    <tr>\n",
              "      <th>1</th>\n",
              "      <td>8331</td>\n",
              "      <td>2017-01-22</td>\n",
              "      <td>social</td>\n",
              "      <td>0</td>\n",
              "    </tr>\n",
              "    <tr>\n",
              "      <th>2</th>\n",
              "      <td>6009</td>\n",
              "      <td>2017-01-01</td>\n",
              "      <td>social</td>\n",
              "      <td>0</td>\n",
              "    </tr>\n",
              "    <tr>\n",
              "      <th>3</th>\n",
              "      <td>6261</td>\n",
              "      <td>2017-01-14</td>\n",
              "      <td>social</td>\n",
              "      <td>1</td>\n",
              "    </tr>\n",
              "    <tr>\n",
              "      <th>4</th>\n",
              "      <td>7848</td>\n",
              "      <td>2017-01-11</td>\n",
              "      <td>social</td>\n",
              "      <td>0</td>\n",
              "    </tr>\n",
              "  </tbody>\n",
              "</table>\n",
              "</div>"
            ],
            "text/plain": [
              "     id        date  channel  click\n",
              "0  3836  2017-02-06  display      0\n",
              "1  8331  2017-01-22   social      0\n",
              "2  6009  2017-01-01   social      0\n",
              "3  6261  2017-01-14   social      1\n",
              "4  7848  2017-01-11   social      0"
            ]
          },
          "metadata": {
            "tags": []
          },
          "execution_count": 20
        }
      ]
    },
    {
      "metadata": {
        "id": "q37erdyQsVAD",
        "colab_type": "code",
        "outputId": "107be3c3-df95-4299-8107-ec6966686cb0",
        "colab": {
          "base_uri": "https://localhost:8080/",
          "height": 202
        }
      },
      "cell_type": "code",
      "source": [
        "trans_60.head()"
      ],
      "execution_count": 0,
      "outputs": [
        {
          "output_type": "execute_result",
          "data": {
            "text/html": [
              "<div>\n",
              "<style scoped>\n",
              "    .dataframe tbody tr th:only-of-type {\n",
              "        vertical-align: middle;\n",
              "    }\n",
              "\n",
              "    .dataframe tbody tr th {\n",
              "        vertical-align: top;\n",
              "    }\n",
              "\n",
              "    .dataframe thead th {\n",
              "        text-align: right;\n",
              "    }\n",
              "</style>\n",
              "<table border=\"1\" class=\"dataframe\">\n",
              "  <thead>\n",
              "    <tr style=\"text-align: right;\">\n",
              "      <th></th>\n",
              "      <th>id</th>\n",
              "      <th>date</th>\n",
              "      <th>last.touch</th>\n",
              "      <th>last.click</th>\n",
              "    </tr>\n",
              "  </thead>\n",
              "  <tbody>\n",
              "    <tr>\n",
              "      <th>0</th>\n",
              "      <td>5334</td>\n",
              "      <td>2017-01-03</td>\n",
              "      <td>social</td>\n",
              "      <td>none</td>\n",
              "    </tr>\n",
              "    <tr>\n",
              "      <th>1</th>\n",
              "      <td>5882</td>\n",
              "      <td>2017-02-07</td>\n",
              "      <td>email</td>\n",
              "      <td>none</td>\n",
              "    </tr>\n",
              "    <tr>\n",
              "      <th>2</th>\n",
              "      <td>8473</td>\n",
              "      <td>2017-01-15</td>\n",
              "      <td>social</td>\n",
              "      <td>none</td>\n",
              "    </tr>\n",
              "    <tr>\n",
              "      <th>3</th>\n",
              "      <td>4186</td>\n",
              "      <td>2017-01-16</td>\n",
              "      <td>social</td>\n",
              "      <td>social</td>\n",
              "    </tr>\n",
              "    <tr>\n",
              "      <th>4</th>\n",
              "      <td>43</td>\n",
              "      <td>2017-01-23</td>\n",
              "      <td>social</td>\n",
              "      <td>social</td>\n",
              "    </tr>\n",
              "  </tbody>\n",
              "</table>\n",
              "</div>"
            ],
            "text/plain": [
              "     id        date last.touch last.click\n",
              "0  5334  2017-01-03     social       none\n",
              "1  5882  2017-02-07      email       none\n",
              "2  8473  2017-01-15     social       none\n",
              "3  4186  2017-01-16     social     social\n",
              "4    43  2017-01-23     social     social"
            ]
          },
          "metadata": {
            "tags": []
          },
          "execution_count": 21
        }
      ]
    },
    {
      "metadata": {
        "id": "QxXE8x_IsZvM",
        "colab_type": "code",
        "outputId": "ec4e6303-7d82-4bc6-dc2e-c8665db7f605",
        "colab": {
          "base_uri": "https://localhost:8080/",
          "height": 139
        }
      },
      "cell_type": "code",
      "source": [
        "transbyday = trans_60.groupby(['date']).size()\n",
        "transbyday.head()"
      ],
      "execution_count": 0,
      "outputs": [
        {
          "output_type": "execute_result",
          "data": {
            "text/plain": [
              "date\n",
              "2017-01-01    198\n",
              "2017-01-02    214\n",
              "2017-01-03    350\n",
              "2017-01-04    279\n",
              "2017-01-05    247\n",
              "dtype: int64"
            ]
          },
          "metadata": {
            "tags": []
          },
          "execution_count": 22
        }
      ]
    },
    {
      "metadata": {
        "id": "easlJeFssgMN",
        "colab_type": "code",
        "outputId": "c68ba8c3-0581-437a-de6a-0f31565cf515",
        "colab": {
          "base_uri": "https://localhost:8080/",
          "height": 233
        }
      },
      "cell_type": "code",
      "source": [
        "candence = pd.crosstab(index=imp_60['date'], columns=imp_60['channel'])\n",
        "candence.head()"
      ],
      "execution_count": 0,
      "outputs": [
        {
          "output_type": "execute_result",
          "data": {
            "text/html": [
              "<div>\n",
              "<style scoped>\n",
              "    .dataframe tbody tr th:only-of-type {\n",
              "        vertical-align: middle;\n",
              "    }\n",
              "\n",
              "    .dataframe tbody tr th {\n",
              "        vertical-align: top;\n",
              "    }\n",
              "\n",
              "    .dataframe thead th {\n",
              "        text-align: right;\n",
              "    }\n",
              "</style>\n",
              "<table border=\"1\" class=\"dataframe\">\n",
              "  <thead>\n",
              "    <tr style=\"text-align: right;\">\n",
              "      <th>channel</th>\n",
              "      <th>direct</th>\n",
              "      <th>display</th>\n",
              "      <th>email</th>\n",
              "      <th>email.holdout</th>\n",
              "      <th>social</th>\n",
              "    </tr>\n",
              "    <tr>\n",
              "      <th>date</th>\n",
              "      <th></th>\n",
              "      <th></th>\n",
              "      <th></th>\n",
              "      <th></th>\n",
              "      <th></th>\n",
              "    </tr>\n",
              "  </thead>\n",
              "  <tbody>\n",
              "    <tr>\n",
              "      <th>2016-12-31</th>\n",
              "      <td>0</td>\n",
              "      <td>464</td>\n",
              "      <td>0</td>\n",
              "      <td>0</td>\n",
              "      <td>971</td>\n",
              "    </tr>\n",
              "    <tr>\n",
              "      <th>2017-01-01</th>\n",
              "      <td>0</td>\n",
              "      <td>2294</td>\n",
              "      <td>0</td>\n",
              "      <td>0</td>\n",
              "      <td>4480</td>\n",
              "    </tr>\n",
              "    <tr>\n",
              "      <th>2017-01-02</th>\n",
              "      <td>0</td>\n",
              "      <td>2266</td>\n",
              "      <td>0</td>\n",
              "      <td>0</td>\n",
              "      <td>4397</td>\n",
              "    </tr>\n",
              "    <tr>\n",
              "      <th>2017-01-03</th>\n",
              "      <td>0</td>\n",
              "      <td>2220</td>\n",
              "      <td>2879</td>\n",
              "      <td>753</td>\n",
              "      <td>4445</td>\n",
              "    </tr>\n",
              "    <tr>\n",
              "      <th>2017-01-04</th>\n",
              "      <td>0</td>\n",
              "      <td>2222</td>\n",
              "      <td>0</td>\n",
              "      <td>0</td>\n",
              "      <td>4643</td>\n",
              "    </tr>\n",
              "  </tbody>\n",
              "</table>\n",
              "</div>"
            ],
            "text/plain": [
              "channel     direct  display  email  email.holdout  social\n",
              "date                                                     \n",
              "2016-12-31       0      464      0              0     971\n",
              "2017-01-01       0     2294      0              0    4480\n",
              "2017-01-02       0     2266      0              0    4397\n",
              "2017-01-03       0     2220   2879            753    4445\n",
              "2017-01-04       0     2222      0              0    4643"
            ]
          },
          "metadata": {
            "tags": []
          },
          "execution_count": 23
        }
      ]
    },
    {
      "metadata": {
        "id": "l0nS7_dvy8QC",
        "colab_type": "code",
        "outputId": "ea81d04e-f717-4f33-b4f1-96567090953c",
        "colab": {
          "base_uri": "https://localhost:8080/",
          "height": 335
        }
      },
      "cell_type": "code",
      "source": [
        "# Transactions over time.\n",
        "plt.figure(figsize=(18,5))\n",
        "plt.bar(transbyday.index, transbyday)\n",
        "plt.xlabel('Date')\n",
        "plt.ylabel('Transactions')\n",
        "plt.show()"
      ],
      "execution_count": 0,
      "outputs": [
        {
          "output_type": "display_data",
          "data": {
            "image/png": "[encoded data removed]",
            "text/plain": [
              "<Figure size 1296x360 with 1 Axes>"
            ]
          },
          "metadata": {
            "tags": []
          }
        }
      ]
    },
    {
      "metadata": {
        "id": "1RTMoE40slqE",
        "colab_type": "code",
        "outputId": "bf0c7a54-0aa8-48e7-8abe-f730c65f323f",
        "colab": {
          "base_uri": "https://localhost:8080/",
          "height": 233
        }
      },
      "cell_type": "code",
      "source": [
        "mdata = pd.concat([transbyday[0:56], candence[1:57]], axis=1)\n",
        "mdata[\"trans\"] = mdata[0].values\n",
        "mdata = mdata.drop([0], axis=1)\n",
        "mdata.head()"
      ],
      "execution_count": 0,
      "outputs": [
        {
          "output_type": "execute_result",
          "data": {
            "text/html": [
              "<div>\n",
              "<style scoped>\n",
              "    .dataframe tbody tr th:only-of-type {\n",
              "        vertical-align: middle;\n",
              "    }\n",
              "\n",
              "    .dataframe tbody tr th {\n",
              "        vertical-align: top;\n",
              "    }\n",
              "\n",
              "    .dataframe thead th {\n",
              "        text-align: right;\n",
              "    }\n",
              "</style>\n",
              "<table border=\"1\" class=\"dataframe\">\n",
              "  <thead>\n",
              "    <tr style=\"text-align: right;\">\n",
              "      <th></th>\n",
              "      <th>direct</th>\n",
              "      <th>display</th>\n",
              "      <th>email</th>\n",
              "      <th>email.holdout</th>\n",
              "      <th>social</th>\n",
              "      <th>trans</th>\n",
              "    </tr>\n",
              "    <tr>\n",
              "      <th>date</th>\n",
              "      <th></th>\n",
              "      <th></th>\n",
              "      <th></th>\n",
              "      <th></th>\n",
              "      <th></th>\n",
              "      <th></th>\n",
              "    </tr>\n",
              "  </thead>\n",
              "  <tbody>\n",
              "    <tr>\n",
              "      <th>2017-01-01</th>\n",
              "      <td>0</td>\n",
              "      <td>2294</td>\n",
              "      <td>0</td>\n",
              "      <td>0</td>\n",
              "      <td>4480</td>\n",
              "      <td>198</td>\n",
              "    </tr>\n",
              "    <tr>\n",
              "      <th>2017-01-02</th>\n",
              "      <td>0</td>\n",
              "      <td>2266</td>\n",
              "      <td>0</td>\n",
              "      <td>0</td>\n",
              "      <td>4397</td>\n",
              "      <td>214</td>\n",
              "    </tr>\n",
              "    <tr>\n",
              "      <th>2017-01-03</th>\n",
              "      <td>0</td>\n",
              "      <td>2220</td>\n",
              "      <td>2879</td>\n",
              "      <td>753</td>\n",
              "      <td>4445</td>\n",
              "      <td>350</td>\n",
              "    </tr>\n",
              "    <tr>\n",
              "      <th>2017-01-04</th>\n",
              "      <td>0</td>\n",
              "      <td>2222</td>\n",
              "      <td>0</td>\n",
              "      <td>0</td>\n",
              "      <td>4643</td>\n",
              "      <td>279</td>\n",
              "    </tr>\n",
              "    <tr>\n",
              "      <th>2017-01-05</th>\n",
              "      <td>0</td>\n",
              "      <td>2259</td>\n",
              "      <td>0</td>\n",
              "      <td>0</td>\n",
              "      <td>4567</td>\n",
              "      <td>247</td>\n",
              "    </tr>\n",
              "  </tbody>\n",
              "</table>\n",
              "</div>"
            ],
            "text/plain": [
              "            direct  display  email  email.holdout  social  trans\n",
              "date                                                            \n",
              "2017-01-01       0     2294      0              0    4480    198\n",
              "2017-01-02       0     2266      0              0    4397    214\n",
              "2017-01-03       0     2220   2879            753    4445    350\n",
              "2017-01-04       0     2222      0              0    4643    279\n",
              "2017-01-05       0     2259      0              0    4567    247"
            ]
          },
          "metadata": {
            "tags": []
          },
          "execution_count": 24
        }
      ]
    },
    {
      "metadata": {
        "id": "4kXHrseRzFBY",
        "colab_type": "code",
        "outputId": "a01813f0-39b2-4dac-a39d-9ff4afb0a13b",
        "colab": {
          "base_uri": "https://localhost:8080/",
          "height": 1455
        }
      },
      "cell_type": "code",
      "source": [
        "# Data exploration.\n",
        "# Fig.1~Display Impressions v. Transactions\n",
        "plt.scatter(mdata[\"display\"], mdata[\"trans\"])\n",
        "plt.xlabel(\"Display Impressions\")\n",
        "plt.ylabel(\"Transactions\")\n",
        "plt.title(\"Display Impressions v. Transactions\")\n",
        "plt.show()\n",
        "\n",
        "# Fig.2~Social Impressions v. Transactions\n",
        "plt.scatter(mdata[\"social\"], mdata[\"trans\"])\n",
        "plt.xlabel(\"Social Impressions\")\n",
        "plt.ylabel(\"Transactions\")\n",
        "plt.title(\"Social Impressions v. Transactions\")\n",
        "plt.show()\n",
        "\n",
        "# Fig.3~Email Impressions v. Transactions\n",
        "plt.scatter(mdata[\"email\"], mdata[\"trans\"])\n",
        "plt.xlabel(\"Email Impressions\")\n",
        "plt.ylabel(\"Transactions\")\n",
        "plt.title(\"Email Impressions v. Transactions\")\n",
        "plt.show()\n",
        "\n",
        "# Fig.4~Direct Impressions v. Transactions\n",
        "plt.scatter(mdata[\"direct\"], mdata[\"trans\"])\n",
        "plt.xlabel(\"Direct Impressions\")\n",
        "plt.ylabel(\"Transactions\")\n",
        "plt.title(\"Direct Impressions v. Transactions\")\n",
        "plt.show()"
      ],
      "execution_count": 0,
      "outputs": [
        {
          "output_type": "display_data",
          "data": {
            "image/png": "[encoded data removed]",
            "text/plain": [
              "<Figure size 576x396 with 1 Axes>"
            ]
          },
          "metadata": {
            "tags": []
          }
        },
        {
          "output_type": "display_data",
          "data": {
            "image/png": "[encoded data removed]",
            "text/plain": [
              "<Figure size 576x396 with 1 Axes>"
            ]
          },
          "metadata": {
            "tags": []
          }
        },
        {
          "output_type": "display_data",
          "data": {
            "image/png": "[encoded data removed]",
            "text/plain": [
              "<Figure size 576x396 with 1 Axes>"
            ]
          },
          "metadata": {
            "tags": []
          }
        },
        {
          "output_type": "display_data",
          "data": {
            "image/png": "[encoded data removed]",
            "text/plain": [
              "<Figure size 576x396 with 1 Axes>"
            ]
          },
          "metadata": {
            "tags": []
          }
        }
      ]
    },
    {
      "metadata": {
        "id": "TO41Nk5Isny6",
        "colab_type": "code",
        "outputId": "4b760206-4715-4584-9eae-c8778ead3b8c",
        "colab": {
          "base_uri": "https://localhost:8080/",
          "height": 454
        }
      },
      "cell_type": "code",
      "source": [
        "mdata.rename(columns={\"email.holdout\":\"email_holdout\"},inplace=True)\n",
        "m1 = smf.ols(\"trans~direct+social+email+display+social+email_holdout\",data=mdata).fit()\n",
        "mdata.rename(columns={\"email_holdout\":\"email.holdout\"},inplace=True)\n",
        "m1.summary()"
      ],
      "execution_count": 0,
      "outputs": [
        {
          "output_type": "execute_result",
          "data": {
            "text/html": [
              "<table class=\"simpletable\">\n",
              "<caption>OLS Regression Results</caption>\n",
              "<tr>\n",
              "  <th>Dep. Variable:</th>          <td>trans</td>      <th>  R-squared:         </th> <td>   0.448</td>\n",
              "</tr>\n",
              "<tr>\n",
              "  <th>Model:</th>                   <td>OLS</td>       <th>  Adj. R-squared:    </th> <td>   0.392</td>\n",
              "</tr>\n",
              "<tr>\n",
              "  <th>Method:</th>             <td>Least Squares</td>  <th>  F-statistic:       </th> <td>   8.106</td>\n",
              "</tr>\n",
              "<tr>\n",
              "  <th>Date:</th>             <td>Fri, 29 Mar 2019</td> <th>  Prob (F-statistic):</th> <td>1.17e-05</td>\n",
              "</tr>\n",
              "<tr>\n",
              "  <th>Time:</th>                 <td>09:10:00</td>     <th>  Log-Likelihood:    </th> <td> -299.55</td>\n",
              "</tr>\n",
              "<tr>\n",
              "  <th>No. Observations:</th>      <td>    56</td>      <th>  AIC:               </th> <td>   611.1</td>\n",
              "</tr>\n",
              "<tr>\n",
              "  <th>Df Residuals:</th>          <td>    50</td>      <th>  BIC:               </th> <td>   623.2</td>\n",
              "</tr>\n",
              "<tr>\n",
              "  <th>Df Model:</th>              <td>     5</td>      <th>                     </th>     <td> </td>   \n",
              "</tr>\n",
              "<tr>\n",
              "  <th>Covariance Type:</th>      <td>nonrobust</td>    <th>                     </th>     <td> </td>   \n",
              "</tr>\n",
              "</table>\n",
              "<table class=\"simpletable\">\n",
              "<tr>\n",
              "        <td></td>           <th>coef</th>     <th>std err</th>      <th>t</th>      <th>P>|t|</th>  <th>[0.025</th>    <th>0.975]</th>  \n",
              "</tr>\n",
              "<tr>\n",
              "  <th>Intercept</th>     <td>  335.2913</td> <td>  424.916</td> <td>    0.789</td> <td> 0.434</td> <td> -518.177</td> <td> 1188.760</td>\n",
              "</tr>\n",
              "<tr>\n",
              "  <th>direct</th>        <td>    0.0137</td> <td>    0.013</td> <td>    1.020</td> <td> 0.312</td> <td>   -0.013</td> <td>    0.041</td>\n",
              "</tr>\n",
              "<tr>\n",
              "  <th>social</th>        <td>    0.0118</td> <td>    0.003</td> <td>    3.547</td> <td> 0.001</td> <td>    0.005</td> <td>    0.018</td>\n",
              "</tr>\n",
              "<tr>\n",
              "  <th>email</th>         <td>   -0.0519</td> <td>    0.175</td> <td>   -0.296</td> <td> 0.768</td> <td>   -0.403</td> <td>    0.300</td>\n",
              "</tr>\n",
              "<tr>\n",
              "  <th>display</th>       <td>   -0.0657</td> <td>    0.189</td> <td>   -0.347</td> <td> 0.730</td> <td>   -0.446</td> <td>    0.314</td>\n",
              "</tr>\n",
              "<tr>\n",
              "  <th>email_holdout</th> <td>    0.3485</td> <td>    0.689</td> <td>    0.506</td> <td> 0.615</td> <td>   -1.034</td> <td>    1.731</td>\n",
              "</tr>\n",
              "</table>\n",
              "<table class=\"simpletable\">\n",
              "<tr>\n",
              "  <th>Omnibus:</th>       <td> 8.725</td> <th>  Durbin-Watson:     </th> <td>   0.678</td>\n",
              "</tr>\n",
              "<tr>\n",
              "  <th>Prob(Omnibus):</th> <td> 0.013</td> <th>  Jarque-Bera (JB):  </th> <td>   9.149</td>\n",
              "</tr>\n",
              "<tr>\n",
              "  <th>Skew:</th>          <td> 0.990</td> <th>  Prob(JB):          </th> <td>  0.0103</td>\n",
              "</tr>\n",
              "<tr>\n",
              "  <th>Kurtosis:</th>      <td> 2.948</td> <th>  Cond. No.          </th> <td>2.23e+05</td>\n",
              "</tr>\n",
              "</table>"
            ],
            "text/plain": [
              "<class 'statsmodels.iolib.summary.Summary'>\n",
              "\"\"\"\n",
              "                            OLS Regression Results                            \n",
              "==============================================================================\n",
              "Dep. Variable:                  trans   R-squared:                       0.448\n",
              "Model:                            OLS   Adj. R-squared:                  0.392\n",
              "Method:                 Least Squares   F-statistic:                     8.106\n",
              "Date:                Fri, 29 Mar 2019   Prob (F-statistic):           1.17e-05\n",
              "Time:                        09:10:00   Log-Likelihood:                -299.55\n",
              "No. Observations:                  56   AIC:                             611.1\n",
              "Df Residuals:                      50   BIC:                             623.2\n",
              "Df Model:                           5                                         \n",
              "Covariance Type:            nonrobust                                         \n",
              "=================================================================================\n",
              "                    coef    std err          t      P>|t|      [0.025      0.975]\n",
              "---------------------------------------------------------------------------------\n",
              "Intercept       335.2913    424.916      0.789      0.434    -518.177    1188.760\n",
              "direct            0.0137      0.013      1.020      0.312      -0.013       0.041\n",
              "social            0.0118      0.003      3.547      0.001       0.005       0.018\n",
              "email            -0.0519      0.175     -0.296      0.768      -0.403       0.300\n",
              "display          -0.0657      0.189     -0.347      0.730      -0.446       0.314\n",
              "email_holdout     0.3485      0.689      0.506      0.615      -1.034       1.731\n",
              "==============================================================================\n",
              "Omnibus:                        8.725   Durbin-Watson:                   0.678\n",
              "Prob(Omnibus):                  0.013   Jarque-Bera (JB):                9.149\n",
              "Skew:                           0.990   Prob(JB):                       0.0103\n",
              "Kurtosis:                       2.948   Cond. No.                     2.23e+05\n",
              "==============================================================================\n",
              "\n",
              "Warnings:\n",
              "[1] Standard Errors assume that the covariance matrix of the errors is correctly specified.\n",
              "[2] The condition number is large, 2.23e+05. This might indicate that there are\n",
              "strong multicollinearity or other numerical problems.\n",
              "\"\"\""
            ]
          },
          "metadata": {
            "tags": []
          },
          "execution_count": 25
        }
      ]
    },
    {
      "metadata": {
        "id": "SQva3LqYL9AO",
        "colab_type": "text"
      },
      "cell_type": "markdown",
      "source": [
        "## Question 1b (1.5 point)\n",
        "### 1.a Re-run Model-based attribution model (Section 5), for new Dataset. You need to show your results to get marks.\n",
        "\n",
        "* customer.csv\n",
        "* impression_60.csv\n",
        "* transactions_60.csv"
      ]
    },
    {
      "metadata": {
        "id": "GL1eowcvsq6x",
        "colab_type": "code",
        "colab": {}
      },
      "cell_type": "code",
      "source": [
        "# Data transform step 1: Summary of impressions by user and day.\n",
        "tmp1 = imp_60.drop([\"click\"],axis=1).groupby([\"id\",\"date\",\"channel\"]).size()\n",
        "tmp2 = tmp1.keys().to_frame(index=False)\n",
        "tmp2[\"impr\"] = tmp1.values"
      ],
      "execution_count": 0,
      "outputs": []
    },
    {
      "metadata": {
        "id": "MCo-N1DWsw8s",
        "colab_type": "code",
        "colab": {}
      },
      "cell_type": "code",
      "source": [
        "# Data transform step 2: Adding in users with zero impressions.\n",
        "ids = sorted(set(cust[\"id\"]))\n",
        "dates = sorted(set(imp_60[\"date\"]))\n",
        "channels = sorted(set(imp_60[\"channel\"]))\n",
        "\n",
        "id_list = ids*(len(dates)*len(channels))\n",
        "date_list = list(np.repeat(list(dates),len(ids)))*len(channels)\n",
        "channel_list = np.repeat(list(channels),len(ids)*len(dates))\n",
        "impr_list = 0*(len(dates)*len(ids)*len(channels))\n",
        "\n",
        "tmp3 = pd.DataFrame({\"id\":id_list, \"date\":date_list,\"channel\":channel_list,\"impr\":impr_list})\n",
        "adatal = pd.merge(tmp3, tmp2, how=\"left\", on=[\"id\",\"date\",\"channel\"])\n",
        "adatal = adatal.drop([\"impr_x\"],axis=1)\n",
        "adatal[\"impr_y\"].fillna(0, inplace=True)\n",
        "adatal.rename(columns={\"impr_y\":\"impr\"},inplace=True)\n",
        "adatal[\"impr\"] = adatal[\"impr\"].astype(int)"
      ],
      "execution_count": 0,
      "outputs": []
    },
    {
      "metadata": {
        "id": "qSTqyoBNsyuV",
        "colab_type": "code",
        "outputId": "ed3be4b7-c44d-40e4-da67-4128b983011d",
        "colab": {
          "base_uri": "https://localhost:8080/",
          "height": 355
        }
      },
      "cell_type": "code",
      "source": [
        "# Data transform step 3: Switch to wide format.\n",
        "tmp4 = tmp2.pivot(columns=\"channel\",values=\"impr\")\n",
        "tmp4.fillna(0,inplace=True)\n",
        "tmp4 = tmp4.astype(int)\n",
        "tmp4[\"id\"] = tmp2[\"id\"].values\n",
        "tmp4[\"date\"] = tmp2[\"date\"].values\n",
        "tmp4.rename(columns={\"direct\":\"impr.direct\",\n",
        "                     \"display\":\"impr.display\",\n",
        "                     \"email\":\"impr.email\",\n",
        "                     \"email.holdout\":\"impr.email.holdout\",\n",
        "                     \"social\":\"impr.social\"},\n",
        "            inplace=True)\n",
        "\n",
        "tmp5 = tmp4.groupby([\"id\",\"date\"]).sum()\n",
        "tmp6 = tmp4.groupby([\"id\",\"date\"]).size().keys().to_frame(index=False)\n",
        "tmp7 = pd.DataFrame(data=tmp5.values,columns=[\"impr.direct\",\"impr.display\",\"impr.email\",\"impr.email.holdout\",\"impr.social\"])\n",
        "tmp7[\"id\"] = tmp6[\"id\"].values\n",
        "tmp7[\"date\"] = tmp6[\"date\"].values\n",
        "\n",
        "\n",
        "id_list_2 = ids*len(dates)\n",
        "date_list_2 = list(np.repeat(list(dates),len(ids)))\n",
        "impr_direct_list = 0*(len(dates)*len(ids))\n",
        "impr_display_list = 0*(len(dates)*len(ids))\n",
        "impr_email_list = 0*(len(dates)*len(ids))\n",
        "impr_email_holdout_list = 0*(len(dates)*len(ids))\n",
        "impr_social_list = 0*(len(dates)*len(ids))\n",
        "\n",
        "adata = pd.DataFrame({\"id\":id_list_2, \n",
        "                      \"date\":date_list_2,\n",
        "                      \"impr.direct\":impr_direct_list,\n",
        "                      \"impr.display\":impr_display_list,\n",
        "                      \"impr.email\":impr_email_list,\n",
        "                      \"impr.email.holdout\":impr_email_holdout_list,\n",
        "                      \"impr.social\":impr_social_list})\n",
        "\n",
        "adata = adata.merge(tmp7, how=\"left\", on=[\"id\",\"date\"])\n",
        "\n",
        "adata.fillna(0,inplace=True)\n",
        "adata = adata.drop([\"impr.direct_x\",\n",
        "                    \"impr.display_x\",\n",
        "                    \"impr.email_x\",\n",
        "                    \"impr.email.holdout_x\",\n",
        "                    \"impr.social_x\"],\n",
        "                   axis=1)\n",
        "adata = adata.astype({\"impr.direct_y\":int,\n",
        "                      \"impr.display_y\":int,\n",
        "                      \"impr.email_y\":int,\n",
        "                      \"impr.email.holdout_y\":int,\n",
        "                      \"impr.social_y\":int})\n",
        "\n",
        "adata.rename(columns={\"impr.direct_y\":\"impr.direct\",\n",
        "                      \"impr.display_y\":\"impr.display\",\n",
        "                      \"impr.email_y\":\"impr.email\",\n",
        "                      \"impr.email.holdout_y\":\"impr.email.holdout\",\n",
        "                      \"impr.social_y\":\"impr.social\"},\n",
        "             inplace=True)\n",
        "\n",
        "adata.head(10)"
      ],
      "execution_count": 0,
      "outputs": [
        {
          "output_type": "execute_result",
          "data": {
            "text/html": [
              "<div>\n",
              "<style scoped>\n",
              "    .dataframe tbody tr th:only-of-type {\n",
              "        vertical-align: middle;\n",
              "    }\n",
              "\n",
              "    .dataframe tbody tr th {\n",
              "        vertical-align: top;\n",
              "    }\n",
              "\n",
              "    .dataframe thead th {\n",
              "        text-align: right;\n",
              "    }\n",
              "</style>\n",
              "<table border=\"1\" class=\"dataframe\">\n",
              "  <thead>\n",
              "    <tr style=\"text-align: right;\">\n",
              "      <th></th>\n",
              "      <th>date</th>\n",
              "      <th>id</th>\n",
              "      <th>impr.direct</th>\n",
              "      <th>impr.display</th>\n",
              "      <th>impr.email</th>\n",
              "      <th>impr.email.holdout</th>\n",
              "      <th>impr.social</th>\n",
              "    </tr>\n",
              "  </thead>\n",
              "  <tbody>\n",
              "    <tr>\n",
              "      <th>0</th>\n",
              "      <td>2016-12-31</td>\n",
              "      <td>1</td>\n",
              "      <td>0</td>\n",
              "      <td>0</td>\n",
              "      <td>0</td>\n",
              "      <td>0</td>\n",
              "      <td>0</td>\n",
              "    </tr>\n",
              "    <tr>\n",
              "      <th>1</th>\n",
              "      <td>2016-12-31</td>\n",
              "      <td>2</td>\n",
              "      <td>0</td>\n",
              "      <td>0</td>\n",
              "      <td>0</td>\n",
              "      <td>0</td>\n",
              "      <td>0</td>\n",
              "    </tr>\n",
              "    <tr>\n",
              "      <th>2</th>\n",
              "      <td>2016-12-31</td>\n",
              "      <td>3</td>\n",
              "      <td>0</td>\n",
              "      <td>0</td>\n",
              "      <td>0</td>\n",
              "      <td>0</td>\n",
              "      <td>0</td>\n",
              "    </tr>\n",
              "    <tr>\n",
              "      <th>3</th>\n",
              "      <td>2016-12-31</td>\n",
              "      <td>4</td>\n",
              "      <td>0</td>\n",
              "      <td>0</td>\n",
              "      <td>0</td>\n",
              "      <td>0</td>\n",
              "      <td>0</td>\n",
              "    </tr>\n",
              "    <tr>\n",
              "      <th>4</th>\n",
              "      <td>2016-12-31</td>\n",
              "      <td>5</td>\n",
              "      <td>0</td>\n",
              "      <td>0</td>\n",
              "      <td>0</td>\n",
              "      <td>0</td>\n",
              "      <td>0</td>\n",
              "    </tr>\n",
              "    <tr>\n",
              "      <th>5</th>\n",
              "      <td>2016-12-31</td>\n",
              "      <td>6</td>\n",
              "      <td>0</td>\n",
              "      <td>0</td>\n",
              "      <td>0</td>\n",
              "      <td>0</td>\n",
              "      <td>0</td>\n",
              "    </tr>\n",
              "    <tr>\n",
              "      <th>6</th>\n",
              "      <td>2016-12-31</td>\n",
              "      <td>7</td>\n",
              "      <td>0</td>\n",
              "      <td>0</td>\n",
              "      <td>0</td>\n",
              "      <td>0</td>\n",
              "      <td>0</td>\n",
              "    </tr>\n",
              "    <tr>\n",
              "      <th>7</th>\n",
              "      <td>2016-12-31</td>\n",
              "      <td>8</td>\n",
              "      <td>0</td>\n",
              "      <td>0</td>\n",
              "      <td>0</td>\n",
              "      <td>0</td>\n",
              "      <td>0</td>\n",
              "    </tr>\n",
              "    <tr>\n",
              "      <th>8</th>\n",
              "      <td>2016-12-31</td>\n",
              "      <td>9</td>\n",
              "      <td>0</td>\n",
              "      <td>0</td>\n",
              "      <td>0</td>\n",
              "      <td>0</td>\n",
              "      <td>0</td>\n",
              "    </tr>\n",
              "    <tr>\n",
              "      <th>9</th>\n",
              "      <td>2016-12-31</td>\n",
              "      <td>10</td>\n",
              "      <td>0</td>\n",
              "      <td>0</td>\n",
              "      <td>0</td>\n",
              "      <td>0</td>\n",
              "      <td>0</td>\n",
              "    </tr>\n",
              "  </tbody>\n",
              "</table>\n",
              "</div>"
            ],
            "text/plain": [
              "         date  id  impr.direct  impr.display  impr.email  impr.email.holdout  \\\n",
              "0  2016-12-31   1            0             0           0                   0   \n",
              "1  2016-12-31   2            0             0           0                   0   \n",
              "2  2016-12-31   3            0             0           0                   0   \n",
              "3  2016-12-31   4            0             0           0                   0   \n",
              "4  2016-12-31   5            0             0           0                   0   \n",
              "5  2016-12-31   6            0             0           0                   0   \n",
              "6  2016-12-31   7            0             0           0                   0   \n",
              "7  2016-12-31   8            0             0           0                   0   \n",
              "8  2016-12-31   9            0             0           0                   0   \n",
              "9  2016-12-31  10            0             0           0                   0   \n",
              "\n",
              "   impr.social  \n",
              "0            0  \n",
              "1            0  \n",
              "2            0  \n",
              "3            0  \n",
              "4            0  \n",
              "5            0  \n",
              "6            0  \n",
              "7            0  \n",
              "8            0  \n",
              "9            0  "
            ]
          },
          "metadata": {
            "tags": []
          },
          "execution_count": 28
        }
      ]
    },
    {
      "metadata": {
        "id": "Gqszk3b4s0oP",
        "colab_type": "code",
        "outputId": "35221ac4-e37f-4732-c12c-b6ffc4ef5d72",
        "colab": {
          "base_uri": "https://localhost:8080/",
          "height": 233
        }
      },
      "cell_type": "code",
      "source": [
        "# Data transformation step 4: Add the daily transactions for each user.\n",
        "tmp8 = trans_60.groupby([\"id\",\"date\"]).size()\n",
        "tmp9 = tmp8.keys().to_frame(index=False)\n",
        "tmp9[\"trans\"] = tmp8.values\n",
        "\n",
        "ids_trans = sorted(set(trans_60[\"id\"]))\n",
        "dates_trans = sorted(set(trans_60[\"date\"]))\n",
        "\n",
        "id_trans_list = ids_trans*len(dates_trans)\n",
        "date_trans_list = np.repeat(list(dates_trans),len(ids_trans))\n",
        "trans_list = 0*(len(dates_trans)*len(ids_trans))\n",
        "\n",
        "tmp_trans = pd.DataFrame({\"id\":id_trans_list, \"date\":date_trans_list,\"trans\":trans_list})\n",
        "atrans = pd.merge(tmp_trans, tmp9, how=\"left\", on=[\"id\",\"date\"])\n",
        "atrans = atrans.drop([\"trans_x\"],axis=1)\n",
        "atrans[\"trans_y\"].fillna(0, inplace=True)\n",
        "atrans.rename(columns={\"trans_y\":\"trans\"},inplace=True)\n",
        "atrans[\"trans\"] = atrans[\"trans\"].astype(int)\n",
        "\n",
        "adata_trans = adata.merge(atrans, how=\"left\", on=[\"id\",\"date\"])\n",
        "adata_trans[\"trans\"].fillna(0, inplace=True)\n",
        "adata_trans[\"trans\"] = adata_trans[\"trans\"].astype(int)\n",
        "adata_trans.head(6)"
      ],
      "execution_count": 0,
      "outputs": [
        {
          "output_type": "execute_result",
          "data": {
            "text/html": [
              "<div>\n",
              "<style scoped>\n",
              "    .dataframe tbody tr th:only-of-type {\n",
              "        vertical-align: middle;\n",
              "    }\n",
              "\n",
              "    .dataframe tbody tr th {\n",
              "        vertical-align: top;\n",
              "    }\n",
              "\n",
              "    .dataframe thead th {\n",
              "        text-align: right;\n",
              "    }\n",
              "</style>\n",
              "<table border=\"1\" class=\"dataframe\">\n",
              "  <thead>\n",
              "    <tr style=\"text-align: right;\">\n",
              "      <th></th>\n",
              "      <th>date</th>\n",
              "      <th>id</th>\n",
              "      <th>impr.direct</th>\n",
              "      <th>impr.display</th>\n",
              "      <th>impr.email</th>\n",
              "      <th>impr.email.holdout</th>\n",
              "      <th>impr.social</th>\n",
              "      <th>trans</th>\n",
              "    </tr>\n",
              "  </thead>\n",
              "  <tbody>\n",
              "    <tr>\n",
              "      <th>0</th>\n",
              "      <td>2016-12-31</td>\n",
              "      <td>1</td>\n",
              "      <td>0</td>\n",
              "      <td>0</td>\n",
              "      <td>0</td>\n",
              "      <td>0</td>\n",
              "      <td>0</td>\n",
              "      <td>0</td>\n",
              "    </tr>\n",
              "    <tr>\n",
              "      <th>1</th>\n",
              "      <td>2016-12-31</td>\n",
              "      <td>2</td>\n",
              "      <td>0</td>\n",
              "      <td>0</td>\n",
              "      <td>0</td>\n",
              "      <td>0</td>\n",
              "      <td>0</td>\n",
              "      <td>0</td>\n",
              "    </tr>\n",
              "    <tr>\n",
              "      <th>2</th>\n",
              "      <td>2016-12-31</td>\n",
              "      <td>3</td>\n",
              "      <td>0</td>\n",
              "      <td>0</td>\n",
              "      <td>0</td>\n",
              "      <td>0</td>\n",
              "      <td>0</td>\n",
              "      <td>0</td>\n",
              "    </tr>\n",
              "    <tr>\n",
              "      <th>3</th>\n",
              "      <td>2016-12-31</td>\n",
              "      <td>4</td>\n",
              "      <td>0</td>\n",
              "      <td>0</td>\n",
              "      <td>0</td>\n",
              "      <td>0</td>\n",
              "      <td>0</td>\n",
              "      <td>0</td>\n",
              "    </tr>\n",
              "    <tr>\n",
              "      <th>4</th>\n",
              "      <td>2016-12-31</td>\n",
              "      <td>5</td>\n",
              "      <td>0</td>\n",
              "      <td>0</td>\n",
              "      <td>0</td>\n",
              "      <td>0</td>\n",
              "      <td>0</td>\n",
              "      <td>0</td>\n",
              "    </tr>\n",
              "    <tr>\n",
              "      <th>5</th>\n",
              "      <td>2016-12-31</td>\n",
              "      <td>6</td>\n",
              "      <td>0</td>\n",
              "      <td>0</td>\n",
              "      <td>0</td>\n",
              "      <td>0</td>\n",
              "      <td>0</td>\n",
              "      <td>0</td>\n",
              "    </tr>\n",
              "  </tbody>\n",
              "</table>\n",
              "</div>"
            ],
            "text/plain": [
              "         date  id  impr.direct  impr.display  impr.email  impr.email.holdout  \\\n",
              "0  2016-12-31   1            0             0           0                   0   \n",
              "1  2016-12-31   2            0             0           0                   0   \n",
              "2  2016-12-31   3            0             0           0                   0   \n",
              "3  2016-12-31   4            0             0           0                   0   \n",
              "4  2016-12-31   5            0             0           0                   0   \n",
              "5  2016-12-31   6            0             0           0                   0   \n",
              "\n",
              "   impr.social  trans  \n",
              "0            0      0  \n",
              "1            0      0  \n",
              "2            0      0  \n",
              "3            0      0  \n",
              "4            0      0  \n",
              "5            0      0  "
            ]
          },
          "metadata": {
            "tags": []
          },
          "execution_count": 29
        }
      ]
    },
    {
      "metadata": {
        "id": "IAeuaJJNs3wc",
        "colab_type": "code",
        "outputId": "5f8598da-dba2-4e25-8163-019ca06e09d5",
        "colab": {
          "base_uri": "https://localhost:8080/",
          "height": 233
        }
      },
      "cell_type": "code",
      "source": [
        "# Data transformation step 5: Final tidy up of attribution modeling data.\n",
        "adata_trans[\"date\"] = adata_trans[\"date\"].astype(str)\n",
        "adata_trans = adata_trans.loc[(adata_trans[\"date\"]!=\"2016-12-31\") & (adata_trans[\"date\"]!=\"2017-02-27\")]\n",
        "adata = adata_trans.merge(cust, how=\"left\", on=[\"id\"])\n",
        "adata.rename(columns={\"impr.direct\":\"direct\",\n",
        "                      \"impr.display\":\"display\",\n",
        "                      \"impr.email\":\"email\",\n",
        "                      \"impr.email.holdout\":\"email.holdout\",\n",
        "                      \"impr.social\":\"social\",\n",
        "                      \"trans\":\"trans\",\n",
        "                      \"past.purchase\":\"past.purchase\",\n",
        "                      \"email\":\"has.email\",\n",
        "                      \"direct\":\"has.direct\"},\n",
        "             inplace=True)\n",
        "adata.head(6)"
      ],
      "execution_count": 0,
      "outputs": [
        {
          "output_type": "execute_result",
          "data": {
            "text/html": [
              "<div>\n",
              "<style scoped>\n",
              "    .dataframe tbody tr th:only-of-type {\n",
              "        vertical-align: middle;\n",
              "    }\n",
              "\n",
              "    .dataframe tbody tr th {\n",
              "        vertical-align: top;\n",
              "    }\n",
              "\n",
              "    .dataframe thead th {\n",
              "        text-align: right;\n",
              "    }\n",
              "</style>\n",
              "<table border=\"1\" class=\"dataframe\">\n",
              "  <thead>\n",
              "    <tr style=\"text-align: right;\">\n",
              "      <th></th>\n",
              "      <th>date</th>\n",
              "      <th>id</th>\n",
              "      <th>direct</th>\n",
              "      <th>display</th>\n",
              "      <th>email</th>\n",
              "      <th>email.holdout</th>\n",
              "      <th>social</th>\n",
              "      <th>trans</th>\n",
              "      <th>past.purchase</th>\n",
              "      <th>has.email</th>\n",
              "      <th>has.direct</th>\n",
              "    </tr>\n",
              "  </thead>\n",
              "  <tbody>\n",
              "    <tr>\n",
              "      <th>0</th>\n",
              "      <td>2017-01-01</td>\n",
              "      <td>1</td>\n",
              "      <td>0</td>\n",
              "      <td>0</td>\n",
              "      <td>0</td>\n",
              "      <td>0</td>\n",
              "      <td>1</td>\n",
              "      <td>0</td>\n",
              "      <td>0</td>\n",
              "      <td>0</td>\n",
              "      <td>1</td>\n",
              "    </tr>\n",
              "    <tr>\n",
              "      <th>1</th>\n",
              "      <td>2017-01-01</td>\n",
              "      <td>2</td>\n",
              "      <td>0</td>\n",
              "      <td>0</td>\n",
              "      <td>0</td>\n",
              "      <td>0</td>\n",
              "      <td>0</td>\n",
              "      <td>0</td>\n",
              "      <td>1</td>\n",
              "      <td>1</td>\n",
              "      <td>1</td>\n",
              "    </tr>\n",
              "    <tr>\n",
              "      <th>2</th>\n",
              "      <td>2017-01-01</td>\n",
              "      <td>3</td>\n",
              "      <td>0</td>\n",
              "      <td>0</td>\n",
              "      <td>0</td>\n",
              "      <td>0</td>\n",
              "      <td>0</td>\n",
              "      <td>0</td>\n",
              "      <td>1</td>\n",
              "      <td>1</td>\n",
              "      <td>0</td>\n",
              "    </tr>\n",
              "    <tr>\n",
              "      <th>3</th>\n",
              "      <td>2017-01-01</td>\n",
              "      <td>4</td>\n",
              "      <td>0</td>\n",
              "      <td>0</td>\n",
              "      <td>0</td>\n",
              "      <td>0</td>\n",
              "      <td>0</td>\n",
              "      <td>0</td>\n",
              "      <td>0</td>\n",
              "      <td>0</td>\n",
              "      <td>0</td>\n",
              "    </tr>\n",
              "    <tr>\n",
              "      <th>4</th>\n",
              "      <td>2017-01-01</td>\n",
              "      <td>5</td>\n",
              "      <td>0</td>\n",
              "      <td>1</td>\n",
              "      <td>0</td>\n",
              "      <td>0</td>\n",
              "      <td>0</td>\n",
              "      <td>0</td>\n",
              "      <td>1</td>\n",
              "      <td>1</td>\n",
              "      <td>1</td>\n",
              "    </tr>\n",
              "    <tr>\n",
              "      <th>5</th>\n",
              "      <td>2017-01-01</td>\n",
              "      <td>6</td>\n",
              "      <td>0</td>\n",
              "      <td>0</td>\n",
              "      <td>0</td>\n",
              "      <td>0</td>\n",
              "      <td>0</td>\n",
              "      <td>0</td>\n",
              "      <td>0</td>\n",
              "      <td>0</td>\n",
              "      <td>0</td>\n",
              "    </tr>\n",
              "  </tbody>\n",
              "</table>\n",
              "</div>"
            ],
            "text/plain": [
              "         date  id  direct  display  email  email.holdout  social  trans  \\\n",
              "0  2017-01-01   1       0        0      0              0       1      0   \n",
              "1  2017-01-01   2       0        0      0              0       0      0   \n",
              "2  2017-01-01   3       0        0      0              0       0      0   \n",
              "3  2017-01-01   4       0        0      0              0       0      0   \n",
              "4  2017-01-01   5       0        1      0              0       0      0   \n",
              "5  2017-01-01   6       0        0      0              0       0      0   \n",
              "\n",
              "   past.purchase  has.email  has.direct  \n",
              "0              0          0           1  \n",
              "1              1          1           1  \n",
              "2              1          1           0  \n",
              "3              0          0           0  \n",
              "4              1          1           1  \n",
              "5              0          0           0  "
            ]
          },
          "metadata": {
            "tags": []
          },
          "execution_count": 30
        }
      ]
    },
    {
      "metadata": {
        "id": "1zzqhDtys5sw",
        "colab_type": "code",
        "outputId": "09b7d62e-7a72-40e9-bc7f-80e4d2e76463",
        "colab": {
          "base_uri": "https://localhost:8080/",
          "height": 349
        }
      },
      "cell_type": "code",
      "source": [
        "adata.rename(columns={\"past.purchase\":\"past_purchase\"},inplace=True)\n",
        "m3 = smf.glm(\"trans ~ direct + display + email + social + past_purchase\", data=adata, family=sm.families.Binomial()).fit()\n",
        "adata.rename(columns={\"past_purchase\":\"past.purchase\"},inplace=True)\n",
        "m3.summary()"
      ],
      "execution_count": 0,
      "outputs": [
        {
          "output_type": "execute_result",
          "data": {
            "text/html": [
              "<table class=\"simpletable\">\n",
              "<caption>Generalized Linear Model Regression Results</caption>\n",
              "<tr>\n",
              "  <th>Dep. Variable:</th>        <td>trans</td>      <th>  No. Observations:  </th>   <td>570000</td>  \n",
              "</tr>\n",
              "<tr>\n",
              "  <th>Model:</th>                 <td>GLM</td>       <th>  Df Residuals:      </th>   <td>569994</td>  \n",
              "</tr>\n",
              "<tr>\n",
              "  <th>Model Family:</th>       <td>Binomial</td>     <th>  Df Model:          </th>   <td>     5</td>  \n",
              "</tr>\n",
              "<tr>\n",
              "  <th>Link Function:</th>        <td>logit</td>      <th>  Scale:             </th>     <td>1.0</td>   \n",
              "</tr>\n",
              "<tr>\n",
              "  <th>Method:</th>               <td>IRLS</td>       <th>  Log-Likelihood:    </th>  <td> -60795.</td> \n",
              "</tr>\n",
              "<tr>\n",
              "  <th>Date:</th>           <td>Fri, 29 Mar 2019</td> <th>  Deviance:          </th> <td>1.2159e+05</td>\n",
              "</tr>\n",
              "<tr>\n",
              "  <th>Time:</th>               <td>09:10:10</td>     <th>  Pearson chi2:      </th>  <td>5.61e+05</td> \n",
              "</tr>\n",
              "<tr>\n",
              "  <th>No. Iterations:</th>         <td>8</td>        <th>                     </th>      <td> </td>    \n",
              "</tr>\n",
              "</table>\n",
              "<table class=\"simpletable\">\n",
              "<tr>\n",
              "        <td></td>           <th>coef</th>     <th>std err</th>      <th>z</th>      <th>P>|z|</th>  <th>[0.025</th>    <th>0.975]</th>  \n",
              "</tr>\n",
              "<tr>\n",
              "  <th>Intercept</th>     <td>   -4.4943</td> <td>    0.018</td> <td> -253.187</td> <td> 0.000</td> <td>   -4.529</td> <td>   -4.460</td>\n",
              "</tr>\n",
              "<tr>\n",
              "  <th>direct</th>        <td>    0.2821</td> <td>    0.070</td> <td>    4.025</td> <td> 0.000</td> <td>    0.145</td> <td>    0.419</td>\n",
              "</tr>\n",
              "<tr>\n",
              "  <th>display</th>       <td>    0.1268</td> <td>    0.012</td> <td>   10.386</td> <td> 0.000</td> <td>    0.103</td> <td>    0.151</td>\n",
              "</tr>\n",
              "<tr>\n",
              "  <th>email</th>         <td>    0.6058</td> <td>    0.032</td> <td>   18.677</td> <td> 0.000</td> <td>    0.542</td> <td>    0.669</td>\n",
              "</tr>\n",
              "<tr>\n",
              "  <th>social</th>        <td>    0.2323</td> <td>    0.010</td> <td>   23.167</td> <td> 0.000</td> <td>    0.213</td> <td>    0.252</td>\n",
              "</tr>\n",
              "<tr>\n",
              "  <th>past_purchase</th> <td>    0.9876</td> <td>    0.020</td> <td>   49.369</td> <td> 0.000</td> <td>    0.948</td> <td>    1.027</td>\n",
              "</tr>\n",
              "</table>"
            ],
            "text/plain": [
              "<class 'statsmodels.iolib.summary.Summary'>\n",
              "\"\"\"\n",
              "                 Generalized Linear Model Regression Results                  \n",
              "==============================================================================\n",
              "Dep. Variable:                  trans   No. Observations:               570000\n",
              "Model:                            GLM   Df Residuals:                   569994\n",
              "Model Family:                Binomial   Df Model:                            5\n",
              "Link Function:                  logit   Scale:                             1.0\n",
              "Method:                          IRLS   Log-Likelihood:                -60795.\n",
              "Date:                Fri, 29 Mar 2019   Deviance:                   1.2159e+05\n",
              "Time:                        09:10:10   Pearson chi2:                 5.61e+05\n",
              "No. Iterations:                     8                                         \n",
              "=================================================================================\n",
              "                    coef    std err          z      P>|z|      [0.025      0.975]\n",
              "---------------------------------------------------------------------------------\n",
              "Intercept        -4.4943      0.018   -253.187      0.000      -4.529      -4.460\n",
              "direct            0.2821      0.070      4.025      0.000       0.145       0.419\n",
              "display           0.1268      0.012     10.386      0.000       0.103       0.151\n",
              "email             0.6058      0.032     18.677      0.000       0.542       0.669\n",
              "social            0.2323      0.010     23.167      0.000       0.213       0.252\n",
              "past_purchase     0.9876      0.020     49.369      0.000       0.948       1.027\n",
              "=================================================================================\n",
              "\"\"\""
            ]
          },
          "metadata": {
            "tags": []
          },
          "execution_count": 31
        }
      ]
    },
    {
      "metadata": {
        "id": "weYU2QLKL9AQ",
        "colab_type": "text"
      },
      "cell_type": "markdown",
      "source": [
        "## Question 2 (0.5 point)\n",
        "#### Explain your results in Question 1a, 1b. Especially, report the most significant impression in both the cases."
      ]
    },
    {
      "metadata": {
        "id": "l7UJMZExs9LG",
        "colab_type": "text"
      },
      "cell_type": "markdown",
      "source": [
        "Question 1a: The most significant impression is social impressions, and we get 0.0118 additional transactions for each social impression\n"
      ]
    },
    {
      "metadata": {
        "id": "wBvJBtIas9-I",
        "colab_type": "text"
      },
      "cell_type": "markdown",
      "source": [
        "Question 1b: The most significant impression is email impression "
      ]
    },
    {
      "metadata": {
        "id": "Hpvupkc5L9AR",
        "colab_type": "text"
      },
      "cell_type": "markdown",
      "source": [
        "## Question 3 (1 point)\n",
        "#### Create an insightful plot/Graph/Visualization from the datasets mentioned in this tutorial. You may not use the plots/charts already mentioned in the tutorial, specifically, you need to convey a new message."
      ]
    },
    {
      "metadata": {
        "id": "imUBokvo6ZOT",
        "colab_type": "code",
        "colab": {
          "base_uri": "https://localhost:8080/",
          "height": 749
        },
        "outputId": "495bd060-839a-4a60-f29d-018bb329ea0f"
      },
      "cell_type": "code",
      "source": [
        "from IPython.display import Image\n",
        "Image('Picture1.png')"
      ],
      "execution_count": 4,
      "outputs": [
        {
          "output_type": "execute_result",
          "data": {
            "image/png": "[encoded data removed]",
            "text/plain": [
              "<IPython.core.display.Image object>"
            ]
          },
          "metadata": {
            "tags": []
          },
          "execution_count": 4
        }
      ]
    },
    {
      "metadata": {
        "id": "7FfD0bUxL9AS",
        "colab_type": "text"
      },
      "cell_type": "markdown",
      "source": [
        "## Question 4 (0.5 point)\n",
        "### Please List down incorrect assumptions behind last touch model mentioned in the Lecture."
      ]
    },
    {
      "metadata": {
        "id": "nMieiKK8L9AT",
        "colab_type": "code",
        "colab": {}
      },
      "cell_type": "code",
      "source": [
        "The incorrect assumptions behind last touch model are that other ads might have \n",
        "influenced the customer and contributed to the sale and \n",
        "that the last touch model assumes that customers would not have bought \n",
        "if they had not seen the ads."
      ],
      "execution_count": 0,
      "outputs": []
    }
  ]
}